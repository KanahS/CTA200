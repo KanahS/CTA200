{
 "cells": [
  {
   "cell_type": "code",
   "execution_count": 11,
   "id": "7645171f",
   "metadata": {},
   "outputs": [],
   "source": [
    "import numpy as np\n",
    "import rebound as rb\n",
    "import reboundx as rx\n",
    "import matplotlib.pyplot as plt"
   ]
  },
  {
   "cell_type": "code",
   "execution_count": 23,
   "id": "4b1c23d5",
   "metadata": {},
   "outputs": [],
   "source": [
    "def system_evolution(archive, extras):\n",
    "    \"\"\" \n",
    "    Pulling data from the called upon simulation archive using REBOUND and REBOUNDx to collect evolution of\n",
    "    the secondary binary in the simulation. \n",
    "    \"\"\" # UPDATE THIS DESCRIPTION\n",
    "    sim = None\n",
    "    sim = rx.SimulationArchive(archive, rebxfilename=extras)\n",
    "    sim_time = []\n",
    "    \n",
    "    # SECONDARY BINARY\n",
    "    b2_ecc = []\n",
    "    b2_semi = []\n",
    "    b2_period = []\n",
    "    \n",
    "    for snap in range(len(sim)):\n",
    "        base = sim[snap][0]\n",
    "        time = base.t\n",
    "        \n",
    "        # SECONDARY BINARY        \n",
    "        b2_a = base.particles[\"Binary 2\"].a\n",
    "        b2_e = base.particles[\"Binary 2\"].e\n",
    "        b2_P = base.particles[\"Binary 2\"].P\n",
    "        \n",
    "        b2_ecc.append(b2_e)\n",
    "        b2_semi.append(b2_a)\n",
    "        b2_period.append(b2_P)\n",
    "        sim_time.append(time)\n",
    "\n",
    "    return sim_time, b2_ecc, b2_semi, b2_period"
   ]
  },
  {
   "cell_type": "code",
   "execution_count": 82,
   "id": "bd6874a6",
   "metadata": {},
   "outputs": [],
   "source": [
    "planet_hash = []\n",
    "\n",
    "for num in range(1,16):\n",
    "    planet = f\"Planet {num}\"\n",
    "    planet_hash.append(planet)\n",
    "    \n",
    "#planet_hash"
   ]
  },
  {
   "cell_type": "code",
   "execution_count": 105,
   "id": "9a32db7a",
   "metadata": {},
   "outputs": [
    {
     "name": "stdout",
     "output_type": "stream",
     "text": [
      "Planet 1 <class 'str'>\n",
      "Planet 2 <class 'str'>\n",
      "Planet 3 <class 'str'>\n",
      "Planet 4 <class 'str'>\n",
      "Planet 5 <class 'str'>\n",
      "Planet 6 <class 'str'>\n",
      "Planet 7 <class 'str'>\n",
      "Planet 8 <class 'str'>\n",
      "Planet 9 <class 'str'>\n",
      "Planet 10 <class 'str'>\n",
      "Planet 11 <class 'str'>\n",
      "Planet 12 <class 'str'>\n",
      "Planet 13 <class 'str'>\n",
      "Planet 14 <class 'str'>\n",
      "Planet 15 <class 'str'>\n"
     ]
    }
   ],
   "source": [
    "for planet in planet_hash:\n",
    "    print(planet, type(planet))"
   ]
  },
  {
   "cell_type": "code",
   "execution_count": 114,
   "id": "ff738fb3",
   "metadata": {},
   "outputs": [],
   "source": [
    "def planet_evolution(archive, extras):\n",
    "    \"\"\"\n",
    "    This one includes the planet hashes\n",
    "    USE TRY, EXCEPT STATEMENT\n",
    "    \"\"\"\n",
    "    \n",
    "    sim = None\n",
    "    sim = rx.SimulationArchive(archive, rebxfilename=extras)\n",
    "    \n",
    "    planet_semi = []\n",
    "    planet_ecc = []\n",
    "    sim_time = []\n",
    "    \n",
    "    for planet in planet_hash:\n",
    "        a = []\n",
    "        e = []\n",
    "        t = []\n",
    "        for snap in range(len(sim)):            \n",
    "            try:\n",
    "                base = sim[snap][0]\n",
    "                time = base.t\n",
    "                \n",
    "                plan_a = base.particles[planet].a\n",
    "                plan_e = base.particles[planet].e\n",
    "            \n",
    "                a.append(plan_a)\n",
    "                e.append(plan_e)\n",
    "                t.append(time)\n",
    "                \n",
    "            except: # move onto the next iteration/planet\n",
    "                continue  \n",
    "\n",
    "        planet_semi.append(a)\n",
    "        planet_ecc.append(e)\n",
    "        sim_time.append(t)\n",
    "        \n",
    "    return sim_time, planet_semi, planet_ecc            "
   ]
  },
  {
   "cell_type": "code",
   "execution_count": null,
   "id": "64399f63",
   "metadata": {},
   "outputs": [],
   "source": []
  },
  {
   "cell_type": "code",
   "execution_count": 140,
   "id": "9f4a9db9",
   "metadata": {},
   "outputs": [],
   "source": [
    "e_b = np.linspace(0, 0.8, tup_num)\n",
    "a_p = np.linspace(1, 5, tup_num)"
   ]
  },
  {
   "cell_type": "code",
   "execution_count": 141,
   "id": "ffd910ef",
   "metadata": {},
   "outputs": [
    {
     "data": {
      "text/plain": [
       "2.551"
      ]
     },
     "execution_count": 141,
     "metadata": {},
     "output_type": "execute_result"
    }
   ],
   "source": [
    "a_val = np.round(a_p[19], 3) # INITIAL PLANETARY SEMI-MAJOR AXIS UNDER EVALUATION\n",
    "a_val"
   ]
  },
  {
   "cell_type": "code",
   "execution_count": 142,
   "id": "8d2362c7",
   "metadata": {},
   "outputs": [
    {
     "data": {
      "text/plain": [
       "0.686"
      ]
     },
     "execution_count": 142,
     "metadata": {},
     "output_type": "execute_result"
    }
   ],
   "source": [
    "e_val = np.round(e_b[-8],3) # INITIAL BINARY ECCENTRICITY UNDER EVALUATION\n",
    "e_val"
   ]
  },
  {
   "cell_type": "code",
   "execution_count": null,
   "id": "75c9c428",
   "metadata": {},
   "outputs": [],
   "source": [
    "# TURN THIS INTO A FUNCTION THAT DOES EITHER BINARY OR PLANETS\n",
    "sim_arch_directory = \"/mnt/raid-cita/ksmith/cope/\"\n",
    "xarch = \"/mnt/raid-cita/ksmith/cope/xarchive_single_Qs10.npy\""
   ]
  },
  {
   "cell_type": "code",
   "execution_count": 143,
   "id": "09cf70d5",
   "metadata": {},
   "outputs": [],
   "source": [
    "evolution = []\n",
    "\n",
    "ev = system_evolution(sim_arch_directory+f\"sim_archive_Q10.0_eb{e_val}_ap{a_val}.npy\", xarch)\n",
    "evolution.append(ev)"
   ]
  },
  {
   "cell_type": "code",
   "execution_count": 145,
   "id": "fe6b2cc1",
   "metadata": {},
   "outputs": [
    {
     "data": {
      "text/plain": [
       "([[], [], [], [], [], [], [], [], [], [], [], [], [], [], []],\n",
       " [[], [], [], [], [], [], [], [], [], [], [], [], [], [], []],\n",
       " [[], [], [], [], [], [], [], [], [], [], [], [], [], [], []])"
      ]
     },
     "execution_count": 145,
     "metadata": {},
     "output_type": "execute_result"
    }
   ],
   "source": [
    "planet_evolution(sim_arch_directory+f\"sim_archive_Q10.0_eb{e_val}_ap{a_val}.npy\", xarch)"
   ]
  },
  {
   "cell_type": "code",
   "execution_count": null,
   "id": "773eb12d",
   "metadata": {},
   "outputs": [],
   "source": []
  },
  {
   "cell_type": "code",
   "execution_count": 144,
   "id": "f1f6b06b",
   "metadata": {},
   "outputs": [
    {
     "data": {
      "image/png": "[encoded data removed]",
      "text/plain": [
       "<Figure size 720x720 with 3 Axes>"
      ]
     },
     "metadata": {
      "needs_background": "light"
     },
     "output_type": "display_data"
    }
   ],
   "source": [
    "fig, axs = plt.subplots(3, figsize=(10,10))\n",
    "\n",
    "axs[0].plot(evolution[0][0], evolution[0][1])\n",
    "axs[0].scatter(evolution[0][0], evolution[0][1])\n",
    "axs[0].set_title(f\"Binary Eccentricity w/ eb_initial = {e_val} and Q = {1e1}\")\n",
    "axs[0].set_ylabel(\"Eccentricity\")\n",
    "\n",
    "axs[1].plot(evolution[0][0], evolution[0][2])\n",
    "axs[1].scatter(evolution[0][0], evolution[0][2])\n",
    "axs[1].set_title(f\"Binary Semi-Major Axis w/ ab_initial = 1 and Q = {1e1}\")\n",
    "axs[1].set_ylabel(\"Semi-Major Axis\")\n",
    "\n",
    "axs[2].plot(evolution[0][0], evolution[0][3])\n",
    "axs[2].scatter(evolution[0][0], evolution[0][3])\n",
    "axs[2].set_title(f\"Binary Period w/ ab_initial = 1, eb_initial = {e_val}, and Q = {1e1}\")\n",
    "axs[2].set_ylabel(\"Period\")\n",
    "\n",
    "# SHARE X AXIS\n",
    "# LABEL X AND Y AXES\n",
    "plt.subplots_adjust(hspace=0.3)"
   ]
  },
  {
   "cell_type": "code",
   "execution_count": null,
   "id": "c7e99831",
   "metadata": {},
   "outputs": [],
   "source": []
  },
  {
   "cell_type": "code",
   "execution_count": 8,
   "id": "85daba5f",
   "metadata": {},
   "outputs": [],
   "source": [
    "test = binary_ev(\"/mnt/raid-cita/ksmith/cope/sim_archive_Q10.0_eb0.800_ap2.551.npy\", \"/mnt/raid-cita/ksmith/cope/xarchive_single_Qs10.npy\")\n",
    "#test"
   ]
  },
  {
   "cell_type": "code",
   "execution_count": null,
   "id": "f39fce40",
   "metadata": {},
   "outputs": [],
   "source": []
  },
  {
   "cell_type": "code",
   "execution_count": null,
   "id": "0168c2ea",
   "metadata": {},
   "outputs": [],
   "source": []
  },
  {
   "cell_type": "code",
   "execution_count": null,
   "id": "984c7212",
   "metadata": {},
   "outputs": [],
   "source": []
  },
  {
   "cell_type": "code",
   "execution_count": null,
   "id": "d42b83b2",
   "metadata": {},
   "outputs": [],
   "source": [
    "#fig, ax = plt.subplots(1, Nq, figsize=(40,8), sharey=True)#, constrained_layout=True)\n",
    "#ax = ax.ravel()"
   ]
  },
  {
   "cell_type": "code",
   "execution_count": null,
   "id": "84751eda",
   "metadata": {},
   "outputs": [],
   "source": []
  },
  {
   "cell_type": "code",
   "execution_count": null,
   "id": "656e749b",
   "metadata": {},
   "outputs": [],
   "source": [
    "\n",
    "\n",
    "# file = \"/mnt/raid-cita/ksmith/cste/raw_surv_time_Q{:.1f}_eb{:.3f}_ap{:.3f}.npy\"\n",
    "# raw_surv_time_Q10.0_eb0.082_ap2.469.npy"
   ]
  },
  {
   "cell_type": "code",
   "execution_count": null,
   "id": "c5e2c8fe",
   "metadata": {},
   "outputs": [],
   "source": [
    "def planetary_ev(archive, extras):\n",
    "    \"\"\"\n",
    "    Pulling data from the called upon simulation archive using REBOUND and REBOUNDx to collect evolution of\n",
    "    the planets in the simulation.\n",
    "    \"\"\"\n",
    "    sim = None\n",
    "    sim = rx.SimulationArchive(archive, rebxfilename=extras)\n",
    "    #sim_time = []\n",
    "    \n",
    "    Np = 15\n",
    "    planet_ecc = []\n",
    "    planet_semi = []    \n",
    "    \n",
    "    for planet in range(2, Np+1):\n",
    "        time = []\n",
    "        eccentricity = []\n",
    "        semi_major = []\n",
    "        \n",
    "        for snap in range(len(sim)):\n",
    "            t = sim[snap][0].t\n",
    "            base = sim[snap][0].particles[planet]\n",
    "            ecc = base.e\n",
    "            semi = base.a\n",
    "            \n",
    "            time.append(t)\n",
    "            eccentricity.append(ecc)\n",
    "            semi_major.append(semi)\n",
    "        \n",
    "        planet_ecc.append([time,eccentricity])\n",
    "        planet_semi.append([time, semi_major])\n",
    "        \n",
    "    return planet_ecc, planet_semi"
   ]
  }
 ],
 "metadata": {
  "kernelspec": {
   "display_name": "Python 3 (ipykernel)",
   "language": "python",
   "name": "python3"
  },
  "language_info": {
   "codemirror_mode": {
    "name": "ipython",
    "version": 3
   },
   "file_extension": ".py",
   "mimetype": "text/x-python",
   "name": "python",
   "nbconvert_exporter": "python",
   "pygments_lexer": "ipython3",
   "version": "3.10.2"
  }
 },
 "nbformat": 4,
 "nbformat_minor": 5
}
