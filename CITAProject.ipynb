{
 "cells": [
  {
   "cell_type": "code",
   "execution_count": 1,
   "metadata": {},
   "outputs": [],
   "source": [
    "import math\n",
    "import numpy as np\n",
    "import matplotlib \n",
    "import matplotlib.pyplot as plt\n",
    "import rebound as rb"
   ]
  },
  {
   "cell_type": "code",
   "execution_count": 2,
   "metadata": {},
   "outputs": [
    {
     "data": {
      "text/plain": [
       "'Intro to Rebound'"
      ]
     },
     "execution_count": 2,
     "metadata": {},
     "output_type": "execute_result"
    }
   ],
   "source": [
    "\"\"\"Intro to Rebound\"\"\""
   ]
  },
  {
   "cell_type": "code",
   "execution_count": 3,
   "metadata": {},
   "outputs": [],
   "source": [
    "\"\"\"Question 2\"\"\"\n",
    "\n",
    "sim = rb.Simulation()\n",
    "\n",
    "sim.move_to_com()\n",
    "sim.integrator = \"whfast\"\n",
    "\n",
    "sim.add(m=1, hash=\"Binary 1\")\n",
    "sim.add(m=1, a=1, e= 0.1, hash=\"Binary 2\", f=np.random.rand()*2*np.pi)\n",
    "sim.add(a=2.5, e= 0.4, hash=\"Test Planet\", f=np.random.rand()*2*np.pi)\n",
    "\n",
    "spec_int = np.pi # half of one full orbit\n",
    "sim.initSimulationArchive(\"Section2Q2.bin\", interval = spec_int)\n",
    "\n",
    "N_orbit = 6*np.pi #3 full orbits\n",
    "\n",
    "sim.integrate(N_orbit, exact_finish_time=0) #setting flag to integrate up to timestep nearest to endtime\n",
    "sim.dt = 1e-3\n",
    "\n",
    "sim.exit_max_distance = 4*1"
   ]
  },
  {
   "cell_type": "code",
   "execution_count": 4,
   "metadata": {
    "scrolled": true
   },
   "outputs": [
    {
     "name": "stdout",
     "output_type": "stream",
     "text": [
      "---------------------------------\n",
      "REBOUND version:     \t3.5.13\n",
      "REBOUND built on:    \tApr 23 2018 14:26:51\n",
      "Number of particles: \t3\n",
      "Selected integrator: \twhfast\n",
      "Simulation time:     \t1.8850000000001419e+01\n",
      "Current timestep:    \t0.001000\n",
      "---------------------------------\n",
      "<rebound.Particle object, m=1.0 x=11.833167748516802 y=6.634061226379687 z=0.0 vx=1.1020707168291786 vy=-0.21612865245577711 vz=0.0>\n",
      "<rebound.Particle object, m=1.0 x=12.526882363995547 y=7.2393024494335645 z=0.0 vx=0.16765213261591827 vy=0.9970158631931711 vz=0.0>\n",
      "<rebound.Particle object, m=0.0 x=17.429162203620912 y=-2.850351687813143 z=0.0 vx=1.3253912960164955 vy=-0.45613549573884743 vz=0.0>\n",
      "---------------------------------\n"
     ]
    }
   ],
   "source": [
    "sim.status()\n",
    "# help(rb.Simulation.initSimulationArchive)"
   ]
  },
  {
   "cell_type": "code",
   "execution_count": 5,
   "metadata": {},
   "outputs": [],
   "source": [
    "\"\"\"Question 3\"\"\"\n",
    "\n",
    "sim2 = rb.Simulation()\n",
    "\n",
    "sim2.move_to_com()\n",
    "sim2.integrator = \"whfast\"\n",
    "\n",
    "sim2.add(m=1, hash=\"Binary 1\")\n",
    "sim2.add(m=1, hash=\"Binary 2\", a=1, e=0.5)\n",
    "sim2.add(hash=\"Planet\", a=4, e=0)\n",
    "\n",
    "N2_orbit = 10*2*np.pi\n",
    "sim2.dt = 1e-3"
   ]
  },
  {
   "cell_type": "code",
   "execution_count": 6,
   "metadata": {},
   "outputs": [
    {
     "name": "stdout",
     "output_type": "stream",
     "text": [
      "---------------------------------\n",
      "REBOUND version:     \t3.5.13\n",
      "REBOUND built on:    \tApr 23 2018 14:26:51\n",
      "Number of particles: \t3\n",
      "Selected integrator: \twhfast\n",
      "Simulation time:     \t0.0000000000000000e+00\n",
      "Current timestep:    \t0.001000\n",
      "---------------------------------\n",
      "<rebound.Particle object, m=1.0 x=0.0 y=0.0 z=0.0 vx=0.0 vy=0.0 vz=0.0>\n",
      "<rebound.Particle object, m=1.0 x=0.5 y=0.0 z=0.0 vx=0.0 vy=2.449489742783178 vz=0.0>\n",
      "<rebound.Particle object, m=0.0 x=4.25 y=0.0 z=0.0 vx=0.0 vy=1.9318516525781364 vz=0.0>\n",
      "---------------------------------\n"
     ]
    }
   ],
   "source": [
    "sim2.status()"
   ]
  },
  {
   "cell_type": "code",
   "execution_count": 7,
   "metadata": {},
   "outputs": [
    {
     "data": {
      "image/png": "[encoded data removed]",
      "text/plain": [
       "<Figure size 360x360 with 1 Axes>"
      ]
     },
     "metadata": {},
     "output_type": "display_data"
    }
   ],
   "source": [
    "%matplotlib inline\n",
    "\n",
    "fig = rb.OrbitPlot(sim2)\n",
    "plt.savefig('orbitalplot.pdf')"
   ]
  },
  {
   "cell_type": "code",
   "execution_count": 8,
   "metadata": {
    "scrolled": true
   },
   "outputs": [
    {
     "data": {
      "text/plain": [
       "Text(0.5, 1.0, 'Manual Orbital Plot')"
      ]
     },
     "execution_count": 8,
     "metadata": {},
     "output_type": "execute_result"
    },
    {
     "data": {
      "image/png": "[encoded data removed]",
      "text/plain": [
       "<Figure size 432x288 with 1 Axes>"
      ]
     },
     "metadata": {},
     "output_type": "display_data"
    }
   ],
   "source": [
    "particles2 = sim2.particles\n",
    "fig, ax = plt.subplots()\n",
    "ax.plot()\n",
    "\n",
    "torb = 6*np.pi\n",
    "Noutputs = 100\n",
    "times = np.linspace(0, torb, Noutputs)\n",
    "\n",
    "b1x = []\n",
    "b1y = []\n",
    "\n",
    "b2x = []\n",
    "b2y = []\n",
    "\n",
    "px = []\n",
    "py = []\n",
    "\n",
    "\n",
    "sim2.move_to_com()\n",
    "for i, time in enumerate(times):\n",
    "    sim2.integrate(time,exact_finish_time=0)\n",
    "    b1x.append(particles2[0].x)\n",
    "    b1y.append(particles2[0].y)\n",
    "    b2x.append(particles2[1].x)\n",
    "    b2y.append(particles2[1].y)\n",
    "    px.append(particles2[2].x)\n",
    "    py.append(particles2[2].y)\n",
    "\n",
    "plt.plot(b1x,b1y, color='green')\n",
    "plt.plot(b2x,b2y, color='cyan')\n",
    "plt.plot(px,py, color='pink')   \n",
    "plt.xlabel(\"x\")\n",
    "plt.ylabel(\"y\")\n",
    "plt.title(\"Manual Orbital Plot\")\n",
    "\n",
    "#plt.savefig('manualorbit.png')"
   ]
  },
  {
   "cell_type": "code",
   "execution_count": 9,
   "metadata": {},
   "outputs": [
    {
     "name": "stdout",
     "output_type": "stream",
     "text": [
      "---------------------------------\n",
      "REBOUND version:     \t3.5.13\n",
      "REBOUND built on:    \tApr 23 2018 14:26:51\n",
      "Number of particles: \t3\n",
      "Selected integrator: \twhfast\n",
      "Simulation time:     \t1.8850000000001419e+01\n",
      "Current timestep:    \t0.001000\n",
      "---------------------------------\n",
      "<rebound.Particle object, m=1.0 x=0.45043090883256565 y=-0.3966996194709873 z=0.0 vx=0.5396460230574781 vy=0.20449050907872746 vz=0.0>\n",
      "<rebound.Particle object, m=1.0 x=-0.45043090883256565 y=0.3966996194709873 z=0.0 vx=-0.5396460230574781 vy=-0.20449050907872746 vz=0.0>\n",
      "<rebound.Particle object, m=0.0 x=-3.334454273134022 y=-1.6184443663687054 z=0.0 vx=0.3211629737155257 vy=-0.692784278538448 vz=0.0>\n",
      "---------------------------------\n"
     ]
    }
   ],
   "source": [
    "sim2.status()"
   ]
  },
  {
   "cell_type": "code",
   "execution_count": 10,
   "metadata": {},
   "outputs": [
    {
     "data": {
      "text/plain": [
       "'Classic Results'"
      ]
     },
     "execution_count": 10,
     "metadata": {},
     "output_type": "execute_result"
    }
   ],
   "source": [
    "\"\"\"Classic Results\"\"\""
   ]
  },
  {
   "cell_type": "code",
   "execution_count": 11,
   "metadata": {},
   "outputs": [],
   "source": [
    "\"\"\" Question 1\"\"\"\n",
    "\n",
    "# tuples are of order (e_b, a_p) binary eccentricity \n",
    "# and planetary semi-major axis\n",
    "tup1 = (0.0, 1.0)\n",
    "tup2 = (0.175, 2.0)\n",
    "tup3 = (0.35, 3.0)\n",
    "tup4 = (0.525, 4.0)\n",
    "tup5 = (0.7, 5.0)\n",
    "\n",
    "tup_list = (tup1, tup2, tup3, tup4, tup5)\n",
    "\n",
    "survival_times = []\n",
    "\n",
    "def survival(tuple):\n",
    "    sim3 = rb.Simulation()\n",
    "    sim3.move_to_com()\n",
    "    sim3.dt = 1e-3\n",
    "    \n",
    "    N_orbit = (10e1)*2*np.pi\n",
    "    sim3.add(m=1, hash=\"Binary 1\")\n",
    "    sim3.add(m=1, a=1, e=tuple[0], hash=\"Binary 2\", f=np.random.rand()*2*np.pi)\n",
    "    sim3.add(a=tuple[1], e=0, hash=\"Test Planet\", f=np.random.rand()*2*np.pi)\n",
    "    \n",
    "    sim3.integrate(N_orbit, exact_finish_time=0)\n",
    "    \n",
    "    if tuple[0] == round(sim3.particles[1].e, 3): \n",
    "        survival_times.append(sim3.particles[2].P)\n",
    "        \n",
    "    if tuple[1] == round(sim3.particles[2].a):\n",
    "        survival_times.append(sim.particles[2].P)\n",
    "        \n",
    "    return survival_times"
   ]
  },
  {
   "cell_type": "code",
   "execution_count": 12,
   "metadata": {},
   "outputs": [],
   "source": [
    "pool = rb.InterruptiblePool(10)"
   ]
  },
  {
   "cell_type": "code",
   "execution_count": 13,
   "metadata": {},
   "outputs": [
    {
     "data": {
      "text/plain": [
       "[[-8.218545794063495],\n",
       " [-12.200291457732984],\n",
       " [441.85975890381246],\n",
       " [34.13774448795459, -16.518234436671847],\n",
       " [47.86018734575048, -16.518234436671847]]"
      ]
     },
     "execution_count": 13,
     "metadata": {},
     "output_type": "execute_result"
    }
   ],
   "source": [
    "pool.map(func= survival, iterable= tup_list)"
   ]
  },
  {
   "cell_type": "code",
   "execution_count": 14,
   "metadata": {},
   "outputs": [],
   "source": [
    "# last section for part 3, need to figure out how to get all 10 points for pool.map\n",
    "#fig = plt.figure()\n",
    "#plt.pcolormesh"
   ]
  },
  {
   "cell_type": "code",
   "execution_count": 15,
   "metadata": {},
   "outputs": [],
   "source": [
    "# help(rb.InterruptiblePool.map)\n",
    "# sim3.InterruptiblePool.map(self, func that i create, interable (tuple maybe))"
   ]
  }
 ],
 "metadata": {
  "kernelspec": {
   "display_name": "Python 3",
   "language": "python",
   "name": "python3"
  },
  "language_info": {
   "codemirror_mode": {
    "name": "ipython",
    "version": 3
   },
   "file_extension": ".py",
   "mimetype": "text/x-python",
   "name": "python",
   "nbconvert_exporter": "python",
   "pygments_lexer": "ipython3",
   "version": "3.6.4"
  }
 },
 "nbformat": 4,
 "nbformat_minor": 2
}
