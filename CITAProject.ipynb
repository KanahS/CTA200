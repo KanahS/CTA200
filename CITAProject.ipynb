{
 "cells": [
  {
   "cell_type": "code",
   "execution_count": 6,
   "metadata": {},
   "outputs": [],
   "source": [
    "import math\n",
    "import numpy as np\n",
    "import matplotlib \n",
    "import matplotlib.pyplot as plt\n",
    "import rebound as rb"
   ]
  },
  {
   "cell_type": "code",
   "execution_count": 7,
   "metadata": {},
   "outputs": [
    {
     "data": {
      "text/plain": [
       "'Intro to Rebound'"
      ]
     },
     "execution_count": 7,
     "metadata": {},
     "output_type": "execute_result"
    }
   ],
   "source": [
    "\"\"\"Intro to Rebound\"\"\""
   ]
  },
  {
   "cell_type": "code",
   "execution_count": 8,
   "metadata": {},
   "outputs": [],
   "source": [
    "\"\"\"Question 2\"\"\"\n",
    "\n",
    "sim = rb.Simulation()\n",
    "\n",
    "sim.move_to_com()\n",
    "sim.integrator = \"whfast\"\n",
    "\n",
    "sim.add(m=1, hash=\"Binary 1\")\n",
    "sim.add(m=1, a=1, e= 0.1, hash=\"Binary 2\", f=np.random.rand()*2*np.pi)\n",
    "sim.add(a=2.5, e= 0.4, hash=\"Test Planet\", f=np.random.rand()*2*np.pi)\n",
    "\n",
    "spec_int = np.pi # half of one full orbit\n",
    "sim.initSimulationArchive(\"Section2Q2.bin\", interval = spec_int)\n",
    "\n",
    "N_orbit = 6*np.pi #3 full orbits\n",
    "\n",
    "sim.integrate(N_orbit, exact_finish_time=0) #setting flag to integrate up to timestep nearest to endtime\n",
    "sim.dt = 1e-3\n",
    "\n",
    "sim.exit_max_distance = 4*1"
   ]
  },
  {
   "cell_type": "code",
   "execution_count": 20,
   "metadata": {},
   "outputs": [
    {
     "name": "stdout",
     "output_type": "stream",
     "text": [
      "True\n"
     ]
    }
   ],
   "source": [
    "print(sim.particles[1].a // 1 == 1)"
   ]
  },
  {
   "cell_type": "code",
   "execution_count": 35,
   "metadata": {},
   "outputs": [
    {
     "data": {
      "text/plain": [
       "4.442882938158615"
      ]
     },
     "execution_count": 35,
     "metadata": {},
     "output_type": "execute_result"
    }
   ],
   "source": [
    "sim.particles[1].P"
   ]
  },
  {
   "cell_type": "code",
   "execution_count": 4,
   "metadata": {
    "scrolled": true
   },
   "outputs": [
    {
     "name": "stdout",
     "output_type": "stream",
     "text": [
      "---------------------------------\n",
      "REBOUND version:     \t3.5.13\n",
      "REBOUND built on:    \tApr 23 2018 14:26:51\n",
      "Number of particles: \t3\n",
      "Selected integrator: \twhfast\n",
      "Simulation time:     \t1.8850000000001419e+01\n",
      "Current timestep:    \t0.001000\n",
      "---------------------------------\n",
      "<rebound.Particle object, m=1.0 x=8.626981521532466 y=10.995866996961086 z=0.0 vx=1.0938070517592002 vy=0.2508569432862644 vz=0.0>\n",
      "<rebound.Particle object, m=1.0 x=9.02754862761307 y=11.857225369873808 z=0.0 vx=-0.1949872316796457 vy=0.9923331564756852 vz=0.0>\n",
      "<rebound.Particle object, m=0.0 x=-1.9968257015920319 y=17.066343017721074 z=0.0 vx=-0.05630794504318415 vy=0.6689865040413686 vz=0.0>\n",
      "---------------------------------\n"
     ]
    }
   ],
   "source": [
    "sim.status()\n",
    "# help(rb.Simulation.initSimulationArchive)"
   ]
  },
  {
   "cell_type": "code",
   "execution_count": 5,
   "metadata": {},
   "outputs": [],
   "source": [
    "s1_archive = rb.SimulationArchive(\"Section2Q2.bin\")"
   ]
  },
  {
   "cell_type": "code",
   "execution_count": 6,
   "metadata": {},
   "outputs": [],
   "source": [
    "\"\"\"Question 3\"\"\"\n",
    "\n",
    "sim2 = rb.Simulation()\n",
    "\n",
    "sim2.move_to_com()\n",
    "sim2.integrator = \"whfast\"\n",
    "\n",
    "sim2.add(m=1, hash=\"Binary 1\")\n",
    "sim2.add(m=1, hash=\"Binary 2\", a=1, e=0.5)\n",
    "sim2.add(hash=\"Planet\", a=4, e=0)\n",
    "\n",
    "N2_orbit = 10*2*np.pi\n",
    "sim2.dt = 1e-3"
   ]
  },
  {
   "cell_type": "code",
   "execution_count": 7,
   "metadata": {},
   "outputs": [
    {
     "name": "stdout",
     "output_type": "stream",
     "text": [
      "---------------------------------\n",
      "REBOUND version:     \t3.5.13\n",
      "REBOUND built on:    \tApr 23 2018 14:26:51\n",
      "Number of particles: \t3\n",
      "Selected integrator: \twhfast\n",
      "Simulation time:     \t0.0000000000000000e+00\n",
      "Current timestep:    \t0.001000\n",
      "---------------------------------\n",
      "<rebound.Particle object, m=1.0 x=0.0 y=0.0 z=0.0 vx=0.0 vy=0.0 vz=0.0>\n",
      "<rebound.Particle object, m=1.0 x=0.5 y=0.0 z=0.0 vx=0.0 vy=2.449489742783178 vz=0.0>\n",
      "<rebound.Particle object, m=0.0 x=4.25 y=0.0 z=0.0 vx=0.0 vy=1.9318516525781364 vz=0.0>\n",
      "---------------------------------\n"
     ]
    }
   ],
   "source": [
    "sim2.status()"
   ]
  },
  {
   "cell_type": "code",
   "execution_count": 8,
   "metadata": {},
   "outputs": [
    {
     "data": {
      "image/png": "[encoded data removed]",
      "text/plain": [
       "<Figure size 360x360 with 1 Axes>"
      ]
     },
     "metadata": {},
     "output_type": "display_data"
    }
   ],
   "source": [
    "%matplotlib inline\n",
    "\n",
    "fig = rb.OrbitPlot(sim2)"
   ]
  },
  {
   "cell_type": "code",
   "execution_count": 9,
   "metadata": {
    "scrolled": true
   },
   "outputs": [
    {
     "data": {
      "text/plain": [
       "[<matplotlib.lines.Line2D at 0x7f3e9f950470>]"
      ]
     },
     "execution_count": 9,
     "metadata": {},
     "output_type": "execute_result"
    },
    {
     "data": {
      "image/png": "[encoded data removed]",
      "text/plain": [
       "<Figure size 432x288 with 1 Axes>"
      ]
     },
     "metadata": {},
     "output_type": "display_data"
    }
   ],
   "source": [
    "particles2 = sim2.particles\n",
    "fig, ax = plt.subplots()\n",
    "ax.plot()\n",
    "\n",
    "#plt.xlim([-10,10])\n",
    "#plt.ylim([-10,10])\n",
    "\n",
    "torb = 6*np.pi\n",
    "Noutputs = 100\n",
    "times = np.linspace(0, torb, Noutputs)\n",
    "\n",
    "b1x = []\n",
    "b1y = []\n",
    "\n",
    "b2x = []\n",
    "b2y = []\n",
    "\n",
    "px = []\n",
    "py = []\n",
    "\n",
    "sim2.move_to_com()\n",
    "for i, time in enumerate(times):\n",
    "    sim2.integrate(time,exact_finish_time=0)\n",
    "    b1x.append(particles2[0].x)\n",
    "    b1y.append(particles2[0].y)\n",
    "    b2x.append(particles2[1].x)\n",
    "    b2y.append(particles2[1].y)\n",
    "    px.append(particles2[2].x)\n",
    "    py.append(particles2[2].y)\n",
    "\n",
    "plt.plot(b1x,b1y, color='green')\n",
    "plt.plot(b2x,b2y, color='cyan')\n",
    "plt.plot(px,py, color='pink')   "
   ]
  },
  {
   "cell_type": "code",
   "execution_count": 13,
   "metadata": {},
   "outputs": [
    {
     "name": "stdout",
     "output_type": "stream",
     "text": [
      "---------------------------------\n",
      "REBOUND version:     \t3.5.13\n",
      "REBOUND built on:    \tApr 23 2018 14:26:51\n",
      "Number of particles: \t3\n",
      "Selected integrator: \twhfast\n",
      "Simulation time:     \t1.8850000000001419e+01\n",
      "Current timestep:    \t0.001000\n",
      "---------------------------------\n",
      "<rebound.Particle object, m=1.0 x=0.45043090883256565 y=-0.3966996194709873 z=0.0 vx=0.5396460230574781 vy=0.20449050907872746 vz=0.0>\n",
      "<rebound.Particle object, m=1.0 x=-0.45043090883256565 y=0.3966996194709873 z=0.0 vx=-0.5396460230574781 vy=-0.20449050907872746 vz=0.0>\n",
      "<rebound.Particle object, m=0.0 x=-3.334454273134022 y=-1.6184443663687054 z=0.0 vx=0.3211629737155257 vy=-0.692784278538448 vz=0.0>\n",
      "---------------------------------\n"
     ]
    }
   ],
   "source": [
    "#print(particles2[0].x)\n",
    "\n",
    "sim2.status()"
   ]
  },
  {
   "cell_type": "code",
   "execution_count": 15,
   "metadata": {},
   "outputs": [
    {
     "name": "stdout",
     "output_type": "stream",
     "text": [
      "My manually made plot compared to REBOUNDs OrbitPlot  differs as it can show me the orbit of the first binary star, which in OrbitPlot serves as the center and therefore everything orbits around that central body.\n",
      "If I set the ration of the semi-major axes (ap/ab) to 3, changing ap from 4 to 3, has no affect on the binary pair since the planet is a test particle planet with no mass and therfore no gravitational influence.\n"
     ]
    }
   ],
   "source": [
    "print(\"My manually made plot compared to REBOUNDs OrbitPlot  differs as it can show me the orbit of the first binary star, which in OrbitPlot serves as the center and therefore everything orbits around that central body.\")\n",
    "\n",
    "print(\"If I set the ration of the semi-major axes (ap/ab) to 3, changing ap from 4 to 3, has no affect on the binary pair since the planet is a test particle planet with no mass and therfore no gravitational influence.\")"
   ]
  },
  {
   "cell_type": "code",
   "execution_count": 16,
   "metadata": {},
   "outputs": [
    {
     "data": {
      "text/plain": [
       "'Classic Results'"
      ]
     },
     "execution_count": 16,
     "metadata": {},
     "output_type": "execute_result"
    }
   ],
   "source": [
    "\"\"\"Classic Results\"\"\""
   ]
  },
  {
   "cell_type": "code",
   "execution_count": null,
   "metadata": {},
   "outputs": [],
   "source": [
    "\"\"\" Question 1\"\"\"\n",
    "\n",
    "survival_times = []\n",
    "\n",
    "# tuples are of order (e_b, a_p) binary eccentricity \n",
    "# and planetary semi-major axis\n",
    "\n",
    "tup1 = (0, 1)\n",
    "tup2 = (0.175, 2)\n",
    "tup3 = (0.35, 3)\n",
    "tup4 = (0.525, 4)\n",
    "tup5 = (0.7, 5)\n",
    "\n",
    "sim3 = rb.Simulation()\n",
    "sim3.move_to_com()\n",
    "sim3.integrator = \"whfast\"\n",
    "sim3.dt = 1e-3\n",
    "\n",
    "def survival(tuple):\n",
    "    reset = setupSimulation() #resetting the simulation each time the function is called\n",
    "    \n",
    "    N_orbit = (10e2)*2*np.pi\n",
    "    sim3.add(m=1, hash=\"Binary 1\")\n",
    "    sim3.add(m=1, a=1, e= tuple[0], hash=\"Binary 2\", f=np.random.rand()*2*np.pi)\n",
    "    sim3.add(a=tuple[1], e=0, hash=\"Test Planet\", f=np.random.rand()*2*np.pi)\n",
    "    \n",
    "    sim3 = integrate(N_orbit, exact_finish_time=0)\n",
    "    \n",
    "    if sim3.particles[1].e//tuple[0] == 1 and sim3.particles[2].a//tuple[1] == 1:\n",
    "        survival_times.append([sim3.particles[2].P])\n",
    "        \n",
    "    # possible else statement\n",
    "    return survival_times"
   ]
  },
  {
   "cell_type": "code",
   "execution_count": 5,
   "metadata": {},
   "outputs": [
    {
     "name": "stdout",
     "output_type": "stream",
     "text": [
      "Help on function map in module rebound.interruptible_pool:\n",
      "\n",
      "map(self, func, iterable, chunksize=None)\n",
      "    Equivalent of ``map()`` built-in, without swallowing\n",
      "    ``KeyboardInterrupt``.\n",
      "    \n",
      "    :param func:\n",
      "        The function to apply to the items.\n",
      "    \n",
      "    :param iterable:\n",
      "        An iterable of items that will have `func` applied to them.\n",
      "\n"
     ]
    }
   ],
   "source": [
    "help(rb.InterruptiblePool.map)\n",
    "# sim3.InterruptiblePool.map(self, func that i create, interable (tuple maybe))"
   ]
  },
  {
   "cell_type": "code",
   "execution_count": null,
   "metadata": {},
   "outputs": [],
   "source": []
  }
 ],
 "metadata": {
  "kernelspec": {
   "display_name": "Python 3",
   "language": "python",
   "name": "python3"
  },
  "language_info": {
   "codemirror_mode": {
    "name": "ipython",
    "version": 3
   },
   "file_extension": ".py",
   "mimetype": "text/x-python",
   "name": "python",
   "nbconvert_exporter": "python",
   "pygments_lexer": "ipython3",
   "version": "3.6.4"
  }
 },
 "nbformat": 4,
 "nbformat_minor": 2
}
