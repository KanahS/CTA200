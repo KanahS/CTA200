{
 "cells": [
  {
   "cell_type": "code",
   "execution_count": 2,
   "metadata": {},
   "outputs": [],
   "source": [
    "import math\n",
    "import numpy as np\n",
    "import matplotlib \n",
    "import matplotlib.pyplot as plt\n",
    "import rebound as rb"
   ]
  },
  {
   "cell_type": "code",
   "execution_count": null,
   "metadata": {},
   "outputs": [],
   "source": [
    "\"\"\"Intro to Rebound\"\"\"\n",
    "\n",
    "\"\"\"Question 2\"\"\"\n",
    "\n",
    "sim = rb.Simulation()\n",
    "\n",
    "sim.move_to_com()\n",
    "sim.integrator = \"whfast\"\n",
    "\n",
    "sim.add(m=1, r=3, hash=\"Binary 1\")\n",
    "sim.add(m=1, a=1, e= 0.1, r=2, hash=\"Binary 2\", f=np.random.rand()*2*np.pi)\n",
    "sim.add(a=2.5, e= 0.4, hash=\"Test Planet\", f=np.random.rand()*2*np.pi)\n",
    "\n",
    "spec_int = np.pi # half of one full orbit\n",
    "\n",
    "N_orbit = 6*np.pi #3 full orbits\n",
    "\n",
    "sim.integrate(N_orbit, exact_finish_time=0) #setting flag to integrate up to timestep nearest to endtime\n",
    "sim.dt = 1e-3\n",
    "\n",
    "sim.exit_max_distance = 4*1"
   ]
  },
  {
   "cell_type": "code",
   "execution_count": null,
   "metadata": {},
   "outputs": [],
   "source": [
    "sim.status()"
   ]
  },
  {
   "cell_type": "code",
   "execution_count": null,
   "metadata": {},
   "outputs": [],
   "source": [
    "print(sim.particles[1].x)"
   ]
  },
  {
   "cell_type": "code",
   "execution_count": null,
   "metadata": {},
   "outputs": [],
   "source": [
    "\"\"\"Question 3\"\"\"\n",
    "\n",
    "sim2 = rb.Simulation()\n",
    "\n",
    "sim2.move_to_com()\n",
    "sim2.integrator = \"whfast\"\n",
    "\n",
    "sim2.add(m=1, hash=\"Binary 1\")\n",
    "sim2.add(m=1, hash=\"Binary 2\", a=1, e=0.5)\n",
    "sim2.add(hash=\"Planet\", a=4, e=0)\n",
    "\n",
    "N2_orbit = 10*2*np.pi\n",
    "sim2.dt = 1e-3"
   ]
  },
  {
   "cell_type": "code",
   "execution_count": null,
   "metadata": {},
   "outputs": [],
   "source": [
    "sim2.status()"
   ]
  },
  {
   "cell_type": "code",
   "execution_count": null,
   "metadata": {},
   "outputs": [],
   "source": [
    "%matplotlib inline\n",
    "\n",
    "fig = rb.OrbitPlot(sim2)\n",
    "plt.savefig('orbitalplot.pdf')"
   ]
  },
  {
   "cell_type": "code",
   "execution_count": null,
   "metadata": {
    "scrolled": true
   },
   "outputs": [],
   "source": [
    "particles2 = sim2.particles\n",
    "fig, ax = plt.subplots()\n",
    "ax.plot()\n",
    "\n",
    "torb = 6*np.pi\n",
    "Noutputs = 100\n",
    "times = np.linspace(0, torb, Noutputs)\n",
    "\n",
    "b1x = []\n",
    "b1y = []\n",
    "\n",
    "b2x = []\n",
    "b2y = []\n",
    "\n",
    "px = []\n",
    "py = []\n",
    "\n",
    "\n",
    "sim2.move_to_com()\n",
    "for i, time in enumerate(times):\n",
    "    sim2.integrate(time,exact_finish_time=0)\n",
    "    b1x.append(particles2[0].x)\n",
    "    b1y.append(particles2[0].y)\n",
    "    b2x.append(particles2[1].x)\n",
    "    b2y.append(particles2[1].y)\n",
    "    px.append(particles2[2].x)\n",
    "    py.append(particles2[2].y)\n",
    "\n",
    "plt.plot(b1x,b1y, color='green')\n",
    "plt.plot(b2x,b2y, color='cyan')\n",
    "plt.plot(px,py, color='pink')   \n",
    "plt.xlabel(\"x\")\n",
    "plt.ylabel(\"y\")\n",
    "plt.title(\"Manual Orbital Plot\")"
   ]
  },
  {
   "cell_type": "code",
   "execution_count": null,
   "metadata": {},
   "outputs": [],
   "source": [
    "sim2.status()"
   ]
  },
  {
   "cell_type": "code",
   "execution_count": null,
   "metadata": {},
   "outputs": [],
   "source": [
    "import math\n",
    "import numpy as np\n",
    "import matplotlib \n",
    "import matplotlib.pyplot as plt\n",
    "import rebound as rb"
   ]
  },
  {
   "cell_type": "code",
   "execution_count": 3,
   "metadata": {},
   "outputs": [],
   "source": [
    "\"\"\"Classic Results\"\"\"\n",
    "\n",
    "\"\"\" Question 1\"\"\"\n",
    "\n",
    "# tuples are of order (e_b, a_p) binary eccentricity and planetary semi-major axis\n",
    "\n",
    "tup_num = 2\n",
    "e_b = np.linspace(0, 0.7, tup_num)\n",
    "a_p = np.linspace(1, 5, tup_num)\n",
    "Np = 5\n",
    "tup_list = []\n",
    "\n",
    "for e in e_b:\n",
    "    for a in a_p:\n",
    "        tup_list.append((e,a,Np))\n",
    "\n",
    "def survival(initial):    \n",
    "    (eb, ap, Np) = initial\n",
    "\n",
    "    sim = rb.Simulation()\n",
    "    sim.integrator = \"whfast\"\n",
    "    \n",
    "    sim.add(m=1, hash=\"Binary 1\")\n",
    "    sim.add(m=1, a=1, e= eb, hash=\"Binary 2\")\n",
    "    \n",
    "    #initializing Np massless planets\n",
    "    f_plan = np.random.rand()*2*np.pi\n",
    "    for p in range(Np):\n",
    "        sim.add(a= ap, e=0, hash=\"Test Planet\", f= f_plan)\n",
    "    \n",
    "    #array to keep track of survival times\n",
    "    surv = np.zeros([Np])\n",
    "    \n",
    "    sim.move_to_com()\n",
    "    \n",
    "    #integrate\n",
    "    N_orbit = (10e4)*2*np.pi\n",
    "    times = np.linspace(0,N_orbit,100000)\n",
    "    \n",
    "    for i, time in enumerate(times):\n",
    "        if not i%10000: \n",
    "            print(f't={time/2/np.pi:.2f}') #let me know things are going well\n",
    "        sim.integrate(time, exact_finish_time=0)\n",
    "                              \n",
    "        for j,p in enumerate(sim.particles[2:]):                  \n",
    "            p = sim.particles[2]\n",
    "            a_bin = sim.particles[1].a\n",
    "            \n",
    "            if (p.x**2 + p.y**2) > (100*a_bin)**2:\n",
    "                surv[j] = time\n",
    "                print(f'removing planet {j+2}')\n",
    "                sim.remove(j+2) \n",
    "        # if all particles have been ejected, end integration\n",
    "        if len(sim.particles)==2:\n",
    "            break\n",
    "    sim.save(checkpoint.bin)\n",
    "    surv[(surv==0)] = time\n",
    "    \n",
    "    print(f'simulation finished, {len(sim.particles)-2} planets remaining')\n",
    "    return np.mean(surv)"
   ]
  },
  {
   "cell_type": "code",
   "execution_count": null,
   "metadata": {
    "scrolled": true
   },
   "outputs": [
    {
     "name": "stdout",
     "output_type": "stream",
     "text": [
      "t=0.00\n",
      "t=0.00\n",
      "t=0.00\n",
      "t=0.00\n"
     ]
    }
   ],
   "source": [
    "%%time\n",
    "pool = rb.InterruptiblePool()\n",
    "mapping = pool.map(func= survival, iterable= tup_list)"
   ]
  },
  {
   "cell_type": "code",
   "execution_count": null,
   "metadata": {
    "scrolled": false
   },
   "outputs": [],
   "source": [
    "fig = plt.figure()\n",
    "figure = np.reshape(mapping, [tup_num,tup_num])\n",
    "\n",
    "plt.pcolormesh(e_bin,a_plan, figure.T, shading='auto')\n",
    "plt.title('Mean Survival Times')\n",
    "plt.xlabel('Binary Eccentricity (e)')\n",
    "plt.ylabel('Planetary Semi-Major Axis (a)')\n",
    "plt.xlim(0.0,0.7)\n",
    "plt.ylim(1,5)\n",
    "\n",
    "a_bin = 2.278 + 3.824*e_bin - 1.71*(e_bin**2)\n",
    "plt.plot(e_bin, a_bin, color='white')\n",
    "plt.scatter(e_bin, a_bin, color='white')\n",
    "\n",
    "plt.colorbar(label='Test Particle Survival Times')"
   ]
  },
  {
   "cell_type": "code",
   "execution_count": null,
   "metadata": {},
   "outputs": [],
   "source": [
    "\"\"\" Including Tides\"\"\"\n",
    "\"\"\" Question 1 \"\"\"\n",
    "\n",
    "import reboundx as rx\n",
    "\n",
    "def getsim():\n",
    "    sim = rb.Simulation()\n",
    "    sim.units = ('yr', 'AU', 'Msun')\n",
    "    sim.add(m=1, r=0.1, hash=\"Binary 1\")\n",
    "    sim.add(m=1, r=0.1, a=1, e= 0.1, hash=\"Binary 2\", f=np.random.rand()*2*np.pi)\n",
    "    sim.move_to_com()\n",
    "    rebx = rx.Extras(sim)\n",
    "    tides = rebx.load_force(\"tides_constant_time_lag\")\n",
    "    rebx.add_force(tides)\n",
    "    # stop simulation when the binaries collide\n",
    "    \n",
    "    return sim, rebx, tides\n",
    "\n",
    "sim, rebx, tides = getsim()\n",
    "ps = sim.particles\n",
    "ps[0].params[\"tctl_k1\"] = 0.25\n",
    "# tau is zero for now as it's not specified\n",
    "\n",
    "H0 = sim.calculate_energy() + rebx.tides_constant_time_lag_potential(tides)\n",
    "tmax = 5000\n",
    "Nout=1000\n",
    "\n",
    "pomega, Eerr = np.zeros(Nout), np.zeros(Nout)\n",
    "times = np.linspace(0,tmax,Nout)\n",
    "\n",
    "for i, time in enumerate(times):\n",
    "    sim.integrate(time)\n",
    "    pomega[i] = ps[1].pomega\n",
    "    H = sim.calculate_energy() + rebx.tides_constant_time_lag_potential(tides)\n",
    "    Eerr[i] = abs((H-H0)/H0)\n",
    "    \n",
    "fig, axarr = plt.subplots(nrows=2, figsize=(12,8))\n",
    "axarr[0].plot(times, pomega)\n",
    "axarr[0].set_ylabel(\"Argument of Periapsis (rad)\", fontsize=16)\n",
    "axarr[1].plot(times, Eerr, '.')\n",
    "axarr[1].set_xscale('log')\n",
    "axarr[1].set_yscale('log')\n",
    "axarr[1].set_xlabel('Time', fontsize=16)\n",
    "axarr[1].set_ylabel('Energy Error', fontsize=16)"
   ]
  },
  {
   "cell_type": "code",
   "execution_count": null,
   "metadata": {},
   "outputs": [],
   "source": [
    "ps[0].params[\"tctl_k1\"]"
   ]
  },
  {
   "cell_type": "code",
   "execution_count": null,
   "metadata": {},
   "outputs": [],
   "source": [
    "\"\"\" What happens to the binary orbit over time when tau is zero?\"\"\"\n",
    "\"\"\"While tau  is equal to zero, the system is in a state of instantaneous equilibrium\n",
    " tides where total energy is conserved, although the pericenter (focus closess to the center of mass)\n",
    " will precess. The pericenter vs. time graph illustrates this, showing that over time the \n",
    " argument of the periapsis monotoncally increases indicating that the direction of the periapse\n",
    " and consequently the apoapsis are changing. \n",
    " So, over time the binary orbit will rotate about the center of mass\n",
    " as the periapsis precesses while the semi-major axis and the eccentricity\n",
    " remain constant.\n",
    " \"\"\" "
   ]
  },
  {
   "cell_type": "code",
   "execution_count": null,
   "metadata": {},
   "outputs": [],
   "source": [
    "sim, rebx, tides = getsim()\n",
    "ps = sim.particles\n",
    "ps[0].params[\"tctl_k1\"] = 0.25\n",
    "ps[0].params[\"tctl_tau\"] = 1e-3\n",
    "ps[0].params[\"Omega\"] = 1e-5\n",
    "\n",
    "tmax = 2.5e4\n",
    "Nout= 1000\n",
    "\n",
    "a, e = np.zeros(Nout), np.zeros(Nout)\n",
    "times = np.linspace(0,tmax,Nout)\n",
    "# to plot physical radius of the Sun\n",
    "\n",
    "R0 = 0*times + ps[0].r\n",
    "\n",
    "q = (ps[1].m/ps[0].m)\n",
    "T = ps[0].r**3/sim.G/ps[0].m/ps[0].params[\"tctl_tau\"]\n",
    "apred = ps[0].r*((ps[1].a/ps[0].r)**8 - 48.*ps[0].params[\"tctl_k1\"]*q*(1+q)*times/T)**(1./8.)"
   ]
  },
  {
   "cell_type": "code",
   "execution_count": null,
   "metadata": {},
   "outputs": [],
   "source": [
    "%%time\n",
    "for i, time in enumerate(times):\n",
    "    sim.integrate(time)\n",
    "    a[i] = ps[1].a\n",
    "    e[i] = ps[1].e"
   ]
  },
  {
   "cell_type": "code",
   "execution_count": null,
   "metadata": {},
   "outputs": [],
   "source": [
    "fig, ax = plt.subplots(2, figsize=(12,4))\n",
    "ax[0].plot(times, a, label='$a_{\\oplus}$')\n",
    "ax[0].plot(times, R0, label='$R_{\\odot}$')\n",
    "ax[0].plot(times, apred, '--', label='$a_{\\oplus}$ predicted')\n",
    "\n",
    "plt.xlabel('$t$ (yr)', fontsize=16)\n",
    "ax[0].set_ylabel('(AU)', fontsize=16)\n",
    "\n",
    "ax[0].legend(fontsize=16, loc='best')\n",
    "\n",
    "#ax[1].legend(fontsize=16, loc='best')\n",
    "ax[1].plot(times, a, color='blue')\n",
    "ax[1].plot(times, apred, '--', color='green')"
   ]
  },
  {
   "cell_type": "code",
   "execution_count": null,
   "metadata": {},
   "outputs": [],
   "source": [
    "fig, ax = plt.subplots(figsize=(12,4))\n",
    "ax.plot(times, e, label='$a_{\\oplus}$')\n",
    "ax.set_xlabel('$t$ (yr)', fontsize=24)\n",
    "ax.set_ylabel('e', fontsize=24)\n",
    "ax.legend(fontsize=24, loc='best')\n",
    "ax.set_title('Evolution of Eccentricity')"
   ]
  },
  {
   "cell_type": "code",
   "execution_count": null,
   "metadata": {},
   "outputs": [],
   "source": [
    "\"\"\" How does adding a non-zero tau value change the evolution of the orbital\n",
    "parameters over time?\"\"\"\n",
    "\"\"\" Both the semi major axis and the eccentricity decrease over time\n",
    "when tau becomes a non-zero value.\"\"\""
   ]
  },
  {
   "cell_type": "code",
   "execution_count": null,
   "metadata": {},
   "outputs": [],
   "source": [
    "\"\"\" Observational Constraints on Stability\"\"\"\n",
    "import emcee "
   ]
  },
  {
   "cell_type": "code",
   "execution_count": null,
   "metadata": {},
   "outputs": [],
   "source": [
    "a_b = np.array([0.0043, 0.2243, 0.1276, 0.228,\n",
    "               0.1762, 0.147, 0.1015, 0.0041,\n",
    "               0.1848, 0.0836, 0.0836, 0.0836,\n",
    "               0.12])\n",
    "a_p = np.array([0.0088, 0.7048, 2.72, 1.0896,\n",
    "               0.6035, 0.4644, 0.353, 0.92,\n",
    "               0.7903, 0.2956, 1, 0.6992, 0.4])\n",
    "\n",
    "plt.figure()\n",
    "plt.title('Circumbinary Data')\n",
    "plt.xlabel('Binary Semi-Major Axis (ab)')\n",
    "plt.ylabel('Planetary Semi-Major Axis (ap)')\n",
    "plt.scatter(a_b, a_p, color='teal')\n",
    "\n",
    "# plot the line a_p = 2a_b\n",
    "plt.plot(a_b, 2*a_b, color='green')"
   ]
  },
  {
   "cell_type": "code",
   "execution_count": null,
   "metadata": {},
   "outputs": [],
   "source": [
    "\"\"\" Yes there seems to be a pile-up of circumbinary planets\n",
    "around a_p = 2a_b\"\"\""
   ]
  },
  {
   "cell_type": "code",
   "execution_count": null,
   "metadata": {},
   "outputs": [],
   "source": [
    "a_i = a_p/a_b\n",
    "a_c = 2*a_b\n",
    "\n",
    "def log_prior(a_c):\n",
    "    array = []\n",
    "    for num in a_c:\n",
    "        if 1 < num <= 5:\n",
    "            array.append(0)\n",
    "        array.append(-np.inf)\n",
    "    return array\n",
    "\n",
    "def log_likelihood(a_c, a_i):\n",
    "    array = []\n",
    "    for flt, num in zip(a_c, a_i):\n",
    "        if num >= flt:\n",
    "            array.append(0)\n",
    "        else:\n",
    "            array.append(-np.inf)\n",
    "    return array\n",
    "\n",
    "def log_probability(a_c, a_i):\n",
    "    p_array = []\n",
    "    lp = log_prior(a_c)\n",
    "    ll = log_likelihood(a_c, a_i)\n",
    "\n",
    "    for p,l in zip(lp,ll):\n",
    "        if np.isfinite(lp) is False:\n",
    "            p_array.append(-np.inf)\n",
    "        p_array.append(p + l)\n",
    "    return p_array\n",
    "\n",
    "ac_in = 2.0\n",
    "pos = ac_in + 1e-4 * np.random.randn(32,1)\n",
    "nwalkers, ndim = pos.shape"
   ]
  },
  {
   "cell_type": "code",
   "execution_count": null,
   "metadata": {},
   "outputs": [],
   "source": [
    "sampler = emcee.EnsembleSampler(nwalkers, ndim, log_probability, args=(a_i,))\n",
    "sampler.run_mcmc(pos, 5000, progress=True)"
   ]
  },
  {
   "cell_type": "code",
   "execution_count": null,
   "metadata": {},
   "outputs": [],
   "source": [
    "fig, axes = plt.subplots(2,figsize=(10,7), sharex = True)\n",
    "samples = sampler.get_chain()\n",
    "label = [\"tac\"]\n",
    "\n",
    "for i in range(ndim):\n",
    "    ax = axes[i]\n",
    "    ax.plot(samples[:, :, i], \"k\", alpha=0.3)\n",
    "    ax.set_xlim(0, len(samples))\n",
    "    ax.set_ylabel(label[i])\n",
    "    ax.yaxis.set_label_coords(-0.1, 0.5)\n",
    "axes[-1].set_xlabel(\"step number\")"
   ]
  },
  {
   "cell_type": "code",
   "execution_count": null,
   "metadata": {},
   "outputs": [],
   "source": [
    "\"\"\" The values of ~ac (tac) seem to be constrained to values \n",
    "1.0 < tac < 2.0 based on the plot above.\"\"\""
   ]
  },
  {
   "cell_type": "code",
   "execution_count": null,
   "metadata": {},
   "outputs": [],
   "source": [
    "tau = sampler.get_autocorr_time()\n",
    "print(tau)"
   ]
  },
  {
   "cell_type": "code",
   "execution_count": null,
   "metadata": {},
   "outputs": [],
   "source": [
    "flat_samples = sampler.get_chain(discard=100, thin=13, flat=True)\n",
    "print(flat_samples.shape)"
   ]
  },
  {
   "cell_type": "code",
   "execution_count": null,
   "metadata": {},
   "outputs": [],
   "source": [
    "import corner\n",
    "\n",
    "fig = corner.corner(flat_samples, labels=label, truths=[ac_in])"
   ]
  },
  {
   "cell_type": "code",
   "execution_count": null,
   "metadata": {},
   "outputs": [],
   "source": [
    "from IPython.display import display, Math\n",
    "\n",
    "for i in range(ndim):\n",
    "    mcmc = np.percentile(flat_samples[:, i], [50, 75, 95])\n",
    "    q = np.diff(mcmc)\n",
    "    txt = \"\\mathrm{{{3}}} = {0:.3f}_{{-{1:.3f}}}^{{{2:.3f}}}\"\n",
    "    txt = txt.format(mcmc[1], q[0], q[1], label)\n",
    "    display(Math(txt))"
   ]
  },
  {
   "cell_type": "code",
   "execution_count": null,
   "metadata": {},
   "outputs": [],
   "source": [
    "\"\"\" Based on the statistical analysis, ~a_c is constrained to 1.790 based on the above observations.\n",
    "My intuition had me believe that the value was 1.5 since the range seemed to be split equally, more or less, between 1.0 and 2.0.\n",
    "Although, the statistical constraints using data gave me a consicise estimate in addition to accounting for errors in measurement.\"\"\""
   ]
  },
  {
   "cell_type": "code",
   "execution_count": null,
   "metadata": {},
   "outputs": [],
   "source": []
  }
 ],
 "metadata": {
  "kernelspec": {
   "display_name": "Python 3 (ipykernel)",
   "language": "python",
   "name": "python3"
  },
  "language_info": {
   "codemirror_mode": {
    "name": "ipython",
    "version": 3
   },
   "file_extension": ".py",
   "mimetype": "text/x-python",
   "name": "python",
   "nbconvert_exporter": "python",
   "pygments_lexer": "ipython3",
   "version": "3.10.2"
  }
 },
 "nbformat": 4,
 "nbformat_minor": 2
}
