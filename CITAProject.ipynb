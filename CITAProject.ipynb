{
 "cells": [
  {
   "cell_type": "code",
   "execution_count": 1,
   "metadata": {},
   "outputs": [],
   "source": [
    "import math\n",
    "import numpy as np\n",
    "import matplotlib \n",
    "import matplotlib.pyplot as plt\n",
    "import rebound as rb"
   ]
  },
  {
   "cell_type": "code",
   "execution_count": null,
   "metadata": {},
   "outputs": [],
   "source": [
    "\"\"\"Intro to Rebound\"\"\"\n",
    "\n",
    "\"\"\"Question 2\"\"\"\n",
    "\n",
    "sim = rb.Simulation()\n",
    "\n",
    "sim.move_to_com()\n",
    "sim.integrator = \"whfast\"\n",
    "\n",
    "sim.add(m=1, hash=\"Binary 1\")\n",
    "sim.add(m=1, a=1, e= 0.1, hash=\"Binary 2\", f=np.random.rand()*2*np.pi)\n",
    "sim.add(a=2.5, e= 0.4, hash=\"Test Planet\", f=np.random.rand()*2*np.pi)\n",
    "\n",
    "spec_int = np.pi # half of one full orbit\n",
    "\n",
    "N_orbit = 6*np.pi #3 full orbits\n",
    "\n",
    "sim.integrate(N_orbit, exact_finish_time=0) #setting flag to integrate up to timestep nearest to endtime\n",
    "sim.dt = 1e-3\n",
    "\n",
    "sim.exit_max_distance = 4*1"
   ]
  },
  {
   "cell_type": "code",
   "execution_count": null,
   "metadata": {},
   "outputs": [],
   "source": [
    "sim.status()"
   ]
  },
  {
   "cell_type": "code",
   "execution_count": null,
   "metadata": {},
   "outputs": [],
   "source": [
    "print(sim.particles[1].a)"
   ]
  },
  {
   "cell_type": "code",
   "execution_count": null,
   "metadata": {},
   "outputs": [],
   "source": [
    "\"\"\"Question 3\"\"\"\n",
    "\n",
    "sim2 = rb.Simulation()\n",
    "\n",
    "sim2.move_to_com()\n",
    "sim2.integrator = \"whfast\"\n",
    "\n",
    "sim2.add(m=1, hash=\"Binary 1\")\n",
    "sim2.add(m=1, hash=\"Binary 2\", a=1, e=0.5)\n",
    "sim2.add(hash=\"Planet\", a=4, e=0)\n",
    "\n",
    "N2_orbit = 10*2*np.pi\n",
    "sim2.dt = 1e-3"
   ]
  },
  {
   "cell_type": "code",
   "execution_count": null,
   "metadata": {},
   "outputs": [],
   "source": [
    "sim2.status()"
   ]
  },
  {
   "cell_type": "code",
   "execution_count": null,
   "metadata": {},
   "outputs": [],
   "source": [
    "%matplotlib inline\n",
    "\n",
    "fig = rb.OrbitPlot(sim2)\n",
    "plt.savefig('orbitalplot.pdf')"
   ]
  },
  {
   "cell_type": "code",
   "execution_count": null,
   "metadata": {
    "scrolled": true
   },
   "outputs": [],
   "source": [
    "particles2 = sim2.particles\n",
    "fig, ax = plt.subplots()\n",
    "ax.plot()\n",
    "\n",
    "torb = 6*np.pi\n",
    "Noutputs = 100\n",
    "times = np.linspace(0, torb, Noutputs)\n",
    "\n",
    "b1x = []\n",
    "b1y = []\n",
    "\n",
    "b2x = []\n",
    "b2y = []\n",
    "\n",
    "px = []\n",
    "py = []\n",
    "\n",
    "\n",
    "sim2.move_to_com()\n",
    "for i, time in enumerate(times):\n",
    "    sim2.integrate(time,exact_finish_time=0)\n",
    "    b1x.append(particles2[0].x)\n",
    "    b1y.append(particles2[0].y)\n",
    "    b2x.append(particles2[1].x)\n",
    "    b2y.append(particles2[1].y)\n",
    "    px.append(particles2[2].x)\n",
    "    py.append(particles2[2].y)\n",
    "\n",
    "plt.plot(b1x,b1y, color='green')\n",
    "plt.plot(b2x,b2y, color='cyan')\n",
    "plt.plot(px,py, color='pink')   \n",
    "plt.xlabel(\"x\")\n",
    "plt.ylabel(\"y\")\n",
    "plt.title(\"Manual Orbital Plot\")"
   ]
  },
  {
   "cell_type": "code",
   "execution_count": null,
   "metadata": {},
   "outputs": [],
   "source": [
    "sim2.status()"
   ]
  },
  {
   "cell_type": "code",
   "execution_count": null,
   "metadata": {},
   "outputs": [],
   "source": []
  },
  {
   "cell_type": "code",
   "execution_count": 1,
   "metadata": {},
   "outputs": [],
   "source": [
    "import math\n",
    "import numpy as np\n",
    "import matplotlib \n",
    "import matplotlib.pyplot as plt\n",
    "import rebound as rb"
   ]
  },
  {
   "cell_type": "code",
   "execution_count": 2,
   "metadata": {},
   "outputs": [],
   "source": [
    "\"\"\"Classic Results\"\"\"\n",
    "\n",
    "\"\"\" Question 1\"\"\"\n",
    "\n",
    "# tuples are of order (e_b, a_p) binary eccentricity and planetary semi-major axis\n",
    "\n",
    "tup_num = 2\n",
    "e_b = np.linspace(0, 0.7, tup_num)\n",
    "a_p = np.linspace(1, 5, tup_num)\n",
    "Np = 5\n",
    "tup_list = []\n",
    "\n",
    "for e in e_b:\n",
    "    for a in a_p:\n",
    "        tup_list.append((e,a,Np))\n",
    "\n",
    "def survival(initial):    \n",
    "    (eb, ap, Np) = initial\n",
    "\n",
    "    sim = rb.Simulation()\n",
    "    sim.integrator = \"whfast\"\n",
    "    \n",
    "    sim.add(m=1, hash=\"Binary 1\")\n",
    "    sim.add(m=1, a=1, e= eb, hash=\"Binary 2\")\n",
    "    \n",
    "    #initializing Np massless planets\n",
    "    f_plan = np.random.rand()*2*np.pi\n",
    "    for p in range(Np):\n",
    "        sim.add(a= ap, e=0, hash=\"Test Planet\", f= f_plan)\n",
    "    \n",
    "    #array to keep track of survival times\n",
    "    surv = np.zeros([Np])\n",
    "    \n",
    "    sim.move_to_com()\n",
    "    \n",
    "    #integrate\n",
    "    N_orbit = (10e4)*2*np.pi\n",
    "    times = np.linspace(0,N_orbit,100000)\n",
    "    \n",
    "    for i, time in enumerate(times):\n",
    "        if not i%10000: \n",
    "            print(f't={time/2/np.pi:.2f}') #let me know things are going well\n",
    "        sim.integrate(time, exact_finish_time=0)\n",
    "                              \n",
    "        for j,p in enumerate(sim.particles[2:]):                  \n",
    "            p = sim.particles[2]\n",
    "            a_bin = sim.particles[1].a\n",
    "            \n",
    "            if (p.x**2 + p.y**2) > (100*a_bin)**2:\n",
    "                surv[j] = time\n",
    "                print(f'removing planet {j+2}')\n",
    "                sim.remove(j+2) \n",
    "        # if all particles have been ejected, end integration\n",
    "        if len(sim.particles)==2:\n",
    "            break\n",
    "    sim.save(checkpoint.bin)\n",
    "    surv[(surv==0)] = time\n",
    "    \n",
    "    print(f'simulation finished, {len(sim.particles)-2} planets remaining')\n",
    "    return np.mean(surv)"
   ]
  },
  {
   "cell_type": "code",
   "execution_count": 3,
   "metadata": {
    "scrolled": true
   },
   "outputs": [
    {
     "name": "stdout",
     "output_type": "stream",
     "text": [
      "t=0.00\n",
      "t=0.00\n",
      "t=0.00\n",
      "t=0.00\n"
     ]
    },
    {
     "name": "stderr",
     "output_type": "stream",
     "text": [
      "Process ForkPoolWorker-4:\n",
      "Process ForkPoolWorker-2:\n",
      "Process ForkPoolWorker-1:\n",
      "Process ForkPoolWorker-3:\n"
     ]
    },
    {
     "ename": "KeyboardInterrupt",
     "evalue": "",
     "output_type": "error",
     "traceback": [
      "\u001b[0;31m---------------------------------------------------------------------------\u001b[0m",
      "\u001b[0;31mKeyboardInterrupt\u001b[0m                         Traceback (most recent call last)",
      "\u001b[0;32m<timed exec>\u001b[0m in \u001b[0;36m<module>\u001b[0;34m\u001b[0m\n",
      "\u001b[0;32m/opt/python/3.8.2/lib/python3.8/site-packages/rebound/interruptible_pool.py\u001b[0m in \u001b[0;36mmap\u001b[0;34m(self, func, iterable, chunksize)\u001b[0m\n\u001b[1;32m     92\u001b[0m         \u001b[0;32mwhile\u001b[0m \u001b[0;32mTrue\u001b[0m\u001b[0;34m:\u001b[0m\u001b[0;34m\u001b[0m\u001b[0;34m\u001b[0m\u001b[0m\n\u001b[1;32m     93\u001b[0m             \u001b[0;32mtry\u001b[0m\u001b[0;34m:\u001b[0m\u001b[0;34m\u001b[0m\u001b[0;34m\u001b[0m\u001b[0m\n\u001b[0;32m---> 94\u001b[0;31m                 \u001b[0;32mreturn\u001b[0m \u001b[0mr\u001b[0m\u001b[0;34m.\u001b[0m\u001b[0mget\u001b[0m\u001b[0;34m(\u001b[0m\u001b[0mself\u001b[0m\u001b[0;34m.\u001b[0m\u001b[0mwait_timeout\u001b[0m\u001b[0;34m)\u001b[0m\u001b[0;34m\u001b[0m\u001b[0;34m\u001b[0m\u001b[0m\n\u001b[0m\u001b[1;32m     95\u001b[0m             \u001b[0;32mexcept\u001b[0m \u001b[0mTimeoutError\u001b[0m\u001b[0;34m:\u001b[0m\u001b[0;34m\u001b[0m\u001b[0;34m\u001b[0m\u001b[0m\n\u001b[1;32m     96\u001b[0m                 \u001b[0;32mpass\u001b[0m\u001b[0;34m\u001b[0m\u001b[0;34m\u001b[0m\u001b[0m\n",
      "\u001b[0;32m/opt/python/3.8.2/lib/python3.8/multiprocessing/pool.py\u001b[0m in \u001b[0;36mget\u001b[0;34m(self, timeout)\u001b[0m\n\u001b[1;32m    760\u001b[0m \u001b[0;34m\u001b[0m\u001b[0m\n\u001b[1;32m    761\u001b[0m     \u001b[0;32mdef\u001b[0m \u001b[0mget\u001b[0m\u001b[0;34m(\u001b[0m\u001b[0mself\u001b[0m\u001b[0;34m,\u001b[0m \u001b[0mtimeout\u001b[0m\u001b[0;34m=\u001b[0m\u001b[0;32mNone\u001b[0m\u001b[0;34m)\u001b[0m\u001b[0;34m:\u001b[0m\u001b[0;34m\u001b[0m\u001b[0;34m\u001b[0m\u001b[0m\n\u001b[0;32m--> 762\u001b[0;31m         \u001b[0mself\u001b[0m\u001b[0;34m.\u001b[0m\u001b[0mwait\u001b[0m\u001b[0;34m(\u001b[0m\u001b[0mtimeout\u001b[0m\u001b[0;34m)\u001b[0m\u001b[0;34m\u001b[0m\u001b[0;34m\u001b[0m\u001b[0m\n\u001b[0m\u001b[1;32m    763\u001b[0m         \u001b[0;32mif\u001b[0m \u001b[0;32mnot\u001b[0m \u001b[0mself\u001b[0m\u001b[0;34m.\u001b[0m\u001b[0mready\u001b[0m\u001b[0;34m(\u001b[0m\u001b[0;34m)\u001b[0m\u001b[0;34m:\u001b[0m\u001b[0;34m\u001b[0m\u001b[0;34m\u001b[0m\u001b[0m\n\u001b[1;32m    764\u001b[0m             \u001b[0;32mraise\u001b[0m \u001b[0mTimeoutError\u001b[0m\u001b[0;34m\u001b[0m\u001b[0;34m\u001b[0m\u001b[0m\n",
      "\u001b[0;32m/opt/python/3.8.2/lib/python3.8/multiprocessing/pool.py\u001b[0m in \u001b[0;36mwait\u001b[0;34m(self, timeout)\u001b[0m\n\u001b[1;32m    757\u001b[0m \u001b[0;34m\u001b[0m\u001b[0m\n\u001b[1;32m    758\u001b[0m     \u001b[0;32mdef\u001b[0m \u001b[0mwait\u001b[0m\u001b[0;34m(\u001b[0m\u001b[0mself\u001b[0m\u001b[0;34m,\u001b[0m \u001b[0mtimeout\u001b[0m\u001b[0;34m=\u001b[0m\u001b[0;32mNone\u001b[0m\u001b[0;34m)\u001b[0m\u001b[0;34m:\u001b[0m\u001b[0;34m\u001b[0m\u001b[0;34m\u001b[0m\u001b[0m\n\u001b[0;32m--> 759\u001b[0;31m         \u001b[0mself\u001b[0m\u001b[0;34m.\u001b[0m\u001b[0m_event\u001b[0m\u001b[0;34m.\u001b[0m\u001b[0mwait\u001b[0m\u001b[0;34m(\u001b[0m\u001b[0mtimeout\u001b[0m\u001b[0;34m)\u001b[0m\u001b[0;34m\u001b[0m\u001b[0;34m\u001b[0m\u001b[0m\n\u001b[0m\u001b[1;32m    760\u001b[0m \u001b[0;34m\u001b[0m\u001b[0m\n\u001b[1;32m    761\u001b[0m     \u001b[0;32mdef\u001b[0m \u001b[0mget\u001b[0m\u001b[0;34m(\u001b[0m\u001b[0mself\u001b[0m\u001b[0;34m,\u001b[0m \u001b[0mtimeout\u001b[0m\u001b[0;34m=\u001b[0m\u001b[0;32mNone\u001b[0m\u001b[0;34m)\u001b[0m\u001b[0;34m:\u001b[0m\u001b[0;34m\u001b[0m\u001b[0;34m\u001b[0m\u001b[0m\n",
      "\u001b[0;32m/opt/python/3.8.2/lib/python3.8/threading.py\u001b[0m in \u001b[0;36mwait\u001b[0;34m(self, timeout)\u001b[0m\n\u001b[1;32m    556\u001b[0m             \u001b[0msignaled\u001b[0m \u001b[0;34m=\u001b[0m \u001b[0mself\u001b[0m\u001b[0;34m.\u001b[0m\u001b[0m_flag\u001b[0m\u001b[0;34m\u001b[0m\u001b[0;34m\u001b[0m\u001b[0m\n\u001b[1;32m    557\u001b[0m             \u001b[0;32mif\u001b[0m \u001b[0;32mnot\u001b[0m \u001b[0msignaled\u001b[0m\u001b[0;34m:\u001b[0m\u001b[0;34m\u001b[0m\u001b[0;34m\u001b[0m\u001b[0m\n\u001b[0;32m--> 558\u001b[0;31m                 \u001b[0msignaled\u001b[0m \u001b[0;34m=\u001b[0m \u001b[0mself\u001b[0m\u001b[0;34m.\u001b[0m\u001b[0m_cond\u001b[0m\u001b[0;34m.\u001b[0m\u001b[0mwait\u001b[0m\u001b[0;34m(\u001b[0m\u001b[0mtimeout\u001b[0m\u001b[0;34m)\u001b[0m\u001b[0;34m\u001b[0m\u001b[0;34m\u001b[0m\u001b[0m\n\u001b[0m\u001b[1;32m    559\u001b[0m             \u001b[0;32mreturn\u001b[0m \u001b[0msignaled\u001b[0m\u001b[0;34m\u001b[0m\u001b[0;34m\u001b[0m\u001b[0m\n\u001b[1;32m    560\u001b[0m \u001b[0;34m\u001b[0m\u001b[0m\n",
      "\u001b[0;32m/opt/python/3.8.2/lib/python3.8/threading.py\u001b[0m in \u001b[0;36mwait\u001b[0;34m(self, timeout)\u001b[0m\n\u001b[1;32m    304\u001b[0m             \u001b[0;32melse\u001b[0m\u001b[0;34m:\u001b[0m\u001b[0;34m\u001b[0m\u001b[0;34m\u001b[0m\u001b[0m\n\u001b[1;32m    305\u001b[0m                 \u001b[0;32mif\u001b[0m \u001b[0mtimeout\u001b[0m \u001b[0;34m>\u001b[0m \u001b[0;36m0\u001b[0m\u001b[0;34m:\u001b[0m\u001b[0;34m\u001b[0m\u001b[0;34m\u001b[0m\u001b[0m\n\u001b[0;32m--> 306\u001b[0;31m                     \u001b[0mgotit\u001b[0m \u001b[0;34m=\u001b[0m \u001b[0mwaiter\u001b[0m\u001b[0;34m.\u001b[0m\u001b[0macquire\u001b[0m\u001b[0;34m(\u001b[0m\u001b[0;32mTrue\u001b[0m\u001b[0;34m,\u001b[0m \u001b[0mtimeout\u001b[0m\u001b[0;34m)\u001b[0m\u001b[0;34m\u001b[0m\u001b[0;34m\u001b[0m\u001b[0m\n\u001b[0m\u001b[1;32m    307\u001b[0m                 \u001b[0;32melse\u001b[0m\u001b[0;34m:\u001b[0m\u001b[0;34m\u001b[0m\u001b[0;34m\u001b[0m\u001b[0m\n\u001b[1;32m    308\u001b[0m                     \u001b[0mgotit\u001b[0m \u001b[0;34m=\u001b[0m \u001b[0mwaiter\u001b[0m\u001b[0;34m.\u001b[0m\u001b[0macquire\u001b[0m\u001b[0;34m(\u001b[0m\u001b[0;32mFalse\u001b[0m\u001b[0;34m)\u001b[0m\u001b[0;34m\u001b[0m\u001b[0;34m\u001b[0m\u001b[0m\n",
      "\u001b[0;31mKeyboardInterrupt\u001b[0m: "
     ]
    }
   ],
   "source": [
    "%%time\n",
    "pool = rb.InterruptiblePool()\n",
    "mapping = pool.map(func= survival, iterable= tup_list)"
   ]
  },
  {
   "cell_type": "code",
   "execution_count": 4,
   "metadata": {
    "scrolled": true
   },
   "outputs": [
    {
     "ename": "NameError",
     "evalue": "name 'mapping' is not defined",
     "output_type": "error",
     "traceback": [
      "\u001b[0;31m---------------------------------------------------------------------------\u001b[0m",
      "\u001b[0;31mNameError\u001b[0m                                 Traceback (most recent call last)",
      "\u001b[0;32m<ipython-input-4-596ccf2b18f1>\u001b[0m in \u001b[0;36m<module>\u001b[0;34m\u001b[0m\n\u001b[1;32m      1\u001b[0m \u001b[0mfig\u001b[0m \u001b[0;34m=\u001b[0m \u001b[0mplt\u001b[0m\u001b[0;34m.\u001b[0m\u001b[0mfigure\u001b[0m\u001b[0;34m(\u001b[0m\u001b[0;34m)\u001b[0m\u001b[0;34m\u001b[0m\u001b[0;34m\u001b[0m\u001b[0m\n\u001b[0;32m----> 2\u001b[0;31m \u001b[0mfigure\u001b[0m \u001b[0;34m=\u001b[0m \u001b[0mnp\u001b[0m\u001b[0;34m.\u001b[0m\u001b[0mreshape\u001b[0m\u001b[0;34m(\u001b[0m\u001b[0mmapping\u001b[0m\u001b[0;34m,\u001b[0m \u001b[0;34m[\u001b[0m\u001b[0mtup_num\u001b[0m\u001b[0;34m,\u001b[0m\u001b[0mtup_num\u001b[0m\u001b[0;34m]\u001b[0m\u001b[0;34m)\u001b[0m\u001b[0;34m\u001b[0m\u001b[0;34m\u001b[0m\u001b[0m\n\u001b[0m\u001b[1;32m      3\u001b[0m \u001b[0;34m\u001b[0m\u001b[0m\n\u001b[1;32m      4\u001b[0m \u001b[0mplt\u001b[0m\u001b[0;34m.\u001b[0m\u001b[0mpcolormesh\u001b[0m\u001b[0;34m(\u001b[0m\u001b[0me_bin\u001b[0m\u001b[0;34m,\u001b[0m\u001b[0ma_plan\u001b[0m\u001b[0;34m,\u001b[0m \u001b[0mfigure\u001b[0m\u001b[0;34m.\u001b[0m\u001b[0mT\u001b[0m\u001b[0;34m,\u001b[0m \u001b[0mshading\u001b[0m\u001b[0;34m=\u001b[0m\u001b[0;34m'auto'\u001b[0m\u001b[0;34m)\u001b[0m\u001b[0;34m\u001b[0m\u001b[0;34m\u001b[0m\u001b[0m\n\u001b[1;32m      5\u001b[0m \u001b[0mplt\u001b[0m\u001b[0;34m.\u001b[0m\u001b[0mtitle\u001b[0m\u001b[0;34m(\u001b[0m\u001b[0;34m'Mean Survival Times'\u001b[0m\u001b[0;34m)\u001b[0m\u001b[0;34m\u001b[0m\u001b[0;34m\u001b[0m\u001b[0m\n",
      "\u001b[0;31mNameError\u001b[0m: name 'mapping' is not defined"
     ]
    },
    {
     "data": {
      "text/plain": [
       "<Figure size 432x288 with 0 Axes>"
      ]
     },
     "metadata": {},
     "output_type": "display_data"
    }
   ],
   "source": [
    "fig = plt.figure()\n",
    "figure = np.reshape(mapping, [tup_num,tup_num])\n",
    "\n",
    "plt.pcolormesh(e_bin,a_plan, figure.T, shading='auto')\n",
    "plt.title('Mean Survival Times')\n",
    "plt.xlabel('Binary Eccentricity (e)')\n",
    "plt.ylabel('Planetary Semi-Major Axis (a)')\n",
    "plt.xlim(0.0,0.7)\n",
    "plt.ylim(1,5)\n",
    "\n",
    "a_bin = 2.278 + 3.824*e_bin - 1.71*(e_bin**2)\n",
    "plt.plot(e_bin, a_bin, color='white')\n",
    "plt.scatter(e_bin, a_bin, color='white')\n",
    "\n",
    "plt.colorbar(label='Test Particle Survival Times')"
   ]
  },
  {
   "cell_type": "code",
   "execution_count": 3,
   "metadata": {},
   "outputs": [
    {
     "data": {
      "text/plain": [
       "Text(0, 0.5, 'Energy Error')"
      ]
     },
     "execution_count": 3,
     "metadata": {},
     "output_type": "execute_result"
    },
    {
     "data": {
      "image/png": "[encoded data removed]",
      "text/plain": [
       "<Figure size 864x576 with 2 Axes>"
      ]
     },
     "metadata": {
      "needs_background": "light"
     },
     "output_type": "display_data"
    }
   ],
   "source": [
    "\"\"\" Including Tides\"\"\"\n",
    "\"\"\" Question 1 \"\"\"\n",
    "\n",
    "import reboundx as rx\n",
    "\n",
    "def getsim():\n",
    "    sim = rb.Simulation()\n",
    "    sim.units = ('yr', 'AU', 'Msun')\n",
    "    sim.add(m=1, r=0.1, hash=\"Binary 1\")\n",
    "    sim.add(m=1, r=0.1, a=1, e= 0.1, hash=\"Binary 2\", f=np.random.rand()*2*np.pi)\n",
    "    sim.move_to_com()\n",
    "    rebx = rx.Extras(sim)\n",
    "    tides = rebx.load_force(\"tides_constant_time_lag\")\n",
    "    rebx.add_force(tides)\n",
    "    # stop simulation when the binaries collide\n",
    "    \n",
    "    return sim, rebx, tides\n",
    "\n",
    "sim, rebx, tides = getsim()\n",
    "ps = sim.particles\n",
    "ps[0].params[\"tctl_k1\"] = 0.25\n",
    "# tau is zero for now as it's not specified\n",
    "\n",
    "H0 = sim.calculate_energy() + rebx.tides_constant_time_lag_potential(tides)\n",
    "tmax = 5000\n",
    "Nout=1000\n",
    "\n",
    "pomega, Eerr = np.zeros(Nout), np.zeros(Nout)\n",
    "times = np.linspace(0,tmax,Nout)\n",
    "\n",
    "for i, time in enumerate(times):\n",
    "    sim.integrate(time)\n",
    "    pomega[i] = ps[1].pomega\n",
    "    H = sim.calculate_energy() + rebx.tides_constant_time_lag_potential(tides)\n",
    "    Eerr[i] = abs((H-H0)/H0)\n",
    "    \n",
    "fig, axarr = plt.subplots(nrows=2, figsize=(12,8))\n",
    "axarr[0].plot(times, pomega)\n",
    "axarr[0].set_ylabel(\"Argument of Periapsis (rad)\", fontsize=16)\n",
    "axarr[1].plot(times, Eerr, '.')\n",
    "axarr[1].set_xscale('log')\n",
    "axarr[1].set_yscale('log')\n",
    "axarr[1].set_xlabel('Time', fontsize=16)\n",
    "axarr[1].set_ylabel('Energy Error', fontsize=16)"
   ]
  },
  {
   "cell_type": "code",
   "execution_count": null,
   "metadata": {},
   "outputs": [],
   "source": [
    "\"\"\" What happens to the binary orbit over time when tau is zero?\"\"\"\n",
    "\"\"\"While tau  is equal to zero, the system is in a state of instantaneous equilibrium\n",
    " tides where total energy is conserved, although the pericenter (focus closess to the center of mass)\n",
    " will precess. The pericenter vs. time graph illustrates this, showing that over time the \n",
    " argument of the periapsis monotoncally increases indicating that the direction of the periapse\n",
    " and consequently the apoapsis are changing. \n",
    " So, over time the binary orbit will rotate about the center of mass\n",
    " as the periapsis precesses while the semi-major axis and the eccentricity\n",
    " remain constant.\n",
    " \"\"\" "
   ]
  },
  {
   "cell_type": "code",
   "execution_count": 4,
   "metadata": {},
   "outputs": [],
   "source": [
    "sim, rebx, tides = getsim()\n",
    "ps = sim.particles\n",
    "ps[0].params[\"tctl_k1\"] = 0.25\n",
    "ps[0].params[\"tctl_tau\"] = 1e-3\n",
    "ps[0].params[\"Omega\"] = 1e-5\n",
    "\n",
    "tmax = 2.5e4\n",
    "Nout= 1000\n",
    "\n",
    "a, e = np.zeros(Nout), np.zeros(Nout)\n",
    "times = np.linspace(0,tmax,Nout)\n",
    "# to plot physical radius of the Sun\n",
    "\n",
    "R0 = 0*times + ps[0].r\n",
    "\n",
    "q = (ps[1].m/ps[0].m)\n",
    "T = ps[0].r**3/sim.G/ps[0].m/ps[0].params[\"tctl_tau\"]\n",
    "apred = ps[0].r*((ps[1].a/ps[0].r)**8 - 48.*ps[0].params[\"tctl_k1\"]*q*(1+q)*times/T)**(1./8.)"
   ]
  },
  {
   "cell_type": "code",
   "execution_count": 5,
   "metadata": {},
   "outputs": [
    {
     "name": "stdout",
     "output_type": "stream",
     "text": [
      "CPU times: user 44.4 s, sys: 0 ns, total: 44.4 s\n",
      "Wall time: 44.4 s\n"
     ]
    }
   ],
   "source": [
    "%%time\n",
    "for i, time in enumerate(times):\n",
    "    sim.integrate(time)\n",
    "    a[i] = ps[1].a\n",
    "    e[i] = ps[1].e"
   ]
  },
  {
   "cell_type": "code",
   "execution_count": 6,
   "metadata": {},
   "outputs": [
    {
     "data": {
      "text/plain": [
       "[<matplotlib.lines.Line2D at 0x7f40fe614250>]"
      ]
     },
     "execution_count": 6,
     "metadata": {},
     "output_type": "execute_result"
    },
    {
     "data": {
      "image/png": "[encoded data removed]",
      "text/plain": [
       "<Figure size 864x288 with 2 Axes>"
      ]
     },
     "metadata": {
      "needs_background": "light"
     },
     "output_type": "display_data"
    }
   ],
   "source": [
    "fig, ax = plt.subplots(2, figsize=(12,4))\n",
    "ax[0].plot(times, a, label='$a_{\\oplus}$')\n",
    "ax[0].plot(times, R0, label='$R_{\\odot}$')\n",
    "ax[0].plot(times, apred, '--', label='$a_{\\oplus}$ predicted')\n",
    "\n",
    "plt.xlabel('$t$ (yr)', fontsize=16)\n",
    "ax[0].set_ylabel('(AU)', fontsize=16)\n",
    "\n",
    "ax[0].legend(fontsize=16, loc='best')\n",
    "\n",
    "#ax[1].legend(fontsize=16, loc='best')\n",
    "ax[1].plot(times, a, color='blue')\n",
    "ax[1].plot(times, apred, '--', color='green')"
   ]
  },
  {
   "cell_type": "code",
   "execution_count": 7,
   "metadata": {},
   "outputs": [
    {
     "data": {
      "text/plain": [
       "Text(0.5, 1.0, 'Evolution of Eccentricity')"
      ]
     },
     "execution_count": 7,
     "metadata": {},
     "output_type": "execute_result"
    },
    {
     "data": {
      "image/png": "[encoded data removed]",
      "text/plain": [
       "<Figure size 864x288 with 1 Axes>"
      ]
     },
     "metadata": {
      "needs_background": "light"
     },
     "output_type": "display_data"
    }
   ],
   "source": [
    "fig, ax = plt.subplots(figsize=(12,4))\n",
    "ax.plot(times, e, label='$a_{\\oplus}$')\n",
    "ax.set_xlabel('$t$ (yr)', fontsize=24)\n",
    "ax.set_ylabel('e', fontsize=24)\n",
    "ax.legend(fontsize=24, loc='best')\n",
    "ax.set_title('Evolution of Eccentricity')"
   ]
  },
  {
   "cell_type": "code",
   "execution_count": null,
   "metadata": {},
   "outputs": [],
   "source": [
    "\"\"\" How does adding a non-zero tau value change the evolution of the orbital\n",
    "parameters over time?\"\"\"\n",
    "\"\"\" Both the semi major axis and the eccentricity decrease over time\n",
    "when tau becomes a non-zero value.\"\"\""
   ]
  },
  {
   "cell_type": "code",
   "execution_count": 8,
   "metadata": {},
   "outputs": [],
   "source": [
    "\"\"\" Observational Constraints on Stability\"\"\"\n",
    "import emcee "
   ]
  },
  {
   "cell_type": "code",
   "execution_count": 9,
   "metadata": {},
   "outputs": [
    {
     "data": {
      "text/plain": [
       "[<matplotlib.lines.Line2D at 0x7f409cdcc160>]"
      ]
     },
     "execution_count": 9,
     "metadata": {},
     "output_type": "execute_result"
    },
    {
     "data": {
      "image/png": "[encoded data removed]",
      "text/plain": [
       "<Figure size 432x288 with 1 Axes>"
      ]
     },
     "metadata": {
      "needs_background": "light"
     },
     "output_type": "display_data"
    }
   ],
   "source": [
    "a_b = np.array([0.0043, 0.2243, 0.1276, 0.228,\n",
    "               0.1762, 0.147, 0.1015, 0.0041,\n",
    "               0.1848, 0.0836, 0.0836, 0.0836,\n",
    "               0.12])\n",
    "a_p = np.array([0.0088, 0.7048, 2.72, 1.0896,\n",
    "               0.6035, 0.4644, 0.353, 0.92,\n",
    "               0.7903, 0.2956, 1, 0.6992, 0.4])\n",
    "\n",
    "plt.figure()\n",
    "plt.title('Circumbinary Data')\n",
    "plt.xlabel('Binary Semi-Major Axis (ab)')\n",
    "plt.ylabel('Planetary Semi-Major Axis (ap)')\n",
    "plt.scatter(a_b, a_p, color='teal')\n",
    "\n",
    "# plot the line a_p = 2a_b\n",
    "plt.plot(a_b, 2*a_b, color='green')"
   ]
  },
  {
   "cell_type": "code",
   "execution_count": null,
   "metadata": {},
   "outputs": [],
   "source": [
    "\"\"\" Yes there seems to be a pile-up of circumbinary planets\n",
    "around a_p = 2a_b\"\"\""
   ]
  },
  {
   "cell_type": "code",
   "execution_count": 10,
   "metadata": {},
   "outputs": [],
   "source": [
    "a_i = a_p/a_b\n",
    "a_c = 2*a_b\n",
    "\n",
    "def log_prior(a_c):\n",
    "    array = []\n",
    "    for num in a_c:\n",
    "        if 1 < num <= 5:\n",
    "            array.append(0)\n",
    "        array.append(-np.inf)\n",
    "    return array\n",
    "\n",
    "def log_likelihood(a_c, a_i):\n",
    "    array = []\n",
    "    for flt, num in zip(a_c, a_i):\n",
    "        if num >= flt:\n",
    "            array.append(0)\n",
    "        else:\n",
    "            array.append(-np.inf)\n",
    "    return array\n",
    "\n",
    "def log_probability(a_c, a_i):\n",
    "    p_array = []\n",
    "    lp = log_prior(a_c)\n",
    "    ll = log_likelihood(a_c, a_i)\n",
    "\n",
    "    for p,l in zip(lp,ll):\n",
    "        if np.isfinite(lp) is False:\n",
    "            p_array.append(-np.inf)\n",
    "        p_array.append(p + l)\n",
    "    return p_array\n",
    "\n",
    "ac_in = 2.0\n",
    "pos = ac_in + 1e-4 * np.random.randn(32,1)\n",
    "nwalkers, ndim = pos.shape"
   ]
  },
  {
   "cell_type": "code",
   "execution_count": 11,
   "metadata": {},
   "outputs": [
    {
     "name": "stderr",
     "output_type": "stream",
     "text": [
      "100%|██████████| 5000/5000 [00:08<00:00, 580.58it/s]\n"
     ]
    },
    {
     "data": {
      "text/plain": [
       "State([[1.10287981]\n",
       " [1.78855603]\n",
       " [1.30078331]\n",
       " [1.24064265]\n",
       " [1.14495072]\n",
       " [1.00971978]\n",
       " [1.21874967]\n",
       " [1.32737162]\n",
       " [1.04399859]\n",
       " [1.63361257]\n",
       " [1.81622744]\n",
       " [1.46212585]\n",
       " [1.04938107]\n",
       " [1.9426438 ]\n",
       " [1.20313925]\n",
       " [1.24229078]\n",
       " [1.62634025]\n",
       " [1.9506551 ]\n",
       " [1.37325199]\n",
       " [1.28598238]\n",
       " [1.05502833]\n",
       " [1.02783327]\n",
       " [1.7010939 ]\n",
       " [1.9483085 ]\n",
       " [1.10493682]\n",
       " [2.0351729 ]\n",
       " [1.8916505 ]\n",
       " [1.44322814]\n",
       " [1.26866393]\n",
       " [1.98481797]\n",
       " [1.36966077]\n",
       " [1.04385883]], log_prob=[0. 0. 0. 0. 0. 0. 0. 0. 0. 0. 0. 0. 0. 0. 0. 0. 0. 0. 0. 0. 0. 0. 0. 0.\n",
       " 0. 0. 0. 0. 0. 0. 0. 0.], blobs=[], random_state=('MT19937', array([3987288936, 3658724817,  688002855,  535247175, 3242540266,\n",
       "       1255721511,  872036342,  941511196,   44422029, 3010413488,\n",
       "       2667929561, 1643643352, 3296021934,  213077278, 3121213585,\n",
       "       1947598661, 1575967604,  118000402, 1111700781,  267364017,\n",
       "       2379409285, 3507801188, 3707271967, 2238349597, 4052894723,\n",
       "        344208780, 1862887315, 4019778332,  937388345, 4105571982,\n",
       "       1445130062, 2415431147, 2145344481, 3481939120,  159528020,\n",
       "       1273201891, 1931601778, 3340872817,  576176704,   12180664,\n",
       "       1367122772, 3683562762, 3403689828, 3584277276, 2387803391,\n",
       "       3711686373, 2624262222, 1914053263,  283853413, 1376353206,\n",
       "       1135182418, 4245082872,  189854793, 2192376769,  643245239,\n",
       "       1453618405,  489757432, 2506637173, 3417414519,  358924124,\n",
       "       2807222070, 1402499758, 1823066293, 1761866462, 2484556855,\n",
       "       2644997363, 2363997267, 2232054494, 3462748171, 1660341577,\n",
       "        431385421,   92443005, 4138156793,  147113681, 3562564427,\n",
       "       1017054306, 1891860177, 3510859782, 2900333651, 1001075636,\n",
       "       4231440213, 2491667083, 2734561313, 3529601374, 1541986874,\n",
       "       2575281547,  879274255, 1479156870, 1727355165, 2069883548,\n",
       "       1424525649, 2856224239,  553686027,  547385515, 1137019102,\n",
       "       1803541001, 1739188791, 3593876176, 3210870979, 2434853624,\n",
       "       3967759740,  597115338, 4253882721, 1072675698,  542621890,\n",
       "       3954562567, 4132672499,  346345292,  193216853, 3358798858,\n",
       "       1608929955,  464697825,  692770873, 3725197843, 1192992043,\n",
       "       2104524121, 1548987750, 1993907991, 2063342183, 2798427612,\n",
       "       1164661989, 2867848792, 1409369886, 3206640648, 1427070865,\n",
       "        955169389, 4044831801,  972032028, 3911232673, 4112997127,\n",
       "       2398672872,  406061604, 1872572240, 3993767937, 4238686585,\n",
       "       2751140870,  217190381, 1169509527, 2338398036, 2742581040,\n",
       "       2486160580, 3393714623, 3085116892, 1453985596, 2649768945,\n",
       "       3586812227,  188565005, 2853402622,  315921453, 3982450638,\n",
       "        432866883, 1891944116, 3422224751,  136230926, 3471662422,\n",
       "       3325183798, 1493831621, 1406838978, 3760744862, 1006577211,\n",
       "       3261099730, 1930659270, 4082983481,  375967737, 1430458019,\n",
       "       1768583037, 2563978918, 4189298676, 1922833751,  119812385,\n",
       "        140841449, 3688726113,  256269406, 4073463884, 1421088274,\n",
       "        104158328, 1936565849, 1556509098, 3078002806, 3728663681,\n",
       "       3242767626, 1781197460, 2856409953, 1123959382,  804256846,\n",
       "       3689999109, 1848572536,  158724331, 3079193612, 2326535562,\n",
       "          5292520, 2183287445,  329966136, 3963443509, 4133552063,\n",
       "        859139587, 2293092004, 3622159733, 2744254999, 1713908614,\n",
       "       3592270421, 1153002624, 2920851848, 4002286214,  869466319,\n",
       "        202997855, 3885553194, 2233859939,  594557479, 3016097320,\n",
       "       1547601580, 3662892534, 3286055606, 3740295694, 1273785730,\n",
       "       3184129009, 4189004653,  491075637,  895594573, 2407180329,\n",
       "       3293748770,   97576029, 1396299178, 1878068509,  348243226,\n",
       "       3295134619, 4197693695, 3851119517, 2672540566, 4059225186,\n",
       "       1891349684,  199868026,  464750254,  215039122,  852814604,\n",
       "         22912164,  605761965, 2061767257, 3973316037, 1082686028,\n",
       "       3300265438, 1136991404,  268894670, 3408195705, 3975386361,\n",
       "       3676397369, 3432709659, 2124073932, 3445719901, 1938437373,\n",
       "       2434608270, 3222379250,  881378466, 3682326731, 3386070397,\n",
       "       4166498863, 2553027135, 3787666937, 2162819964, 3938496438,\n",
       "       1663221584, 2842851937,  474853185, 2293898419,   27572758,\n",
       "       1450769555, 1226286056, 3152040509, 3561019260,  117066783,\n",
       "        756779330,  611235091, 2743906552,  236439546, 1211780138,\n",
       "       2375090075, 3830938218, 2921329107, 2902676262, 3982621657,\n",
       "       1279394133, 1706401040, 2906219790, 2726578078, 1163797320,\n",
       "       2624387650, 3105756319,  120246882, 1988675132, 1716904706,\n",
       "        739008755,   78027521, 2814450234, 2557390330,  758413368,\n",
       "         66687217, 1215086842, 3488863195, 4254876786,  892844930,\n",
       "       2717644041,  567833590, 2534225558, 2695212962, 4266848242,\n",
       "       3101205254,   38412751, 2206327369, 1658895710, 2602836216,\n",
       "       3579933395,  963447195, 3785594070,  544890720, 2725042279,\n",
       "       3396117936, 2021279049,   25312625, 1661490479,  946939247,\n",
       "       4003939196, 1143879997,  186544455, 3077948574, 2613983638,\n",
       "       1370419818, 3549713546, 3883000894, 3289326634, 1079585558,\n",
       "       3535943435, 2315902353, 2944286560, 2687040283, 1109236248,\n",
       "       3186562395, 1225898228, 1238637230, 3350185494,  726419294,\n",
       "       3324068241, 3916312921, 2495214858, 3152518501, 4292260174,\n",
       "       3259520025, 2520160735, 2966225313, 4112966372, 2724429774,\n",
       "       2512723093, 1313862780, 4245169171, 3638697840,  121635980,\n",
       "       3078741125,   15584395, 2691650225, 2402816317,  247961197,\n",
       "       2123405716, 3636948188, 3022955881, 3838740628, 3554509625,\n",
       "       3234904454, 3850946388, 3022825322, 1649563601, 1234982944,\n",
       "       2700183661,  490503472,  774002678, 3105798346, 2685789199,\n",
       "       1863516091,  884116216,  189999653, 2854040219,  922387653,\n",
       "        861085778,  596104222, 3149417099,  794755799, 3318588227,\n",
       "        763434726, 3561283305, 1728973216, 3951277872, 3039383975,\n",
       "       3741836412, 2220906663, 4212606408, 2904493823, 3925109834,\n",
       "        889303116, 3171721095, 2775997373, 1752321250, 2716023271,\n",
       "       2054390384, 1170574849, 2945730295, 2968379038,  188082867,\n",
       "       3982116337, 3088688722, 4061278736, 1805218211, 3500746468,\n",
       "       3969588242, 3218953439, 3173457814, 2632176943, 1956569942,\n",
       "       3498707572, 2356118733,  188310631, 2230493574, 1641778517,\n",
       "       3347245306,  196870668, 4109313184, 2981144811, 1167432934,\n",
       "       2340994899,  958564083, 2370448020,   35424031, 3159419479,\n",
       "       3401023506, 1627817784, 2056304802, 1349770097, 3923155542,\n",
       "       2048344562, 4077731549, 2994307662, 1307591318,  511343722,\n",
       "        887763079, 4176629282, 3392212351, 2831542515, 1485376260,\n",
       "       4168900710, 1382563916, 1241033609,  344048490, 1556054702,\n",
       "       2932745248, 2235563725, 4215050194, 3612416996, 2377059706,\n",
       "       3993123613, 3322664279, 1244277254, 1828533503, 1318944024,\n",
       "       1017702337, 1385901118, 2557803419, 1095265922,  603993649,\n",
       "        787013822,  680318047,  819374576, 2121678791, 3997719004,\n",
       "       1282647125, 1319824311, 3460353192, 2717838018, 3334205192,\n",
       "       1220309614,  304761592,  892249825, 1095606399, 2885063597,\n",
       "       1360414147, 2631024596,  409992155, 1792903457, 2347349556,\n",
       "        191197459, 3191016520, 3201496902, 3356776417, 1599426674,\n",
       "        338621263,  480941008, 1577030712,  845414497, 1166223328,\n",
       "       3054785181,  229905044, 3972845916, 3946617003, 1753939947,\n",
       "       1849893113,  489416081,  852152545, 3731414192, 1944744001,\n",
       "       3453663866, 2214254947, 3147636748, 2615951259,  716930187,\n",
       "       1323521789, 1158638342, 1354246475,  442014990,  725611481,\n",
       "       2703519579,  814210413, 2050592892, 1624376275, 2261244414,\n",
       "       4289410339,  703134352, 2902622390,  643078094, 2156346523,\n",
       "       1506178059, 2795497475, 3049948665, 3576298668, 2394027492,\n",
       "       2187148563,  214339249,  453289886, 3064405171, 3825168420,\n",
       "       3715682644, 2277509025, 1593276114, 1802902887, 4254802589,\n",
       "       3758803743, 2649113031, 2655069264, 1873407414, 3613175155,\n",
       "       1299180378, 2938494041, 3667096320,  425453307, 2981782805,\n",
       "       3598676504, 1966301396,   59394043, 2659507903, 1470994990,\n",
       "        585287396,  527445004,  675714731, 1703228490, 2702207233,\n",
       "       3766658837,  531164860, 2756731721, 4248584684, 2397142534,\n",
       "       3584932699, 3058728154, 3467531654, 3974727096, 1579026069,\n",
       "       3082933344, 4279268474,  153001278, 1205830111, 2890968326,\n",
       "        293011968, 2917626328, 3638976683, 2691760005, 3140068809,\n",
       "       2568876444,  405262689,  461028441, 3840529480, 1760804349,\n",
       "         62573987,  933374598,   44596418, 2013931463,  455617670,\n",
       "       3342515902, 1507517810, 1747171630,  706955566,  715373266,\n",
       "         60959136, 3775563384, 3099698090,  771563588, 2684732739,\n",
       "       3235559530, 4127191570, 2856574194, 2776239163, 4162774889,\n",
       "       4140177157, 1343512018, 3089969585,  278334462,  929760010,\n",
       "       2097540209, 2092401309, 3694832062, 4015049613, 1977079829,\n",
       "       3767925367, 4207881180,  658452529, 2037279052, 3645200355,\n",
       "       3361761186, 3074180821, 3216646526, 2346190387], dtype=uint32), 387, 0, 0.0))"
      ]
     },
     "execution_count": 11,
     "metadata": {},
     "output_type": "execute_result"
    }
   ],
   "source": [
    "sampler = emcee.EnsembleSampler(nwalkers, ndim, log_probability, args=(a_i,))\n",
    "sampler.run_mcmc(pos, 5000, progress=True)"
   ]
  },
  {
   "cell_type": "code",
   "execution_count": 12,
   "metadata": {},
   "outputs": [
    {
     "data": {
      "text/plain": [
       "Text(0.5, 0, 'step number')"
      ]
     },
     "execution_count": 12,
     "metadata": {},
     "output_type": "execute_result"
    },
    {
     "data": {
      "image/png": "[encoded data removed]",
      "text/plain": [
       "<Figure size 720x504 with 2 Axes>"
      ]
     },
     "metadata": {
      "needs_background": "light"
     },
     "output_type": "display_data"
    }
   ],
   "source": [
    "fig, axes = plt.subplots(2,figsize=(10,7), sharex = True)\n",
    "samples = sampler.get_chain()\n",
    "label = [\"tac\"]\n",
    "\n",
    "for i in range(ndim):\n",
    "    ax = axes[i]\n",
    "    ax.plot(samples[:, :, i], \"k\", alpha=0.3)\n",
    "    ax.set_xlim(0, len(samples))\n",
    "    ax.set_ylabel(label[i])\n",
    "    ax.yaxis.set_label_coords(-0.1, 0.5)\n",
    "axes[-1].set_xlabel(\"step number\")"
   ]
  },
  {
   "cell_type": "code",
   "execution_count": null,
   "metadata": {},
   "outputs": [],
   "source": [
    "\"\"\" The values of ~ac (tac) seem to be constrained to values \n",
    "1.0 < tac < 2.0 based on the plot above.\"\"\""
   ]
  },
  {
   "cell_type": "code",
   "execution_count": 13,
   "metadata": {},
   "outputs": [
    {
     "name": "stdout",
     "output_type": "stream",
     "text": [
      "[25.9303959]\n"
     ]
    }
   ],
   "source": [
    "tau = sampler.get_autocorr_time()\n",
    "print(tau)"
   ]
  },
  {
   "cell_type": "code",
   "execution_count": 14,
   "metadata": {},
   "outputs": [
    {
     "name": "stdout",
     "output_type": "stream",
     "text": [
      "(12032, 1)\n"
     ]
    }
   ],
   "source": [
    "flat_samples = sampler.get_chain(discard=100, thin=13, flat=True)\n",
    "print(flat_samples.shape)"
   ]
  },
  {
   "cell_type": "code",
   "execution_count": 15,
   "metadata": {},
   "outputs": [
    {
     "data": {
      "image/png": "[encoded data removed]",
      "text/plain": [
       "<Figure size 244.8x244.8 with 1 Axes>"
      ]
     },
     "metadata": {
      "needs_background": "light"
     },
     "output_type": "display_data"
    }
   ],
   "source": [
    "import corner\n",
    "\n",
    "fig = corner.corner(flat_samples, labels=label, truths=[ac_in])"
   ]
  },
  {
   "cell_type": "code",
   "execution_count": 16,
   "metadata": {},
   "outputs": [
    {
     "data": {
      "text/latex": [
       "$\\displaystyle \\mathrm{['tac']} = 1.781_{-0.262}^{0.213}$"
      ],
      "text/plain": [
       "<IPython.core.display.Math object>"
      ]
     },
     "metadata": {},
     "output_type": "display_data"
    }
   ],
   "source": [
    "from IPython.display import display, Math\n",
    "\n",
    "for i in range(ndim):\n",
    "    mcmc = np.percentile(flat_samples[:, i], [50, 75, 95])\n",
    "    q = np.diff(mcmc)\n",
    "    txt = \"\\mathrm{{{3}}} = {0:.3f}_{{-{1:.3f}}}^{{{2:.3f}}}\"\n",
    "    txt = txt.format(mcmc[1], q[0], q[1], label)\n",
    "    display(Math(txt))"
   ]
  },
  {
   "cell_type": "code",
   "execution_count": null,
   "metadata": {},
   "outputs": [],
   "source": [
    "\"\"\" Based on the statistical analysis, ~a_c is constrained to 1.790 based on the above observations.\n",
    "My intuition had me believe that the value was 1.5 since the range seemed to be split equally, more or less, between 1.0 and 2.0.\n",
    "Although, the statistical constraints using data gave me a consicise estimate in addition to accounting for errors in measurement.\"\"\""
   ]
  },
  {
   "cell_type": "code",
   "execution_count": null,
   "metadata": {},
   "outputs": [],
   "source": []
  }
 ],
 "metadata": {
  "kernelspec": {
   "display_name": "Python 3",
   "language": "python",
   "name": "python3"
  },
  "language_info": {
   "codemirror_mode": {
    "name": "ipython",
    "version": 3
   },
   "file_extension": ".py",
   "mimetype": "text/x-python",
   "name": "python",
   "nbconvert_exporter": "python",
   "pygments_lexer": "ipython3",
   "version": "3.8.2"
  }
 },
 "nbformat": 4,
 "nbformat_minor": 2
}
