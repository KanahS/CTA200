{
 "cells": [
  {
   "cell_type": "code",
   "execution_count": 1,
   "metadata": {},
   "outputs": [],
   "source": [
    "import math\n",
    "import numpy as np\n",
    "import matplotlib \n",
    "import matplotlib.pyplot as plt\n",
    "import rebound as rb"
   ]
  },
  {
   "cell_type": "code",
   "execution_count": null,
   "metadata": {},
   "outputs": [],
   "source": [
    "\"\"\"Intro to Rebound\"\"\""
   ]
  },
  {
   "cell_type": "code",
   "execution_count": null,
   "metadata": {},
   "outputs": [],
   "source": [
    "\"\"\"Question 2\"\"\"\n",
    "\n",
    "sim = rb.Simulation()\n",
    "\n",
    "sim.move_to_com()\n",
    "sim.integrator = \"whfast\"\n",
    "\n",
    "sim.add(m=1, hash=\"Binary 1\")\n",
    "sim.add(m=1, a=1, e= 0.1, hash=\"Binary 2\", f=np.random.rand()*2*np.pi)\n",
    "sim.add(a=2.5, e= 0.4, hash=\"Test Planet\", f=np.random.rand()*2*np.pi)\n",
    "\n",
    "spec_int = np.pi # half of one full orbit\n",
    "\n",
    "N_orbit = 6*np.pi #3 full orbits\n",
    "\n",
    "sim.integrate(N_orbit, exact_finish_time=0) #setting flag to integrate up to timestep nearest to endtime\n",
    "sim.dt = 1e-3\n",
    "\n",
    "sim.exit_max_distance = 4*1"
   ]
  },
  {
   "cell_type": "code",
   "execution_count": null,
   "metadata": {
    "scrolled": true
   },
   "outputs": [],
   "source": [
    "sim.status()\n",
    "# help(rb.Simulation.initSimulationArchive)"
   ]
  },
  {
   "cell_type": "code",
   "execution_count": null,
   "metadata": {},
   "outputs": [],
   "source": [
    "\"\"\"Question 3\"\"\"\n",
    "\n",
    "sim2 = rb.Simulation()\n",
    "\n",
    "sim2.move_to_com()\n",
    "sim2.integrator = \"whfast\"\n",
    "\n",
    "sim2.add(m=1, hash=\"Binary 1\")\n",
    "sim2.add(m=1, hash=\"Binary 2\", a=1, e=0.5)\n",
    "sim2.add(hash=\"Planet\", a=4, e=0)\n",
    "\n",
    "N2_orbit = 10*2*np.pi\n",
    "sim2.dt = 1e-3"
   ]
  },
  {
   "cell_type": "code",
   "execution_count": null,
   "metadata": {},
   "outputs": [],
   "source": [
    "sim2.status()"
   ]
  },
  {
   "cell_type": "code",
   "execution_count": null,
   "metadata": {},
   "outputs": [],
   "source": [
    "%matplotlib inline\n",
    "\n",
    "fig = rb.OrbitPlot(sim2)\n",
    "plt.savefig('orbitalplot.pdf')"
   ]
  },
  {
   "cell_type": "code",
   "execution_count": null,
   "metadata": {
    "scrolled": true
   },
   "outputs": [],
   "source": [
    "particles2 = sim2.particles\n",
    "fig, ax = plt.subplots()\n",
    "ax.plot()\n",
    "\n",
    "torb = 6*np.pi\n",
    "Noutputs = 100\n",
    "times = np.linspace(0, torb, Noutputs)\n",
    "\n",
    "b1x = []\n",
    "b1y = []\n",
    "\n",
    "b2x = []\n",
    "b2y = []\n",
    "\n",
    "px = []\n",
    "py = []\n",
    "\n",
    "\n",
    "sim2.move_to_com()\n",
    "for i, time in enumerate(times):\n",
    "    sim2.integrate(time,exact_finish_time=0)\n",
    "    b1x.append(particles2[0].x)\n",
    "    b1y.append(particles2[0].y)\n",
    "    b2x.append(particles2[1].x)\n",
    "    b2y.append(particles2[1].y)\n",
    "    px.append(particles2[2].x)\n",
    "    py.append(particles2[2].y)\n",
    "\n",
    "plt.plot(b1x,b1y, color='green')\n",
    "plt.plot(b2x,b2y, color='cyan')\n",
    "plt.plot(px,py, color='pink')   \n",
    "plt.xlabel(\"x\")\n",
    "plt.ylabel(\"y\")\n",
    "plt.title(\"Manual Orbital Plot\")\n",
    "\n",
    "#plt.savefig('manualorbit.png')"
   ]
  },
  {
   "cell_type": "code",
   "execution_count": null,
   "metadata": {},
   "outputs": [],
   "source": [
    "sim2.status()"
   ]
  },
  {
   "cell_type": "code",
   "execution_count": null,
   "metadata": {},
   "outputs": [],
   "source": [
    "#survival_times = []\n",
    "\n",
    "#def survival(tuple):\n",
    "#    sim3 = rb.Simulation()\n",
    "#    sim3.move_to_com()\n",
    "#    sim3.dt = 1e-3\n",
    "    \n",
    "#    N_orbit = (100)*2*np.pi\n",
    "#    sim3.add(m=1, hash=\"Binary 1\")\n",
    "#    sim3.add(m=1, a=1, e=tuple[0], hash=\"Binary 2\", f=np.random.rand()*2*np.pi)\n",
    "#    sim3.add(a=tuple[1], e=0, hash=\"Test Planet\", f=np.random.rand()*2*np.pi)\n",
    "    \n",
    "#    sim3.integrate(N_orbit, exact_finish_time=0)\n",
    "    \n",
    "#    a_crit = 2.278 + 3.824*tuple[0] - 1.71*(tuple[0])**2\n",
    "#    sim.exit_max_distance = a_crit\n",
    "    \n",
    "#    for num in tuple:\n",
    "#        if num == round(sim3.particles[1].e, 4): \n",
    "#            survival_times.append(sim3.particles[2].P)\n",
    "        \n",
    "#        if num == round(sim3.particles[2].a):\n",
    "#            survival_times.append(sim3.particles[2].P) \n",
    "        \n",
    "#    return survival_times"
   ]
  },
  {
   "cell_type": "code",
   "execution_count": null,
   "metadata": {},
   "outputs": [],
   "source": [
    "\"\"\"Classic Results\"\"\""
   ]
  },
  {
   "cell_type": "code",
   "execution_count": 2,
   "metadata": {},
   "outputs": [],
   "source": [
    "\"\"\" Question 1\"\"\"\n",
    "\n",
    "# tuples are of order (e_b, a_p) binary eccentricity \n",
    "# and planetary semi-major axis\n",
    "\n",
    "# function edits \n",
    "e_bin = np.linspace(0, 0.7, 5)\n",
    "a_plan = np.linspace(1, 5, 5)\n",
    "tup_list = []\n",
    "for e in e_bin:\n",
    "    for a in a_plan:\n",
    "        tup_list.append((e,a))\n",
    "\n",
    "def test(tuple):\n",
    "    surv = []\n",
    "    \n",
    "    sim3 = rb.Simulation()\n",
    "    sim3.move_to_com()\n",
    "    sim3.dt = 1e-3\n",
    "    \n",
    "    N_orbit = (100)*2*np.pi\n",
    "    sim3.add(m=1, hash=\"Binary 1\")\n",
    "    sim3.add(m=1, a=1, e=tuple[0], hash=\"Binary 2\", f=np.random.rand()*2*np.pi)\n",
    "    sim3.add(a=tuple[1], e=0, hash=\"Test Planet\", f=np.random.rand()*2*np.pi)\n",
    "    \n",
    "    times = np.linspace(0, N_orbit, 25)\n",
    "    for i, time in enumerate(times):\n",
    "        sim3.integrate(time, exact_finish_time=0)\n",
    "        p = sim3.particles[2]\n",
    "        if p.x**2 + p.y**2 > (100)**2:\n",
    "            break\n",
    "        #return time\n",
    "    \n",
    "    sim3.integrate(N_orbit, exact_finish_time=0)   \n",
    "    surv.append(sim3.particles[2].P)\n",
    "    return surv\n",
    "# Need to reset simulation so that each run of the same tuple yields the same result"
   ]
  },
  {
   "cell_type": "code",
   "execution_count": 3,
   "metadata": {},
   "outputs": [
    {
     "data": {
      "text/plain": [
       "[51.20738637054036]"
      ]
     },
     "execution_count": 3,
     "metadata": {},
     "output_type": "execute_result"
    }
   ],
   "source": [
    "test((0.7,5.0))"
   ]
  },
  {
   "cell_type": "code",
   "execution_count": null,
   "metadata": {},
   "outputs": [],
   "source": [
    "# mapping = pool.map(func= survival, iterable= tup_list)"
   ]
  },
  {
   "cell_type": "code",
   "execution_count": 4,
   "metadata": {
    "scrolled": false
   },
   "outputs": [
    {
     "name": "stdout",
     "output_type": "stream",
     "text": [
      "[[-3.970274039276784e-08], [14.530085244173891], [23.136644013394164], [35.56917643821077], [49.83062978908331], [-9.898262158980318], [-6318.76988486505], [22.59612989790554], [35.47676655949624], [49.76573180926372], [-736.8919486290973], [-3.990158007434275], [21.933471938209454], [35.848232586047], [49.424860828176556], [-61.818824798417594], [-25.78751159578366], [-294.9307422550001], [35.15362896072208], [49.19673902075042], [-25.991498324745994], [-81.8465508447484], [218.1681602129326], [35.24006381882363], [47.51936899218835]]\n",
      "CPU times: user 76 ms, sys: 141 ms, total: 217 ms\n",
      "Wall time: 5.92 s\n"
     ]
    }
   ],
   "source": [
    "%%time\n",
    "pool = rb.InterruptiblePool()\n",
    "mapping = pool.map(func= test, iterable= tup_list)\n",
    "#np.reshape(mapping, [5,5])\n",
    "print(mapping)"
   ]
  },
  {
   "cell_type": "code",
   "execution_count": 5,
   "metadata": {},
   "outputs": [
    {
     "data": {
      "text/plain": [
       "[[-3.970274039276784e-08],\n",
       " [14.530085244173891],\n",
       " [23.136644013394164],\n",
       " [35.56917643821077],\n",
       " [49.83062978908331],\n",
       " [-9.898262158980318],\n",
       " [-6318.76988486505],\n",
       " [22.59612989790554],\n",
       " [35.47676655949624],\n",
       " [49.76573180926372],\n",
       " [-736.8919486290973],\n",
       " [-3.990158007434275],\n",
       " [21.933471938209454],\n",
       " [35.848232586047],\n",
       " [49.424860828176556],\n",
       " [-61.818824798417594],\n",
       " [-25.78751159578366],\n",
       " [-294.9307422550001],\n",
       " [35.15362896072208],\n",
       " [49.19673902075042],\n",
       " [-25.991498324745994],\n",
       " [-81.8465508447484],\n",
       " [218.1681602129326],\n",
       " [35.24006381882363],\n",
       " [47.51936899218835]]"
      ]
     },
     "execution_count": 5,
     "metadata": {},
     "output_type": "execute_result"
    }
   ],
   "source": [
    "mapping"
   ]
  },
  {
   "cell_type": "code",
   "execution_count": 18,
   "metadata": {},
   "outputs": [
    {
     "data": {
      "text/plain": [
       "Text(0, 0.5, 'Planetary Semi-Major Axis (a)')"
      ]
     },
     "execution_count": 18,
     "metadata": {},
     "output_type": "execute_result"
    },
    {
     "data": {
      "image/png": "[encoded data removed]",
      "text/plain": [
       "<Figure size 432x288 with 1 Axes>"
      ]
     },
     "metadata": {
      "needs_background": "light"
     },
     "output_type": "display_data"
    }
   ],
   "source": [
    "fig = plt.figure()\n",
    "figure = np.reshape(mapping, [5,5])\n",
    "plt.pcolormesh(e_bin, a_plan, figure, shading='auto')\n",
    "plt.title('Mean Survival Times')\n",
    "plt.xlabel('Binary Eccentricity (e)')\n",
    "plt.ylabel('Planetary Semi-Major Axis (a)')"
   ]
  },
  {
   "cell_type": "code",
   "execution_count": 17,
   "metadata": {},
   "outputs": [
    {
     "data": {
      "text/plain": [
       "Text(0, 0.5, 'Binary Semi-Major Axis (a)')"
      ]
     },
     "execution_count": 17,
     "metadata": {},
     "output_type": "execute_result"
    },
    {
     "data": {
      "image/png": "[encoded data removed]",
      "text/plain": [
       "<Figure size 432x288 with 1 Axes>"
      ]
     },
     "metadata": {
      "needs_background": "light"
     },
     "output_type": "display_data"
    }
   ],
   "source": [
    "fig = plt.figure()\n",
    "a_bin = 2.278 + 3.824*e_bin - 1.71*(e_bin**2)\n",
    "plt.plot(e_bin, a_bin, color='teal')\n",
    "plt.title('Equation 1 Over-Plot')\n",
    "plt.xlabel('Binary Eccentricity (e)')\n",
    "plt.ylabel('Binary Semi-Major Axis (a)')"
   ]
  }
 ],
 "metadata": {
  "kernelspec": {
   "display_name": "Python 3",
   "language": "python",
   "name": "python3"
  },
  "language_info": {
   "codemirror_mode": {
    "name": "ipython",
    "version": 3
   },
   "file_extension": ".py",
   "mimetype": "text/x-python",
   "name": "python",
   "nbconvert_exporter": "python",
   "pygments_lexer": "ipython3",
   "version": "3.8.2"
  }
 },
 "nbformat": 4,
 "nbformat_minor": 2
}
