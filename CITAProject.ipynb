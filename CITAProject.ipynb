{
 "cells": [
  {
   "cell_type": "code",
   "execution_count": 1,
   "metadata": {},
   "outputs": [],
   "source": [
    "import math\n",
    "import numpy as np\n",
    "import matplotlib \n",
    "import matplotlib.pyplot as plt\n",
    "import rebound as rb"
   ]
  },
  {
   "cell_type": "code",
   "execution_count": 2,
   "metadata": {},
   "outputs": [
    {
     "data": {
      "text/plain": [
       "'Intro to Rebound'"
      ]
     },
     "execution_count": 2,
     "metadata": {},
     "output_type": "execute_result"
    }
   ],
   "source": [
    "\"\"\"Intro to Rebound\"\"\""
   ]
  },
  {
   "cell_type": "code",
   "execution_count": 3,
   "metadata": {},
   "outputs": [],
   "source": [
    "\"\"\"Question 2\"\"\"\n",
    "\n",
    "sim = rb.Simulation()\n",
    "\n",
    "sim.move_to_com()\n",
    "sim.integrator = \"whfast\"\n",
    "\n",
    "#N_orbit is 2pi, one full rotation\n",
    "\n",
    "sim.add(m=1, hash=\"Binary 1\")\n",
    "sim.add(m=1, a=1, e= 0.1, hash=\"Binary 2\", f=np.random.rand()*2*np.pi)\n",
    "sim.add(a=2.5, e= 0.4, hash=\"Test Planet\", f=np.random.rand()*2*np.pi)\n",
    "\n",
    "N_orbit = 6*np.pi #3 full orbits\n",
    "#sim.exit_max_distance = \n",
    "\n",
    "# d2 = p.x*p.x + p.y*p.y + p.z*p.z\n",
    "# if d2>sim.exit_max_distance**2\n",
    "\n",
    "sim.integrate(N_orbit, exact_finish_time=0) #setting flag to integrate up to timestep nearest to endtime\n",
    "sim.dt = 1e-3\n",
    "\n",
    "sim.exit_max_distance = 4*1"
   ]
  },
  {
   "cell_type": "code",
   "execution_count": 4,
   "metadata": {},
   "outputs": [
    {
     "name": "stdout",
     "output_type": "stream",
     "text": [
      "---------------------------------\n",
      "REBOUND version:     \t3.5.13\n",
      "REBOUND built on:    \tApr 23 2018 14:26:51\n",
      "Number of particles: \t3\n",
      "Selected integrator: \twhfast\n",
      "Simulation time:     \t1.8850000000001419e+01\n",
      "Current timestep:    \t0.001000\n",
      "---------------------------------\n",
      "<rebound.Particle object, m=1.0 x=-6.7597382890566635 y=-9.637149274315663 z=0.0 vx=-0.8399209086791916 vy=-0.09708139037793029 vz=0.0>\n",
      "<rebound.Particle object, m=1.0 x=-7.5395828829855445 y=-10.366829488398997 z=0.0 vx=0.13118151380055965 vy=-0.9928117831424274 vz=0.0>\n",
      "<rebound.Particle object, m=0.0 x=-48.93172387464286 y=-37.049393766000286 z=0.0 vx=-3.8396113088793244 vy=-2.832432237596784 vz=0.0>\n",
      "---------------------------------\n"
     ]
    }
   ],
   "source": [
    "sim.status()"
   ]
  },
  {
   "cell_type": "code",
   "execution_count": 7,
   "metadata": {},
   "outputs": [],
   "source": [
    "#spec_int = np.pi # half of one full orbit\n",
    "#sim.automateSimulationArchive(\"Section2Q2.bin\", interval = spec_int, deletefile = True)\n",
    "#s1_archive = rb.SimulationArchive(\"Section2Q2.bin\")\n",
    "\n",
    "# maybe try a for loop where when time is at pi, add the positions (x,y,z)\n",
    "# and (vx,vy,vz) to an empty list"
   ]
  },
  {
   "cell_type": "code",
   "execution_count": null,
   "metadata": {},
   "outputs": [],
   "source": [
    "\"\"\"Question 3\"\"\"\n",
    "\n",
    "sim2 = rb.Simulation()\n",
    "\n",
    "sim2.move_to_com()\n",
    "sim2.integrator = \"whfast\"\n",
    "\n",
    "sim2.add(m=1, hash=\"Binary 1\")\n",
    "sim2.add(m=1, hash=\"Binary 2\", a=1, e=0.5)"
   ]
  }
 ],
 "metadata": {
  "kernelspec": {
   "display_name": "Python 3",
   "language": "python",
   "name": "python3"
  },
  "language_info": {
   "codemirror_mode": {
    "name": "ipython",
    "version": 3
   },
   "file_extension": ".py",
   "mimetype": "text/x-python",
   "name": "python",
   "nbconvert_exporter": "python",
   "pygments_lexer": "ipython3",
   "version": "3.6.4"
  }
 },
 "nbformat": 4,
 "nbformat_minor": 2
}
