{
 "cells": [
  {
   "cell_type": "code",
   "execution_count": 2,
   "metadata": {},
   "outputs": [],
   "source": [
    "import math\n",
    "import numpy as np\n",
    "import matplotlib \n",
    "import matplotlib.pyplot as plt\n",
    "import rebound as rb"
   ]
  },
  {
   "cell_type": "code",
   "execution_count": 9,
   "metadata": {},
   "outputs": [],
   "source": [
    "# tuples are of order (e_b, a_p) binary eccentricity and planetary semi-major axis\n",
    "\n",
    "f_plan = np.random.rand()*2*np.pi\n",
    "tup_num = 7\n",
    "e_b = np.linspace(0, 0.7, tup_num)\n",
    "a_p = np.linspace(1, 5, tup_num)\n",
    "Np = 10\n",
    "tup_list = []\n",
    "\n",
    "for e in e_b:\n",
    "    for a in a_p:\n",
    "        tup_list.append((e,a,Np))\n",
    "\n",
    "def survival(initial):    \n",
    "    (eb, ap, Np) = initial\n",
    "\n",
    "    sim = rb.Simulation()\n",
    "    sim.add(m=1, hash=\"Binary 1\")\n",
    "    sim.add(m=1, a=1, e= eb, hash=\"Binary 2\", f = f_plan)\n",
    "    \n",
    "    #initializing Np massless planets\n",
    "    for p in range(Np):\n",
    "        sim.add(a= ap, e=0, hash=\"Test Planet\", f= f_plan)\n",
    "    \n",
    "    #array to keep track of survival times\n",
    "    surv = np.zeros([Np])\n",
    "    \n",
    "    sim.integrator = \"whfast\"\n",
    "    sim.move_to_com()\n",
    "    \n",
    "    #integrate\n",
    "    N_times = int(1e4)\n",
    "    N_orbit = (500)*2*np.pi\n",
    "    times = np.linspace(0, N_orbit, N_times)\n",
    "    \n",
    "    for i, time in enumerate(times):\n",
    "        if i == N_times/10:\n",
    "            print(time)\n",
    "            #print(f't={time/2/np.pi:.2f}') #let me know things are going well\n",
    "        sim.integrate(time, exact_finish_time=0)\n",
    "            \n",
    "        a_bin = sim.particles[1].a\n",
    "        for j,p in enumerate(sim.particles[2:]):                  \n",
    "            \n",
    "            #for plan in range(2, Np + 1):\n",
    "                #p = sim.particles[plan]\n",
    "           \n",
    "            #p = sim.particles[2]\n",
    "            \n",
    "            #a_bin = sim.particles[1].a\n",
    "            \n",
    "                #if (p.x**2 + p.y**2) > (100*a_bin)**2:\n",
    "                    #surv[j] = time\n",
    "                    #print(f'removing planet {j+2}')\n",
    "                    #sim.remove(j+2) \n",
    "                    \n",
    "            if (p.x**2 + p.y**2) > (100*a_bin)**2:\n",
    "                surv[j] = time\n",
    "                print(f'removing planet {j+2}')\n",
    "                sim.remove(j+2) \n",
    "                \n",
    "        # if all particles have been ejected, end integration\n",
    "        if len(sim.particles)==2:\n",
    "            break\n",
    "    surv[(surv==0)] = time\n",
    "    \n",
    "    print(f'simulation finished, {len(sim.particles)-2} planets remaining')\n",
    "    return np.mean(surv)\n",
    "   "
   ]
  },
  {
   "cell_type": "code",
   "execution_count": 10,
   "metadata": {
    "scrolled": true
   },
   "outputs": [
    {
     "name": "stdout",
     "output_type": "stream",
     "text": [
      "314.190684427422\n",
      "314.190684427422\n",
      "314.190684427422\n",
      "314.190684427422\n",
      "314.190684427422\n",
      "314.190684427422\n",
      "314.190684427422\n",
      "314.190684427422\n",
      "314.190684427422\n",
      "314.190684427422\n",
      "314.190684427422\n",
      "314.190684427422\n",
      "314.190684427422\n",
      "314.190684427422\n",
      "314.190684427422\n",
      "314.190684427422\n",
      "314.190684427422\n",
      "314.190684427422\n",
      "314.190684427422\n",
      "314.190684427422\n",
      "314.190684427422\n",
      "314.190684427422\n",
      "314.190684427422\n",
      "314.190684427422\n",
      "314.190684427422\n",
      "314.190684427422\n",
      "314.190684427422\n",
      "314.190684427422\n",
      "314.190684427422\n",
      "314.190684427422\n",
      "314.190684427422\n",
      "314.190684427422\n",
      "simulation finished, 10 planets remaining\n",
      "simulation finished, 10 planets remaining\n",
      "simulation finished, 10 planets remaining\n",
      "simulation finished, 10 planets remaining\n",
      "simulation finished, 10 planets remaining\n",
      "simulation finished, 10 planets remaining\n",
      "simulation finished, 10 planets remaining\n",
      "simulation finished, 10 planets remaining\n",
      "simulation finished, 10 planets remaining\n",
      "simulation finished, 10 planets remaining\n",
      "simulation finished, 10 planets remaining\n",
      "simulation finished, 10 planets remaining\n",
      "simulation finished, 10 planets remaining\n",
      "simulation finished, 10 planets remaining\n",
      "simulation finished, 10 planets remaining\n",
      "simulation finished, 10 planets remaining\n",
      "simulation finished, 10 planets remaining\n",
      "simulation finished, 10 planets remaining\n",
      "simulation finished, 10 planets remaining\n",
      "simulation finished, 10 planets remaining\n",
      "simulation finished, 10 planets remaining\n",
      "simulation finished, 10 planets remaining\n",
      "simulation finished, 10 planets remaining\n",
      "simulation finished, 10 planets remaining\n",
      "simulation finished, 10 planets remaining\n",
      "simulation finished, 10 planets remaining\n",
      "simulation finished, 10 planets remaining\n",
      "simulation finished, 10 planets remaining\n",
      "simulation finished, 10 planets remaining\n",
      "314.190684427422\n",
      "simulation finished, 10 planets remaining\n",
      "314.190684427422\n",
      "simulation finished, 10 planets remaining\n",
      "314.190684427422\n",
      "simulation finished, 10 planets remaining\n",
      "314.190684427422\n",
      "314.190684427422\n",
      "314.190684427422\n",
      "314.190684427422\n",
      "314.190684427422\n",
      "314.190684427422\n",
      "314.190684427422\n",
      "314.190684427422\n",
      "314.190684427422\n",
      "314.190684427422\n",
      "314.190684427422\n",
      "314.190684427422\n",
      "314.190684427422\n",
      "314.190684427422\n",
      "simulation finished, 10 planets remaining\n",
      "simulation finished, 10 planets remaining\n",
      "simulation finished, 10 planets remaining\n",
      "simulation finished, 10 planets remaining\n",
      "simulation finished, 10 planets remaining\n",
      "simulation finished, 10 planets remaining\n",
      "simulation finished, 10 planets remaining\n",
      "simulation finished, 10 planets remaining\n",
      "simulation finished, 10 planets remaining\n",
      "simulation finished, 10 planets remaining\n",
      "simulation finished, 10 planets remaining\n",
      "simulation finished, 10 planets remaining\n",
      "simulation finished, 10 planets remaining\n",
      "simulation finished, 10 planets remaining\n",
      "simulation finished, 10 planets remaining\n",
      "simulation finished, 10 planets remaining\n",
      "simulation finished, 10 planets remaining\n",
      "CPU times: user 171 ms, sys: 179 ms, total: 350 ms\n",
      "Wall time: 4min 15s\n"
     ]
    }
   ],
   "source": [
    "%%time\n",
    "pool = rb.InterruptiblePool()\n",
    "mapping = pool.map(func= survival, iterable= tup_list)"
   ]
  },
  {
   "cell_type": "code",
   "execution_count": 11,
   "metadata": {},
   "outputs": [
    {
     "data": {
      "text/plain": [
       "<matplotlib.colorbar.Colorbar at 0x7f658f5d62b0>"
      ]
     },
     "execution_count": 11,
     "metadata": {},
     "output_type": "execute_result"
    },
    {
     "data": {
      "image/png": "[encoded data removed]",
      "text/plain": [
       "<Figure size 432x288 with 2 Axes>"
      ]
     },
     "metadata": {
      "needs_background": "light"
     },
     "output_type": "display_data"
    }
   ],
   "source": [
    "fig = plt.figure()\n",
    "figure = np.reshape(mapping, [tup_num,tup_num])\n",
    "\n",
    "plt.pcolormesh(e_b, a_p, figure.T, shading='auto')\n",
    "plt.title('Mean Survival Times')\n",
    "plt.xlabel('Binary Eccentricity (e)')\n",
    "plt.ylabel('Planetary Semi-Major Axis (a)')\n",
    "plt.xlim(0.0,0.7)\n",
    "plt.ylim(1,5)\n",
    "\n",
    "a_b = 2.278 + 3.824*e_b - 1.71*(e_b**2)\n",
    "plt.plot(e_b, a_b, color='white')\n",
    "plt.scatter(e_b, a_b, color='white')\n",
    "\n",
    "plt.colorbar(label='Test Particle Survival Times')"
   ]
  },
  {
   "cell_type": "code",
   "execution_count": null,
   "metadata": {
    "scrolled": false
   },
   "outputs": [],
   "source": [
    "#dt = np.dtype([\n",
    "#    ('body_length','<u2'),\n",
    "#    ('msg_type', '<u2'),\n",
    "#    ('number', '<i4'),\n",
    "#    ('name', 'S6')\n",
    "#])\n",
    "#with open('eb0.0_ap5.0__Np15.bin', 'rb') as f:\n",
    "#    b = f.read()\n",
    "    \n",
    "#np_data = np.frombuffer(b, dt)\n",
    "#df = pd.DataFrame(np_data)\n",
    "#df\n",
    "\n",
    "#sa = rb.SimulationArchive(\"eb0.7_ap5.0__Np15.bin\")"
   ]
  },
  {
   "cell_type": "code",
   "execution_count": null,
   "metadata": {},
   "outputs": [],
   "source": [
    "sa = rb.SimulationArchive('eb0.0_ap5.0__Np15.bin')\n",
    "print(\"Number of snapshots: %d\" % len(sa))\n",
    "print(sa[0].particles[1])"
   ]
  },
  {
   "cell_type": "code",
   "execution_count": null,
   "metadata": {},
   "outputs": [],
   "source": [
    "sa1 = rb.SimulationArchive('eb0.3111111111111111_ap1.8888888888888888__Np15.bin')\n",
    "print(\"Number of snapshots: %d\" % len(sa1))\n",
    "print(sa1[0].particles[1])"
   ]
  },
  {
   "cell_type": "code",
   "execution_count": null,
   "metadata": {},
   "outputs": [],
   "source": [
    "10e4"
   ]
  },
  {
   "cell_type": "code",
   "execution_count": null,
   "metadata": {},
   "outputs": [],
   "source": [
    "10e3"
   ]
  },
  {
   "cell_type": "code",
   "execution_count": null,
   "metadata": {},
   "outputs": [],
   "source": [
    "1e4"
   ]
  },
  {
   "cell_type": "code",
   "execution_count": null,
   "metadata": {},
   "outputs": [],
   "source": [
    "#maptup = open('map_tup10.txt', 'r')\n",
    "#for line in maptup:\n",
    "#    print(line)\n",
    "#maptup.close()"
   ]
  },
  {
   "cell_type": "code",
   "execution_count": null,
   "metadata": {},
   "outputs": [],
   "source": []
  }
 ],
 "metadata": {
  "kernelspec": {
   "display_name": "Python 3",
   "language": "python",
   "name": "python3"
  },
  "language_info": {
   "codemirror_mode": {
    "name": "ipython",
    "version": 3
   },
   "file_extension": ".py",
   "mimetype": "text/x-python",
   "name": "python",
   "nbconvert_exporter": "python",
   "pygments_lexer": "ipython3",
   "version": "3.8.2"
  }
 },
 "nbformat": 4,
 "nbformat_minor": 4
}
