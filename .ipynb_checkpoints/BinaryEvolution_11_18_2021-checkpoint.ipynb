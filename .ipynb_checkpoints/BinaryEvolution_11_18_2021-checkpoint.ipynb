{
 "cells": [
  {
   "cell_type": "code",
   "execution_count": 79,
   "metadata": {},
   "outputs": [],
   "source": [
    "# Program to calculate binary evolution from constant time lag formalism\n",
    "\n",
    "import numpy as np\n",
    "import rebound as rb\n",
    "import reboundx as rx\n",
    "import matplotlib.pyplot as plt\n",
    "from matplotlib.pyplot import cm\n",
    "from scipy.integrate import odeint\n",
    "from scipy.integrate import quad\n",
    "import scipy\n",
    "from scipy import integrate\n",
    "import math as m\n",
    "import random as rd\n",
    "from scipy.interpolate import interp1d\n",
    "from scipy.optimize import fsolve\n",
    "from matplotlib.collections import LineCollection\n",
    "from matplotlib.colors import ListedColormap, BoundaryNorm\n",
    "import matplotlib.pylab as pl"
   ]
  },
  {
   "cell_type": "code",
   "execution_count": 114,
   "metadata": {},
   "outputs": [],
   "source": [
    "# Parameters for population of binaries circularized\n",
    "\n",
    "nb = 1 # Choose 10^5 for my simulation, if you want to run a test, \n",
    "# change it to ~10^2-10^3, *much* faster \n",
    "age_min = 1. # Age bounds for my simulation, gives range of binary ages.  \n",
    "# Want one value for your simulation\n",
    "age_max = 10."
   ]
  },
  {
   "cell_type": "code",
   "execution_count": 42,
   "metadata": {},
   "outputs": [],
   "source": [
    "def N(e):\n",
    "    num = 1. + 15./2.*e**2. + 45./8.*e**4. + 5./16.*e**6.\n",
    "    den = (1.-e**2.)**6.\n",
    "    return num/den"
   ]
  },
  {
   "cell_type": "code",
   "execution_count": 43,
   "metadata": {},
   "outputs": [],
   "source": [
    "def Na(e):\n",
    "    num = 1. + 31./2.*e**2. + 255./8.*e**4. + 185./16.*e**6. + 25./64.*e**8.\n",
    "    den = (1.-e**2.)**(15./2.)\n",
    "    return num/den"
   ]
  },
  {
   "cell_type": "code",
   "execution_count": 44,
   "metadata": {},
   "outputs": [],
   "source": [
    "def Omegae(e):\n",
    "    num = 1. + 3./2.*e**2. + 1./8.*e**4.\n",
    "    den = (1.-e**2.)**5.\n",
    "    return num/den"
   ]
  },
  {
   "cell_type": "code",
   "execution_count": 45,
   "metadata": {},
   "outputs": [],
   "source": [
    "def Ne(e):\n",
    "    num = 1. + 15./4.*e**2. + 15./8.*e**4. + 5./64.*e**6.\n",
    "    den = (1.-e**2.)**(13./2.)\n",
    "    return num/den"
   ]
  },
  {
   "cell_type": "code",
   "execution_count": 46,
   "metadata": {},
   "outputs": [],
   "source": [
    "def Omega(e):\n",
    "    num = 1. + 3.*e**2. + 3./8.*e**4.\n",
    "    den = (1.-e**2.)**(9./2.)\n",
    "    return num/den"
   ]
  },
  {
   "cell_type": "code",
   "execution_count": 47,
   "metadata": {},
   "outputs": [],
   "source": [
    "def Fe(e):\n",
    "    om_eq = N(e)/Omega(e)  # This is the \"pseudo-synchronous\" rotation\n",
    "    return Omegae(e)*om_eq - 18./11.*Ne(e)"
   ]
  },
  {
   "cell_type": "code",
   "execution_count": 48,
   "metadata": {},
   "outputs": [],
   "source": [
    "def Fa(e):\n",
    "    om_eq = N(e)/Omega(e)  # This is the \"pseudo-synchronous\" rotation\n",
    "    return 4./11.*(N(e)*om_eq - Na(e))"
   ]
  },
  {
   "cell_type": "code",
   "execution_count": null,
   "metadata": {},
   "outputs": [],
   "source": [
    "\"\"\"# Ordinary differential equation integrate to get tidal evolution\n",
    "# Parameters: \n",
    "# orb = (P[0],e[0]) initial orbital elements of binary\n",
    "# time is time array you integrate simulation over\n",
    "# mu is binary mass ratio M_2/M_1 *not* reduced mass\n",
    "# eta is a powerlaw used for my problem, take out this parameter for your simulations\"\"\""
   ]
  },
  {
   "cell_type": "code",
   "execution_count": 115,
   "metadata": {
    "scrolled": true
   },
   "outputs": [],
   "source": [
    "# Loading REBOUND  and REBOUNDx simulation archives\n",
    "sim = None\n",
    "\n",
    "sim = rx.SimulationArchive('eb0.525_ap4.500_Np15.0_tup25.0_Q10000.0_tau0.0030.bin', \n",
    "                           rebxfilename='xarchive.bin')\n",
    "\n",
    "orb = []\n",
    "\n",
    "for num in range(len(sim)):\n",
    "    e = sim[num][0].particles[1].e\n",
    "    a = sim[num][0].particles[1].a\n",
    "    \n",
    "    orb.append((a,e))\n",
    "# print(orb)\n",
    "k_2 = sim[0][0].particles[0].params[\"tctl_k1\"] # 0.035 for primary binary\n",
    "tau = sim[0][0].particles[0].params[\"tctl_tau\"] # 3.03E-5\n",
    "\n",
    "M1 = 1\n",
    "M2 = 1\n",
    "mu = 0.5\n",
    "G = 6.67E-11\n",
    "R_star = 0.1*(1-0.5)**(1/3) # (1-mu)"
   ]
  },
  {
   "cell_type": "code",
   "execution_count": 116,
   "metadata": {},
   "outputs": [],
   "source": [
    "# Creating population of binaries to circularize\n",
    "mu_pop = 0.5\n",
    "\n",
    "eb_pop = sim[0][0].particles[1].e\n",
    "\n",
    "ab_min=1.\n",
    "ab_max=200.\n",
    "\n",
    "xmin = np.log(ab_min)\n",
    "xmax = np.log(ab_max)\n",
    "\n",
    "lam = np.random.power(2.,size=nb)\n",
    "\n",
    "x_pop = (1.-lam)*xmin + lam*xmax\n",
    "\n",
    "ab_pop = sim[0][0].particles[1].a\n",
    "age_pop = sim[62][0].t"
   ]
  },
  {
   "cell_type": "code",
   "execution_count": 117,
   "metadata": {},
   "outputs": [],
   "source": [
    "def TideEq(orb,time,mu):\n",
    "        \n",
    "    ab = orb[0] # Semi-major axis\n",
    "    eb = orb[1] # Eccentricity\n",
    "        \n",
    "    K = ((3/2)*(nb**2)*k_2*tau)*((G*M1**2)/R_star)*((M2/M1)**2)*(R_star/ab)**6\n",
    "    dedt = ((11*eb*ab*K)/(G*M1*M2))*(Omegae(eb)*(Omega(eb)/nb)-(18/11)*Ne(eb)) # differential equation for eccentricity\n",
    "    dadt = ((4*K*ab**2)/(G*M1*M2))*(N(eb)*(Omega(eb)/nb)-Na(eb)) # Differential equation for semi-major axis\n",
    "        \n",
    "        #tc = (eb*mu*(1+mu))/((dedt)*(Fe(eb))) # circularization timescale\n",
    "    \n",
    "    return [dadt,dedt] # Returns differential equation for a and e"
   ]
  },
  {
   "cell_type": "code",
   "execution_count": 127,
   "metadata": {},
   "outputs": [],
   "source": [
    "ab_ev = []\n",
    "eb_ev = []\n",
    "ab_0 = []\n",
    "eb_0 = [] \n",
    "mu_ev = []\n",
    "age_ev = []\n",
    "\n",
    "for i in range(nb):\n",
    "    # Individual parameters saving for circularized population of binaries\n",
    "    ab = ab_pop\n",
    "    eb = eb_pop\n",
    "    \n",
    "    mub = mu_pop\n",
    "    ageb = age_pop\n",
    "\n",
    "    # This is where I tidally-circularize the population, you will likely want to do this for only one binary at a time\n",
    "    \n",
    "    tb = np.linspace(0.,10.,num=(100))\t\t\t\t# Array of times to calculate ODE over\n",
    "    orbb = (orb[0][0],orb[0][1]) # of the form (ab,eb)\t\t\t# Initializing orbital elements\n",
    "    solb = odeint(TideEq, orbb, tb, args=(mub,))\t\t# Saving the time evolution of the arrays\n",
    "    \n",
    "    # Here, I save *only* the endpoint of the simulation.  You will likely want to keep the full time evolution\n",
    "    \n",
    "    if solb[-1,0] > 0. and solb[-1,1]<1 and isinstance(solb[-1,0],float) and isinstance(solb[-1,1],float):\n",
    "        \n",
    "        ab_ev.append(solb[:,0])\n",
    "        eb_ev.append(solb[:,1])\n",
    "        ab_0.append(solb[:,0]) \n",
    "        eb_0.append(solb[:,1]) \n",
    "        mu_ev.append(mub)\n",
    "        age_ev.append(ageb)"
   ]
  },
  {
   "cell_type": "code",
   "execution_count": 130,
   "metadata": {},
   "outputs": [
    {
     "data": {
      "text/plain": [
       "Text(0.5, 1.0, 'Binary Eccentricity Evolution')"
      ]
     },
     "execution_count": 130,
     "metadata": {},
     "output_type": "execute_result"
    },
    {
     "data": {
      "image/png": "[encoded data removed]",
      "text/plain": [
       "<Figure size 432x288 with 1 Axes>"
      ]
     },
     "metadata": {
      "needs_background": "light"
     },
     "output_type": "display_data"
    }
   ],
   "source": [
    "fig = plt.figure()\n",
    "plt.scatter(tb, eb_ev)\n",
    "plt.xlabel(\"Time\")\n",
    "plt.ylabel(\"Binary Eccentricity\")\n",
    "plt.title(\"Binary Eccentricity Evolution\")"
   ]
  },
  {
   "cell_type": "code",
   "execution_count": 131,
   "metadata": {},
   "outputs": [
    {
     "data": {
      "text/plain": [
       "Text(0.5, 1.0, 'Binary Semi-Major Axis Evolution')"
      ]
     },
     "execution_count": 131,
     "metadata": {},
     "output_type": "execute_result"
    },
    {
     "data": {
      "image/png": "[encoded data removed]",
      "text/plain": [
       "<Figure size 432x288 with 1 Axes>"
      ]
     },
     "metadata": {
      "needs_background": "light"
     },
     "output_type": "display_data"
    }
   ],
   "source": [
    "fig = plt.figure()\n",
    "plt.scatter(tb, ab_ev)\n",
    "plt.xlabel(\"Time\")\n",
    "plt.ylabel(\"Binary Semi-Major Axis\")\n",
    "plt.title(\"Binary Semi-Major Axis Evolution\")"
   ]
  },
  {
   "cell_type": "code",
   "execution_count": null,
   "metadata": {},
   "outputs": [],
   "source": []
  }
 ],
 "metadata": {
  "kernelspec": {
   "display_name": "Python 3",
   "language": "python",
   "name": "python3"
  },
  "language_info": {
   "codemirror_mode": {
    "name": "ipython",
    "version": 3
   },
   "file_extension": ".py",
   "mimetype": "text/x-python",
   "name": "python",
   "nbconvert_exporter": "python",
   "pygments_lexer": "ipython3",
   "version": "3.8.2"
  }
 },
 "nbformat": 4,
 "nbformat_minor": 4
}
