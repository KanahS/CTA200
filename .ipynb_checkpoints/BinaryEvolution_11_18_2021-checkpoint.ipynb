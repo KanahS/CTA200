{
 "cells": [
  {
   "cell_type": "code",
   "execution_count": 39,
   "metadata": {},
   "outputs": [],
   "source": [
    "# Program to calculate binary evolution from constant time lag formalism\n",
    "\n",
    "import numpy as np\n",
    "import rebound as rb\n",
    "import reboundx as rx\n",
    "import matplotlib.pyplot as plt\n",
    "from matplotlib.pyplot import cm\n",
    "from scipy.integrate import odeint\n",
    "from scipy.integrate import quad\n",
    "import scipy\n",
    "from scipy import integrate\n",
    "import math as m\n",
    "import random as rd\n",
    "from scipy.interpolate import interp1d\n",
    "from scipy.optimize import fsolve\n",
    "from matplotlib.collections import LineCollection\n",
    "from matplotlib.colors import ListedColormap, BoundaryNorm\n",
    "import matplotlib.pylab as pl"
   ]
  },
  {
   "cell_type": "code",
   "execution_count": 40,
   "metadata": {},
   "outputs": [],
   "source": [
    "# Parameters for population of binaries circularized\n",
    "\n",
    "nb = 10**2 # Choose 10^5 for my simulation, if you want to run a test, \n",
    "# change it to ~10^2-10^3, *much* faster \n",
    "\n",
    "#  eta_val=2.\n",
    "age_min = 1. # Age bounds for my simulation, gives range of binary ages.  \n",
    "# Want one value for your simulation\n",
    "age_max = 10."
   ]
  },
  {
   "cell_type": "code",
   "execution_count": 41,
   "metadata": {},
   "outputs": [],
   "source": [
    "# ****\n",
    "# Creating population of binaries to circularize\n",
    "mu_pop = np.random.power(2.,size=nb)\n",
    "A=1.75\n",
    "B=2.01\n",
    "eb_pop = np.random.beta(A,B,size=nb)\n",
    "ab_min=1.\n",
    "ab_max=200.\n",
    "xmin = np.log(ab_min)\n",
    "xmax = np.log(ab_max)\n",
    "lam = np.random.power(2.,size=nb)\n",
    "x_pop = (1.-lam)*xmin + lam*xmax\n",
    "ab_pop = np.exp(x_pop)\n",
    "age_pop = np.random.uniform(low=age_min, high=age_max, size=nb)"
   ]
  },
  {
   "cell_type": "code",
   "execution_count": 42,
   "metadata": {},
   "outputs": [],
   "source": [
    "def N(e):\n",
    "    num = 1. + 15./2.*e**2. + 45./8.*e**4. + 5./16.*e**6.\n",
    "    den = (1.-e**2.)**6.\n",
    "    return num/den"
   ]
  },
  {
   "cell_type": "code",
   "execution_count": 43,
   "metadata": {},
   "outputs": [],
   "source": [
    "def Na(e):\n",
    "    num = 1. + 31./2.*e**2. + 255./8.*e**4. + 185./16.*e**6. + 25./64.*e**8.\n",
    "    den = (1.-e**2.)**(15./2.)\n",
    "    return num/den"
   ]
  },
  {
   "cell_type": "code",
   "execution_count": 44,
   "metadata": {},
   "outputs": [],
   "source": [
    "def Omegae(e):\n",
    "    num = 1. + 3./2.*e**2. + 1./8.*e**4.\n",
    "    den = (1.-e**2.)**5.\n",
    "    return num/den"
   ]
  },
  {
   "cell_type": "code",
   "execution_count": 45,
   "metadata": {},
   "outputs": [],
   "source": [
    "def Ne(e):\n",
    "    num = 1. + 15./4.*e**2. + 15./8.*e**4. + 5./64.*e**6.\n",
    "    den = (1.-e**2.)**(13./2.)\n",
    "    return num/den"
   ]
  },
  {
   "cell_type": "code",
   "execution_count": 46,
   "metadata": {},
   "outputs": [],
   "source": [
    "def Omega(e):\n",
    "    num = 1. + 3.*e**2. + 3./8.*e**4.\n",
    "    den = (1.-e**2.)**(9./2.)\n",
    "    return num/den"
   ]
  },
  {
   "cell_type": "code",
   "execution_count": 47,
   "metadata": {},
   "outputs": [],
   "source": [
    "def Fe(e):\n",
    "    om_eq = N(e)/Omega(e)  # This is the \"pseudo-synchronous\" rotation\n",
    "    return Omegae(e)*om_eq - 18./11.*Ne(e)"
   ]
  },
  {
   "cell_type": "code",
   "execution_count": 48,
   "metadata": {},
   "outputs": [],
   "source": [
    "def Fa(e):\n",
    "    om_eq = N(e)/Omega(e)  # This is the \"pseudo-synchronous\" rotation\n",
    "    return 4./11.*(N(e)*om_eq - Na(e))"
   ]
  },
  {
   "cell_type": "code",
   "execution_count": null,
   "metadata": {},
   "outputs": [],
   "source": [
    "\"\"\"# Ordinary differential equation integrate to get tidal evolution\n",
    "# Parameters: \n",
    "# orb = (P[0],e[0]) initial orbital elements of binary\n",
    "# time is time array you integrate simulation over\n",
    "# mu is binary mass ratio M_2/M_1 *not* reduced mass\n",
    "# eta is a powerlaw used for my problem, take out this parameter for your simulations\"\"\""
   ]
  },
  {
   "cell_type": "code",
   "execution_count": 53,
   "metadata": {
    "scrolled": true
   },
   "outputs": [],
   "source": [
    "# Loading REBOUND  and REBOUNDx simulation archives\n",
    "sim = None\n",
    "\n",
    "sim = rx.SimulationArchive('eb0.525_ap4.500_Np15.0_tup25.0_Q10000.0_tau0.0030.bin', \n",
    "                           rebxfilename='xarchive.bin')\n",
    "\n",
    "orb = []\n",
    "\n",
    "for num in range(len(sim)):\n",
    "    e = sim[num][0].particles[1].e\n",
    "    a = sim[num][0].particles[1].a\n",
    "    \n",
    "    orb.append((a,e))\n",
    "# print(orb)\n",
    "k_2 = sim[0][0].particles[0].params[\"tctl_k1\"] # 0.035 for primary binary\n",
    "tau = sim[0][0].particles[0].params[\"tctl_tau\"] # 3.03E-5\n",
    "\n",
    "M1 = 1\n",
    "M2 = 1\n",
    "mu = 0.5\n",
    "G = 6.67E-11\n",
    "R_star = 0.1*(1-0.5)**(1/3) # (1-mu)"
   ]
  },
  {
   "cell_type": "code",
   "execution_count": 62,
   "metadata": {},
   "outputs": [],
   "source": [
    "def TideEq(orb,time,mu):\n",
    "    \n",
    "    for num in range(len(sim)):\n",
    "        \n",
    "        ab = orb[num][0] # Semi-major axis\n",
    "        eb = orb[num][1] # Eccentricity\n",
    "        \n",
    "        K = ((3/2)*(nb**2)*k_2*tau)*((G*M1**2)/R_star)*((M2/M1)**2)*(R_star/ab)**6\n",
    "        dedt = ((11*eb*ab*K)/(G*M1*M2))*(Omegae(eb)*(Omega(eb)/nb)-(18/11)*Ne(eb)) # differential equation for eccentricity\n",
    "        dadt = ((4*K*ab**2)/(G*M1*M2))*(N(eb)*(Omega(eb)/nb)-Na(eb)) # Differential equation for semi-major axis\n",
    "        \n",
    "        #tc = (eb*mu*(1+mu))/((dedt)*(Fe(eb))) # circularization timescale\n",
    "    \n",
    "    return [dadt,dedt] # Returns differential equation for a and e"
   ]
  },
  {
   "cell_type": "code",
   "execution_count": 63,
   "metadata": {},
   "outputs": [
    {
     "ename": "error",
     "evalue": "Extra arguments must be in a tuple.",
     "output_type": "error",
     "traceback": [
      "\u001b[0;31m---------------------------------------------------------------------------\u001b[0m",
      "\u001b[0;31merror\u001b[0m                                     Traceback (most recent call last)",
      "\u001b[0;32m<ipython-input-63-6e008595fefc>\u001b[0m in \u001b[0;36m<module>\u001b[0;34m\u001b[0m\n\u001b[1;32m     17\u001b[0m     \u001b[0mtb\u001b[0m \u001b[0;34m=\u001b[0m \u001b[0mnp\u001b[0m\u001b[0;34m.\u001b[0m\u001b[0mlinspace\u001b[0m\u001b[0;34m(\u001b[0m\u001b[0mage_min\u001b[0m\u001b[0;34m,\u001b[0m\u001b[0mageb\u001b[0m\u001b[0;34m,\u001b[0m\u001b[0mnum\u001b[0m\u001b[0;34m=\u001b[0m\u001b[0;36m3000\u001b[0m\u001b[0;34m)\u001b[0m                             \u001b[0;31m# Array of times to calculate ODE over\u001b[0m\u001b[0;34m\u001b[0m\u001b[0;34m\u001b[0m\u001b[0m\n\u001b[1;32m     18\u001b[0m     \u001b[0morbb\u001b[0m \u001b[0;34m=\u001b[0m \u001b[0;34m(\u001b[0m\u001b[0mab\u001b[0m\u001b[0;34m,\u001b[0m\u001b[0meb\u001b[0m\u001b[0;34m)\u001b[0m                                                      \u001b[0;31m# Initializing orbital elements\u001b[0m\u001b[0;34m\u001b[0m\u001b[0;34m\u001b[0m\u001b[0m\n\u001b[0;32m---> 19\u001b[0;31m     \u001b[0msolb\u001b[0m \u001b[0;34m=\u001b[0m \u001b[0modeint\u001b[0m\u001b[0;34m(\u001b[0m\u001b[0mTideEq\u001b[0m\u001b[0;34m,\u001b[0m \u001b[0morbb\u001b[0m\u001b[0;34m,\u001b[0m \u001b[0mtb\u001b[0m\u001b[0;34m,\u001b[0m \u001b[0margs\u001b[0m\u001b[0;34m=\u001b[0m\u001b[0;34m(\u001b[0m\u001b[0mmub\u001b[0m\u001b[0;34m)\u001b[0m\u001b[0;34m)\u001b[0m         \u001b[0;31m# Saving the time evolution of the arrays\u001b[0m\u001b[0;34m\u001b[0m\u001b[0;34m\u001b[0m\u001b[0m\n\u001b[0m\u001b[1;32m     20\u001b[0m \u001b[0;34m\u001b[0m\u001b[0m\n\u001b[1;32m     21\u001b[0m     \u001b[0;31m# Here, I save *only* the endpoint of the simulation.  You will likely want to keep the full time evolution\u001b[0m\u001b[0;34m\u001b[0m\u001b[0;34m\u001b[0m\u001b[0;34m\u001b[0m\u001b[0m\n",
      "\u001b[0;32m/opt/python/3.8.2/lib/python3.8/site-packages/scipy/integrate/odepack.py\u001b[0m in \u001b[0;36modeint\u001b[0;34m(func, y0, t, args, Dfun, col_deriv, full_output, ml, mu, rtol, atol, tcrit, h0, hmax, hmin, ixpr, mxstep, mxhnil, mxordn, mxords, printmessg, tfirst)\u001b[0m\n\u001b[1;32m    239\u001b[0m     \u001b[0mt\u001b[0m \u001b[0;34m=\u001b[0m \u001b[0mcopy\u001b[0m\u001b[0;34m(\u001b[0m\u001b[0mt\u001b[0m\u001b[0;34m)\u001b[0m\u001b[0;34m\u001b[0m\u001b[0;34m\u001b[0m\u001b[0m\n\u001b[1;32m    240\u001b[0m     \u001b[0my0\u001b[0m \u001b[0;34m=\u001b[0m \u001b[0mcopy\u001b[0m\u001b[0;34m(\u001b[0m\u001b[0my0\u001b[0m\u001b[0;34m)\u001b[0m\u001b[0;34m\u001b[0m\u001b[0;34m\u001b[0m\u001b[0m\n\u001b[0;32m--> 241\u001b[0;31m     output = _odepack.odeint(func, y0, t, args, Dfun, col_deriv, ml, mu,\n\u001b[0m\u001b[1;32m    242\u001b[0m                              \u001b[0mfull_output\u001b[0m\u001b[0;34m,\u001b[0m \u001b[0mrtol\u001b[0m\u001b[0;34m,\u001b[0m \u001b[0matol\u001b[0m\u001b[0;34m,\u001b[0m \u001b[0mtcrit\u001b[0m\u001b[0;34m,\u001b[0m \u001b[0mh0\u001b[0m\u001b[0;34m,\u001b[0m \u001b[0mhmax\u001b[0m\u001b[0;34m,\u001b[0m \u001b[0mhmin\u001b[0m\u001b[0;34m,\u001b[0m\u001b[0;34m\u001b[0m\u001b[0;34m\u001b[0m\u001b[0m\n\u001b[1;32m    243\u001b[0m                              \u001b[0mixpr\u001b[0m\u001b[0;34m,\u001b[0m \u001b[0mmxstep\u001b[0m\u001b[0;34m,\u001b[0m \u001b[0mmxhnil\u001b[0m\u001b[0;34m,\u001b[0m \u001b[0mmxordn\u001b[0m\u001b[0;34m,\u001b[0m \u001b[0mmxords\u001b[0m\u001b[0;34m,\u001b[0m\u001b[0;34m\u001b[0m\u001b[0;34m\u001b[0m\u001b[0m\n",
      "\u001b[0;31merror\u001b[0m: Extra arguments must be in a tuple."
     ]
    }
   ],
   "source": [
    "ab_ev = []\n",
    "eb_ev = []\n",
    "ab_0 = []\n",
    "eb_0 = [] \n",
    "mu_ev = []\n",
    "age_ev = []\n",
    "\n",
    "for i in range(nb):\n",
    "    # Individual parameters saving for circularized population of binaries\n",
    "    ab = ab_pop[i]\n",
    "    eb = eb_pop[i]\n",
    "    \n",
    "    mub = mu_pop[i]\n",
    "    ageb = age_pop[i]\n",
    "\n",
    "    # This is where I tidally-circularize the population, you will likely want to do this for only one binary at a time\n",
    "    \n",
    "    tb = np.linspace(age_min,ageb,num=3000)\t\t\t\t# Array of times to calculate ODE over\n",
    "    orbb = (orb[0][0],orb[0][1]) # of the form (ab,eb)\t\t\t# Initializing orbital elements\n",
    "    solb = odeint(TideEq, orbb, tb, args=(mub,))\t\t# Saving the time evolution of the arrays\n",
    "    \n",
    "    # Here, I save *only* the endpoint of the simulation.  You will likely want to keep the full time evolution\n",
    "    \n",
    "    if solb[-1,0] > 0. and solb[-1,1]<1 and isinstance(solb[-1,0],float) and isinstance(solb[-1,1],float):\n",
    "        \n",
    "        ab_ev.append(solb[:,0]) # -1\n",
    "        e_ev.append(solb[:,1]) # -1\n",
    "        ab_0.append(solb[:,0]) # 0\n",
    "        e_0.append(solb[:,1]) # 0\n",
    "        mu_ev.append(mub)\n",
    "        age_ev.append(ageb)"
   ]
  },
  {
   "cell_type": "code",
   "execution_count": null,
   "metadata": {},
   "outputs": [],
   "source": [
    "# eta_str = r\"eta={:.1f}\".format(eta_val)\n",
    "\n",
    "agemin_str = r\"age0={:.1}\".format(age_min)\n",
    "# data_save = (ab_ev,e_ev,ab_0,e_0,mu_ev,age_ev)\n",
    "file_str = \"Bin_Ev_ParTide_data_\"+agemin_str+\".txt\"\n",
    "# np.savetxt(file_str,data_save)"
   ]
  },
  {
   "cell_type": "code",
   "execution_count": null,
   "metadata": {},
   "outputs": [],
   "source": [
    "plt.hist(e_pop,density=True,bins=100,color='blue')\n",
    "plt.hist(e_ev,density=True,bins=100,color='red')\n",
    "plt.ylabel('Probability')\n",
    "plt.xlabel('e')\n",
    "\n",
    "plt.show()\n",
    "\n",
    "plt.hist(np.log10(ab_pop),density=True,bins=100,color='blue')\n",
    "plt.hist(np.log10(ab_ev),density=True,bins=100,color='red')\n",
    "plt.ylabel('Probability')\n",
    "plt.xlabel('ab')\n",
    "\n",
    "plt.show()\n",
    "    "
   ]
  },
  {
   "cell_type": "code",
   "execution_count": null,
   "metadata": {},
   "outputs": [],
   "source": []
  }
 ],
 "metadata": {
  "kernelspec": {
   "display_name": "Python 3",
   "language": "python",
   "name": "python3"
  },
  "language_info": {
   "codemirror_mode": {
    "name": "ipython",
    "version": 3
   },
   "file_extension": ".py",
   "mimetype": "text/x-python",
   "name": "python",
   "nbconvert_exporter": "python",
   "pygments_lexer": "ipython3",
   "version": "3.8.2"
  }
 },
 "nbformat": 4,
 "nbformat_minor": 4
}
