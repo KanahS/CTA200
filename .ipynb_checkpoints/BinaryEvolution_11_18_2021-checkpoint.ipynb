{
 "cells": [
  {
   "cell_type": "code",
   "execution_count": 1,
   "metadata": {},
   "outputs": [],
   "source": [
    "# Program to calculate binary evolution from constant time lag formalism\n",
    "\n",
    "import numpy as np\n",
    "import matplotlib.pyplot as plt\n",
    "from matplotlib.pyplot import cm\n",
    "from scipy.integrate import odeint\n",
    "from scipy.integrate import quad\n",
    "import scipy\n",
    "from scipy import integrate\n",
    "import math as m\n",
    "import random as rd\n",
    "from scipy.interpolate import interp1d\n",
    "from scipy.optimize import fsolve\n",
    "from matplotlib.collections import LineCollection\n",
    "from matplotlib.colors import ListedColormap, BoundaryNorm\n",
    "import matplotlib.pylab as pl"
   ]
  },
  {
   "cell_type": "code",
   "execution_count": 2,
   "metadata": {},
   "outputs": [],
   "source": [
    "# Parameters for population of binaries circularized\n",
    "nb = 10**5 # Choose 10^5 for my simulation, if you want to run a test, \n",
    "# change it to ~10^2-10^3, *much* faster \n",
    "eta_val=2.\n",
    "age_min = 1. # Age bounds for my simulation, gives range of binary ages.  \n",
    "# Want one value for your simulation\n",
    "age_max = 10."
   ]
  },
  {
   "cell_type": "code",
   "execution_count": 3,
   "metadata": {},
   "outputs": [],
   "source": [
    "# Creating population of binaries to circularize\n",
    "mu_pop = np.random.power(2.,size=nb)\n",
    "A=1.75\n",
    "B=2.01\n",
    "e_pop = np.random.beta(A,B,size=nb)\n",
    "Pmin=1.\n",
    "Pmax=200.\n",
    "xmin = np.log(Pmin)\n",
    "xmax = np.log(Pmax)\n",
    "lam = np.random.power(2.,size=nb)\n",
    "x_pop = (1.-lam)*xmin + lam*xmax\n",
    "P_pop = np.exp(x_pop)\n",
    "age_pop = np.random.uniform(low=age_min, high=age_max, size=nb)"
   ]
  },
  {
   "cell_type": "code",
   "execution_count": 4,
   "metadata": {},
   "outputs": [],
   "source": [
    "# The functions as defined in Leconte et al. (2010), A&A, doi:10.1051/0004-6361/201014337"
   ]
  },
  {
   "cell_type": "code",
   "execution_count": 5,
   "metadata": {},
   "outputs": [],
   "source": [
    "def N(e):\n",
    "    num = 1. + 15./2.*e**2. + 45./8.*e**4. + 5./16.*e**6.\n",
    "    den = (1.-e**2.)**6.\n",
    "    return num/den"
   ]
  },
  {
   "cell_type": "code",
   "execution_count": 6,
   "metadata": {},
   "outputs": [],
   "source": [
    "def Na(e):\n",
    "    num = 1. + 31./2.*e**2. + 255./8.*e**4. + 185./16.*e**6. + 25./64.*e**8.\n",
    "    den = (1.-e**2.)**(15./2.)\n",
    "    return num/den"
   ]
  },
  {
   "cell_type": "code",
   "execution_count": 7,
   "metadata": {},
   "outputs": [],
   "source": [
    "def Omegae(e):\n",
    "    num = 1. + 3./2.*e**2. + 1./8.*e**4.\n",
    "    den = (1.-e**2.)**5.\n",
    "    return num/den"
   ]
  },
  {
   "cell_type": "code",
   "execution_count": 8,
   "metadata": {},
   "outputs": [],
   "source": [
    "def Ne(e):\n",
    "    num = 1. + 15./4.*e**2. + 15./8.*e**4. + 5./64.*e**6.\n",
    "    den = (1.-e**2.)**(13./2.)\n",
    "    return num/den"
   ]
  },
  {
   "cell_type": "code",
   "execution_count": 9,
   "metadata": {},
   "outputs": [],
   "source": [
    "def Omega(e):\n",
    "    num = 1. + 3.*e**2. + 3./8.*e**4.\n",
    "    den = (1.-e**2.)**(9./2.)\n",
    "    return num/den"
   ]
  },
  {
   "cell_type": "code",
   "execution_count": 10,
   "metadata": {},
   "outputs": [],
   "source": [
    "def Fe(e):\n",
    "    om_eq = N(e)/Omega(e)  # This is the \"pseudo-synchronous\" rotation\n",
    "    return Omegae(e)*om_eq - 18./11.*Ne(e)"
   ]
  },
  {
   "cell_type": "code",
   "execution_count": 11,
   "metadata": {},
   "outputs": [],
   "source": [
    "def Fa(e):\n",
    "    om_eq = N(e)/Omega(e)  # This is the \"pseudo-synchronous\" rotation\n",
    "    return 4./11.*(N(e)*om_eq - Na(e))"
   ]
  },
  {
   "cell_type": "code",
   "execution_count": null,
   "metadata": {},
   "outputs": [],
   "source": [
    "\"\"\"# Ordinary differential equation integrate to get tidal evolution\n",
    "# Parameters: \n",
    "# orb = (P[0],e[0]) initial orbital elements of binary\n",
    "# time is time array you integrate simulation over\n",
    "# mu is binary mass ratio M_2/M_1 *not* reduced mass\n",
    "# eta is a powerlaw used for my problem, take out this parameter for your simulations\"\"\""
   ]
  },
  {
   "cell_type": "code",
   "execution_count": null,
   "metadata": {},
   "outputs": [],
   "source": [
    "def TideEq(orb,time,mu,eta):\n",
    "    P = orb[0]\t\t\t\t# Orbital period, P = 2*pi/nb\n",
    "    e = orb[1]\t\t\t\t# Eccentricity\n",
    "    tc = 0.3*(P/3.)**eta\t\t\t# Circularization timescale, *need to change this for your problem*\n",
    "    dedt = e*mu*(1.+mu)/tc*Fe(e)\t\t# Differential equation for eccentricity\n",
    "    dPdt = 1.5*P*mu*(1.+mu)/tc*Fa(e)\t# Differential equation for orbital period\n",
    "    return [dPdt,dedt]\t\t\t# Returns differential equation for P and e\n",
    "\n",
    "# *Note*, for your simulation, you likely want to change dPdt to dadt (semi-major axis evolution)\n",
    "\n",
    "P_ev = []\n",
    "e_ev = []\n",
    "P_0 = []\n",
    "e_0 = []\n",
    "mu_ev = []\n",
    "age_ev = []\n",
    "\n",
    "for i in range(nb):\n",
    "    # Individual parameters saving for circularized population of binaries\n",
    "    Pb = P_pop[i]\n",
    "    eb = e_pop[i]\n",
    "    mub = mu_pop[i]\n",
    "    ageb = age_pop[i]\n",
    "\n",
    "    # This is where I tidally-circularize the population, you will likely want to do this for only one binary at a time\n",
    "    \n",
    "    tb = np.linspace(age_min,ageb,num=3000)\t\t\t\t# Array of times to calculate ODE over\n",
    "    orbb = (Pb,eb)\t\t\t\t\t\t\t# Initializing orbital elements\n",
    "    solb = odeint(TideEq, orbb, tb, args=(mub,eta_val))\t\t# Saving the time evolution of the arrays\n",
    "    # Here, I save *only* the endpoint of the simulation.  You will likely want to keep the full time evolution\n",
    "    if solb[-1,0]>0. and solb[-1,1]<1 and isinstance(solb[-1,0],float) and isinstance(solb[-1,1],float):\n",
    "        P_ev.append(solb[-1,0])\n",
    "        e_ev.append(solb[-1,1])\n",
    "        P_0.append(solb[0,0])\n",
    "        e_0.append(solb[0,1])\n",
    "        mu_ev.append(mub)\n",
    "        age_ev.append(ageb)\n",
    "        "
   ]
  },
  {
   "cell_type": "code",
   "execution_count": null,
   "metadata": {},
   "outputs": [],
   "source": [
    "eta_str = r\"eta={:.1f}\".format(eta_val)\n",
    "agemin_str = r\"age0={:.1}\".format(age_min)\n",
    "data_save = (P_ev,e_ev,P_0,e_0,mu_ev,age_ev)\n",
    "file_str = \"Bin_Ev_ParTide_data_\"+agemin_str+\"_\"+eta_str+\".txt\"\n",
    "np.savetxt(file_str,data_save)\n",
    "\n",
    "plt.hist(e_pop,density=True,bins=100,color='blue')\n",
    "plt.hist(e_ev,density=True,bins=100,color='red')\n",
    "plt.ylabel('Probability')\n",
    "plt.xlabel('e')\n",
    "\n",
    "plt.show()\n",
    "\n",
    "plt.hist(np.log10(P_pop),density=True,bins=100,color='blue')\n",
    "plt.hist(np.log10(P_ev),density=True,bins=100,color='red')\n",
    "plt.ylabel('Probability')\n",
    "plt.xlabel('P')\n",
    "\n",
    "plt.show()\n",
    "    "
   ]
  },
  {
   "cell_type": "code",
   "execution_count": null,
   "metadata": {},
   "outputs": [],
   "source": []
  }
 ],
 "metadata": {
  "kernelspec": {
   "display_name": "Python 3",
   "language": "python",
   "name": "python3"
  },
  "language_info": {
   "codemirror_mode": {
    "name": "ipython",
    "version": 3
   },
   "file_extension": ".py",
   "mimetype": "text/x-python",
   "name": "python",
   "nbconvert_exporter": "python",
   "pygments_lexer": "ipython3",
   "version": "3.8.2"
  }
 },
 "nbformat": 4,
 "nbformat_minor": 4
}
