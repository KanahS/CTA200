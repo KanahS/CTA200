{
 "cells": [
  {
   "cell_type": "markdown",
   "metadata": {},
   "source": [
    "### Analytic Predictions for Binary Evolution"
   ]
  },
  {
   "cell_type": "markdown",
   "metadata": {},
   "source": [
    "Here we are checking that the N-body simulations are giving valid results by creating analytic predictions to compare them to. "
   ]
  },
  {
   "cell_type": "code",
   "execution_count": 1,
   "metadata": {},
   "outputs": [],
   "source": [
    "# Program to calculate binary evolution from constant time lag formalism\n",
    "\n",
    "import numpy as np\n",
    "import rebound as rb\n",
    "import reboundx as rx\n",
    "import matplotlib.pyplot as plt\n",
    "from matplotlib.pyplot import cm\n",
    "from scipy.integrate import odeint\n",
    "from scipy.integrate import quad\n",
    "import scipy\n",
    "from scipy import integrate"
   ]
  },
  {
   "cell_type": "code",
   "execution_count": 2,
   "metadata": {},
   "outputs": [
    {
     "data": {
      "text/plain": [
       "' All functions [functions N(e), Omega(e), Omegae(e), Na(e), and Ne(e)] as defined in Leconte et al. (2010), A&A, doi:10.1051/0004-6361/201014337 '"
      ]
     },
     "execution_count": 2,
     "metadata": {},
     "output_type": "execute_result"
    }
   ],
   "source": [
    "\"\"\" All functions [functions N(e), Omega(e), Omegae(e), Na(e), and Ne(e)] as defined in Leconte et al. (2010), A&A, doi:10.1051/0004-6361/201014337 \"\"\""
   ]
  },
  {
   "cell_type": "code",
   "execution_count": 3,
   "metadata": {},
   "outputs": [],
   "source": [
    "def N(e):\n",
    "    num = 1. + 15./2.*e**2. + 45./8.*e**4. + 5./16.*e**6.\n",
    "    den = (1.-e**2.)**6.\n",
    "    return num/den"
   ]
  },
  {
   "cell_type": "code",
   "execution_count": 4,
   "metadata": {},
   "outputs": [],
   "source": [
    "def Na(e):\n",
    "    num = 1. + 31./2.*e**2. + 255./8.*e**4. + 185./16.*e**6. + 25./64.*e**8.\n",
    "    den = (1.-e**2.)**(15./2.)\n",
    "    return num/den"
   ]
  },
  {
   "cell_type": "code",
   "execution_count": 5,
   "metadata": {},
   "outputs": [],
   "source": [
    "def Omegae(e):\n",
    "    num = 1. + 3./2.*e**2. + 1./8.*e**4.\n",
    "    den = (1.-e**2.)**5.\n",
    "    return num/den"
   ]
  },
  {
   "cell_type": "code",
   "execution_count": 6,
   "metadata": {},
   "outputs": [],
   "source": [
    "def Ne(e):\n",
    "    num = 1. + 15./4.*e**2. + 15./8.*e**4. + 5./64.*e**6.\n",
    "    den = (1.-e**2.)**(13./2.)\n",
    "    return num/den"
   ]
  },
  {
   "cell_type": "code",
   "execution_count": 7,
   "metadata": {},
   "outputs": [],
   "source": [
    "def Omega(e):\n",
    "    num = 1. + 3.*e**2. + 3./8.*e**4.\n",
    "    den = (1.-e**2.)**(9./2.)\n",
    "    return num/den"
   ]
  },
  {
   "cell_type": "code",
   "execution_count": 8,
   "metadata": {},
   "outputs": [],
   "source": [
    "def Fe(e):\n",
    "    om_eq = N(e)/Omega(e)  # This is the \"pseudo-synchronous\" rotation\n",
    "    return Omegae(e)*om_eq - 18./11.*Ne(e)"
   ]
  },
  {
   "cell_type": "code",
   "execution_count": 9,
   "metadata": {},
   "outputs": [],
   "source": [
    "def Fa(e):\n",
    "    om_eq = N(e)/Omega(e)  # This is the \"pseudo-synchronous\" rotation\n",
    "    return 4./11.*(N(e)*om_eq - Na(e))"
   ]
  },
  {
   "cell_type": "markdown",
   "metadata": {},
   "source": [
    "Parameters: \n",
    "orb = (a[0],e[0]) initial orbital elements of binary\n",
    "time is time array you integrate simulation over\n",
    "mu is binary mass ratio M_2/M_1 *not* reduced mass "
   ]
  },
  {
   "cell_type": "code",
   "execution_count": 10,
   "metadata": {
    "scrolled": true
   },
   "outputs": [
    {
     "name": "stderr",
     "output_type": "stream",
     "text": [
      "/opt/python/3.8.2/lib/python3.8/site-packages/rebound/simulationarchive.py:146: RuntimeWarning: You have to reset function pointers after creating a reb_simulation struct with a binary file.\n",
      "  warnings.warn(message, RuntimeWarning)\n"
     ]
    }
   ],
   "source": [
    "# Loading REBOUND  and REBOUNDx simulation archives\n",
    "sim = None\n",
    "\n",
    "sim = rx.SimulationArchive('eb0.525_ap4.500_Np15.0_tup25.0_Q10000.0_tau0.0030.bin', \n",
    "                           rebxfilename='xarchive.bin')\n",
    "\n",
    "orb = []\n",
    "e = sim[0][0].particles[1].e\n",
    "a = sim[0][0].particles[1].a  \n",
    "orb.append((a,e))\n",
    "# orb = (a[0],e[0]) are the initial orbital elements of the secondary binary\n",
    "\n",
    "# K_2 is tidal love number\n",
    "k_2 = sim[0][0].particles[0].params[\"tctl_k1\"] # value from simulation: 0.035 for primary binary\n",
    "\n",
    "# syntax for sim archive: tau = sim[0][0].particles[0].params[\"tctl_tau\"] \n",
    "tau = 3.05E-3 # value from simulation: 3.03E-5 for primary binary\n",
    "\n",
    "M1 = 1 # primary binary mass\n",
    "M2 = 1 # secondary binary mass\n",
    "MU = 0.5 # binary mass ratio\n",
    "G = 1 # gravitational constant is now 1 to reflect REBOUND units for the odeint (#G = 6.67E-11)\n",
    "R_star = 0.1*(1-0.5)**(1/3) # (1-mu) # sim archive syntax: sa[1][0].particles[0].r\n",
    "NB = sim[0][0].particles[1].n # inital secondary binary mean motion # sim value: 1.4142 (nb = np.sqrt(G*(M1+M2)/a**3))\n",
    "# K = ((3/2)*(NB**2)*k_2*tau)*((G*M1**2)/R_star)*((M2/M1)**2)*(R_star/a)**6\n",
    "K0 = ((3/2)*(NB**2)*k_2*tau)*((G*(M1**2))/R_star)*((M1/M2)**2)*(R_star/a)**6"
   ]
  },
  {
   "cell_type": "code",
   "execution_count": 11,
   "metadata": {},
   "outputs": [],
   "source": [
    "# Second simulation check\n",
    "sim2 = None\n",
    "\n",
    "sim2 = rx.SimulationArchive('eb0.058_ap5.000_Np15.0_tup25.0_Q100000.0_tau0.0003.bin', \n",
    "                           rebxfilename='xarchive.bin')\n",
    "\n",
    "orb_2 = []\n",
    "e2 = sim2[0][0].particles[1].e\n",
    "a2 = sim2[0][0].particles[1].a  \n",
    "orb_2.append((a2,e2))\n",
    "# orb_2 = (a[0],e[0]) are the initial orbital elements of the secondary binary\n",
    "\n",
    "# K_2 is tidal love number\n",
    "k_2_2 = sim2[0][0].particles[0].params[\"tctl_k1\"] # value from simulation: 0.035 for primary binary\n",
    "\n",
    "# syntax for sim archive: tau = sim2[0][0].particles[0].params[\"tctl_tau\"] \n",
    "tau_2 = sim2[0][0].particles[0].params[\"tctl_tau\"]  # value from simulation: 3.03E-5 for primary binary\n",
    "\n",
    "# -------------- All of these variables can stay the same regardless of simulation ------------------\n",
    "#M1 = 1 # primary binary mass\n",
    "#M2 = 1 # secondary binary mass\n",
    "#MU = 0.5 # binary mass ratio\n",
    "#G = 1 # gravitational constant is now 1 to reflect REBOUND units for the odeint (#G = 6.67E-11)\n",
    "#R_star = 0.1*(1-0.5)**(1/3) # (1-mu) # sim archive syntax: sa[1][0].particles[0].r\n",
    "# ---------------------------------------------------------------------------------------------------\n",
    "\n",
    "NB_2 = sim2[0][0].particles[1].n # inital secondary binary mean motion # sim value: 1.4142 (nb = np.sqrt(G*(M1+M2)/a**3))\n",
    "# K = ((3/2)*(NB**2)*k_2*tau)*((G*M1**2)/R_star)*((M2/M1)**2)*(R_star/a)**6\n",
    "K0_2 = ((3/2)*(NB_2**2)*k_2_2*tau_2)*((G*(M1**2))/R_star)*((M1/M2)**2)*(R_star/a2)**6"
   ]
  },
  {
   "cell_type": "code",
   "execution_count": 12,
   "metadata": {},
   "outputs": [
    {
     "name": "stdout",
     "output_type": "stream",
     "text": [
      "63 63\n"
     ]
    }
   ],
   "source": [
    "print(len(sim2), len(sim))"
   ]
  },
  {
   "cell_type": "code",
   "execution_count": 13,
   "metadata": {},
   "outputs": [],
   "source": [
    "# First simualtion sim\n",
    "def TideEq(orbit,time,mu=MU,nb=NB, k0=K0):\n",
    "    \n",
    "    \"\"\" Takes the secondary binaries semi-major axis and eccentricity parameters at the same point during\n",
    "    a simulation along with its time\n",
    "    Returns the differential equations for the secondary binaries evolution of both semi-major axis and\n",
    "    eccentricity.\n",
    "    \"\"\"\n",
    "    ab = orbit[0]\n",
    "    eb = orbit[1]\n",
    "    \n",
    "    ab0 = ab\n",
    "    k = k0*(ab0/ab)**9\n",
    "    \n",
    "    # evolution of binary semi-major axis and eccentricity assuming a psudo-synchronous rotation\n",
    "    dedt = ((11*eb*ab*k)/(G*M1*M2))*(Fe(eb)) # Differential equation for eccentricity\n",
    "    dadt = ((11*k*ab**2)/(G*M1*M2))*(Fa(eb)) # Differential equation for semi-major axis # not 4 as the coefficient?\n",
    "    \n",
    "    return [dadt,dedt] # Returns differential equation for a and e"
   ]
  },
  {
   "cell_type": "code",
   "execution_count": 14,
   "metadata": {},
   "outputs": [],
   "source": [
    "# Second simulation sim2\n",
    "def TideEq2(orbit,time,mu=MU,nb=NB_2, k0=K0_2):\n",
    "    \n",
    "    \"\"\" Takes the secondary binaries semi-major axis and eccentricity parameters at the same point during\n",
    "    a simulation along with its time\n",
    "    Returns the differential equations for the secondary binaries evolution of both semi-major axis and\n",
    "    eccentricity.\n",
    "    \"\"\"\n",
    "    ab = orbit[0]\n",
    "    eb = orbit[1]\n",
    "    \n",
    "    ab0 = ab\n",
    "    k = k0*(ab0/ab)**9\n",
    "    \n",
    "    # evolution of binary semi-major axis and eccentricity assuming a psudo-synchronous rotation\n",
    "    dedt = ((11*eb*ab*k)/(G*M1*M2))*(Fe(eb)) # Differential equation for eccentricity\n",
    "    dadt = ((11*k*ab**2)/(G*M1*M2))*(Fa(eb)) # Differential equation for semi-major axis # not 4 as the coefficient?\n",
    "    \n",
    "    return [dadt,dedt] # Returns differential equation for a and e"
   ]
  },
  {
   "cell_type": "code",
   "execution_count": 15,
   "metadata": {},
   "outputs": [],
   "source": [
    "# First simulation sim\n",
    "# initializing empty list to collect semi-major axis and eccentricity values as they evolve through the integration\n",
    "ab_ev = []\n",
    "eb_ev = []\n",
    "\n",
    "t_end = sim[62][0].t # sim end, time at last snapshot \n",
    "tb = np.linspace(0.,t_end)\t\t\t\t# Array of times to calculate ODE over\n",
    "\n",
    "orbb = (orb[0][0],orb[0][1]) # of the form (ab,eb)\t\t\t# Initializing orbital elements\n",
    "\n",
    "solb = odeint(TideEq,orbb,tb, args=(MU,))\n",
    "\n",
    "# Saving the time evolution of the arrays\n",
    "ab_ev = solb[:,0]\n",
    "eb_ev = solb[:,1]"
   ]
  },
  {
   "cell_type": "code",
   "execution_count": 16,
   "metadata": {},
   "outputs": [],
   "source": [
    "# Second simulation sim2\n",
    "# initializing empty list to collect semi-major axis and eccentricity values as they evolve through the integration\n",
    "ab_ev_2 = []\n",
    "eb_ev_2 = []\n",
    "\n",
    "t_end_2 = sim2[62][0].t # sim end, time at last snapshot \n",
    "tb_2 = np.linspace(0.,t_end_2)\t\t\t\t# Array of times to calculate ODE over\n",
    "\n",
    "orbb2 = (orb_2[0][0],orb_2[0][1]) # of the form (ab,eb)\t\t\t# Initializing orbital elements\n",
    "\n",
    "solb2 = odeint(TideEq2,orbb2,tb_2, args=(MU,))\n",
    "\n",
    "# Saving the time evolution of the arrays\n",
    "ab_ev_2 = solb2[:,0]\n",
    "eb_ev_2 = solb2[:,1]"
   ]
  },
  {
   "cell_type": "code",
   "execution_count": 17,
   "metadata": {},
   "outputs": [],
   "source": [
    "def binary_semi(archive, extras):\n",
    "    \"\"\" Pulling data from the called upon simulation archive using REBOUND and REBOUNDx to collect evolution of the\n",
    "    secondary binaries semi-major axis.\n",
    "    Returns two arrays, one of the  evolving semi-major axis values and the other with cooresponding simulation times.\"\"\"\n",
    "    sim_arc = rx.SimulationArchive(archive, rebxfilename=extras)\n",
    "    \n",
    "    x_arr = []\n",
    "    y_arr = []\n",
    "    \n",
    "    for snap in range(len(sim_arc)): \n",
    "        base = sim_arc[snap][0].particles[1]\n",
    "        orb_element = base.a\n",
    "        time = (sim_arc[snap][0].t)\n",
    "        \n",
    "        y_arr.append(orb_element)\n",
    "        x_arr.append(time)\n",
    "        \n",
    "    return x_arr, y_arr"
   ]
  },
  {
   "cell_type": "code",
   "execution_count": 18,
   "metadata": {},
   "outputs": [],
   "source": [
    "def binary_ecc(archive, extras):\n",
    "    \"\"\" Pulling data from the called upon simulation archive using REBOUND and REBOUNDx to collect evolution of the\n",
    "    secondary binaries eccentricity.\n",
    "    Returns two arrays, one of the  evolving eccentricity values and the other with cooresponding simulation times.\"\"\"\n",
    "    sim_arc = rx.SimulationArchive(archive, rebxfilename=extras)\n",
    "    \n",
    "    x_arr = []\n",
    "    y_arr = []\n",
    "    \n",
    "    for snap in range(len(sim_arc)): \n",
    "        base = sim_arc[snap][0].particles[1]\n",
    "        orb_element = base.e\n",
    "        time = (sim_arc[snap][0].t)\n",
    "        \n",
    "        y_arr.append(orb_element)\n",
    "        x_arr.append(time)\n",
    "\n",
    "    return x_arr, y_arr"
   ]
  },
  {
   "cell_type": "code",
   "execution_count": 26,
   "metadata": {
    "scrolled": false
   },
   "outputs": [
    {
     "data": {
      "text/plain": [
       "<matplotlib.legend.Legend at 0x7fc620113490>"
      ]
     },
     "execution_count": 26,
     "metadata": {},
     "output_type": "execute_result"
    },
    {
     "data": {
      "image/png": "[encoded data removed]",
      "text/plain": [
       "<Figure size 1800x720 with 4 Axes>"
      ]
     },
     "metadata": {
      "needs_background": "light"
     },
     "output_type": "display_data"
    }
   ],
   "source": [
    "\"\"\" Overplotting the evolution of the secondary binaries semi-major axis and eccentricity values as taken from the\n",
    "simulation and the analytic integration for comparison\"\"\"\n",
    "\n",
    "fig, axs = plt.subplots(2,2, sharex =True, figsize=(25,10))\n",
    "\n",
    "ecc = binary_ecc('eb0.525_ap4.500_Np15.0_tup25.0_Q10000.0_tau0.0030.bin',\n",
    "                          'xarchive.bin')\n",
    "semi = binary_semi('eb0.525_ap4.500_Np15.0_tup25.0_Q10000.0_tau0.0030.bin',\n",
    "                   'xarchive.bin')\n",
    "\n",
    "axs[0][0].scatter(tb, eb_ev, label=\"Analytic Prediction\")\n",
    "axs[0][0].scatter(ecc[0], ecc[1], label=\"Rebound Simulation\")\n",
    "axs[0][0].set_ylabel(\"Eccentricity\")\n",
    "axs[0][0].set_title(r\"Binary Eccentricity Evolution with Q = 10000.0\")\n",
    "\n",
    "axs[0][1].scatter(tb, ab_ev, label=\"Analytic Prediction\")\n",
    "axs[0][1].scatter(semi[0], semi[1], label=\"Rebound Simulation\")\n",
    "axs[0][1].set_xlabel(\"Time\")\n",
    "axs[0][1].set_ylabel(\"Semi-Major Axis\")\n",
    "axs[0][1].set_title(\"Binary Semi-Major Axis Evolution with Q = 10000.0\")\n",
    "\n",
    "axs[0][0].legend()\n",
    "axs[0][1].legend()\n",
    "#plt.savefig(\"overplot.png\") # rename based on sim snapshot and as re-evaluated \n",
    "\n",
    "ecc2 = binary_ecc('eb0.058_ap5.000_Np15.0_tup25.0_Q100000.0_tau0.0003.bin','xarchive.bin')\n",
    "semi2 = binary_semi('eb0.058_ap5.000_Np15.0_tup25.0_Q100000.0_tau0.0003.bin','xarchive.bin')\n",
    "\n",
    "axs[1][0].scatter(tb_2, eb_ev_2, label=\"Analytic Prediction\")\n",
    "axs[1][0].scatter(ecc2[0], ecc2[1], label=\"Rebound Simulation\")\n",
    "axs[1][0].set_ylabel(\"Eccentricity\")\n",
    "axs[1][0].ticklabel_format(useOffset=False)\n",
    "axs[1][0].set_title(\"Binary Eccentricity Evolution with Q = 100000.0\")\n",
    "\n",
    "axs[1][1].scatter(tb_2, ab_ev_2, label=\"Analytic Prediction\")\n",
    "axs[1][1].scatter(semi2[0], semi2[1], label=\"Rebound Simulation\")\n",
    "axs[1][1].set_xlabel(\"Time\")\n",
    "axs[1][1].set_ylabel(\"Semi-Major Axis\")\n",
    "axs[1][1].ticklabel_format(useOffset=False)\n",
    "axs[1][1].set_title(\"Binary Semi-Major Axis Evolution with Q = 100000.0\")\n",
    "\n",
    "axs[1][0].legend()\n",
    "axs[1][1].legend()"
   ]
  },
  {
   "cell_type": "markdown",
   "metadata": {},
   "source": [
    "The analytic integration compared with the simulation data shows that the simulations are correctly allowing for the binaries to circularize and migrate."
   ]
  },
  {
   "cell_type": "code",
   "execution_count": null,
   "metadata": {},
   "outputs": [],
   "source": []
  }
 ],
 "metadata": {
  "kernelspec": {
   "display_name": "Python 3",
   "language": "python",
   "name": "python3"
  },
  "language_info": {
   "codemirror_mode": {
    "name": "ipython",
    "version": 3
   },
   "file_extension": ".py",
   "mimetype": "text/x-python",
   "name": "python",
   "nbconvert_exporter": "python",
   "pygments_lexer": "ipython3",
   "version": "3.8.2"
  }
 },
 "nbformat": 4,
 "nbformat_minor": 4
}
