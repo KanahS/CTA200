{
 "cells": [
  {
   "cell_type": "code",
   "execution_count": 1,
   "metadata": {},
   "outputs": [],
   "source": [
    "import math\n",
    "import numpy as np\n",
    "import matplotlib \n",
    "import matplotlib.pyplot as plt\n",
    "import rebound as rb"
   ]
  },
  {
   "cell_type": "code",
   "execution_count": 2,
   "metadata": {},
   "outputs": [],
   "source": [
    "# tuples are of order (e_b, a_p) binary eccentricity and planetary semi-major axis\n",
    "\n",
    "tup_num = 5\n",
    "e_bin = np.linspace(0, 0.7, tup_num)\n",
    "a_plan = np.linspace(1, 5, tup_num)\n",
    "f_plan = np.random.rand(2)*2*np.pi\n",
    "f_bin = np.random.rand()*2*np.pi\n",
    "tup_list = []\n",
    "\n",
    "for e in e_bin:\n",
    "    for a in a_plan:\n",
    "        tup_list.append((e,a))\n",
    "        \n",
    "def survival(initial):    \n",
    "    sim3 = rb.Simulation()\n",
    "    \n",
    "    N_orbit = (10e4)*2*np.pi\n",
    "    sim3.add(m=1, hash=\"Binary 1\")\n",
    "    sim3.add(m=1, a=1, e= initial[0], hash=\"Binary 2\", f=f_bin)\n",
    "    sim3.add(a= initial[1], e=0, hash=\"Test Planet\", f=f_bin)\n",
    "    \n",
    "    sim3.integrator = \"whfast\"\n",
    "    sim3.move_to_com()\n",
    "    times = np.linspace(0, N_orbit, int(1e4))\n",
    "    \n",
    "    for i, time in enumerate(times):\n",
    "        sim3.integrate(time, exact_finish_time=0)\n",
    "        p = sim3.particles[2]\n",
    "        a_bin = sim3.particles[1].a\n",
    "        if (p.x**2 + p.y**2) > (100*a_bin)**2:\n",
    "            break\n",
    "    return time"
   ]
  },
  {
   "cell_type": "code",
   "execution_count": null,
   "metadata": {},
   "outputs": [],
   "source": [
    "%%time\n",
    "pool = rb.InterruptiblePool()\n",
    "mapping = pool.map(func= survival, iterable= tup_list)"
   ]
  },
  {
   "cell_type": "code",
   "execution_count": null,
   "metadata": {},
   "outputs": [],
   "source": [
    "fig = plt.figure()\n",
    "figure = np.reshape(mapping, [tup_num,tup_num])\n",
    "\n",
    "plt.pcolormesh(e_bin,a_plan, figure.T, shading='auto')\n",
    "plt.title('Mean Survival Times')\n",
    "plt.xlabel('Binary Eccentricity (e)')\n",
    "plt.ylabel('Planetary Semi-Major Axis (a)')\n",
    "plt.xlim(0.0,0.7)\n",
    "plt.ylim(1,5)\n",
    "\n",
    "a_bin = 2.278 + 3.824*e_bin - 1.71*(e_bin**2)\n",
    "plt.plot(e_bin, a_bin, color='white')\n",
    "plt.scatter(e_bin, a_bin, color='white')\n",
    "\n",
    "plt.colorbar(label='Test Particle Survival Times')"
   ]
  }
 ],
 "metadata": {
  "kernelspec": {
   "display_name": "Python 3",
   "language": "python",
   "name": "python3"
  },
  "language_info": {
   "codemirror_mode": {
    "name": "ipython",
    "version": 3
   },
   "file_extension": ".py",
   "mimetype": "text/x-python",
   "name": "python",
   "nbconvert_exporter": "python",
   "pygments_lexer": "ipython3",
   "version": "3.8.2"
  }
 },
 "nbformat": 4,
 "nbformat_minor": 4
}
