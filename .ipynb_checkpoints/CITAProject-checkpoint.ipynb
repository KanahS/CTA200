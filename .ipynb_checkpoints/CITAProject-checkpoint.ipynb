{
 "cells": [
  {
   "cell_type": "code",
   "execution_count": 1,
   "metadata": {},
   "outputs": [],
   "source": [
    "import math\n",
    "import numpy as np\n",
    "import matplotlib \n",
    "import matplotlib.pyplot as plt\n",
    "import rebound as rb"
   ]
  },
  {
   "cell_type": "code",
   "execution_count": 2,
   "metadata": {},
   "outputs": [
    {
     "data": {
      "text/plain": [
       "'Intro to Rebound'"
      ]
     },
     "execution_count": 2,
     "metadata": {},
     "output_type": "execute_result"
    }
   ],
   "source": [
    "\"\"\"Intro to Rebound\"\"\""
   ]
  },
  {
   "cell_type": "code",
   "execution_count": 3,
   "metadata": {},
   "outputs": [],
   "source": [
    "\"\"\"Question 2\"\"\"\n",
    "\n",
    "sim = rb.Simulation()\n",
    "\n",
    "sim.move_to_com()\n",
    "sim.integrator = \"whfast\"\n",
    "\n",
    "sim.add(m=1, hash=\"Binary 1\")\n",
    "sim.add(m=1, a=1, e= 0.1, hash=\"Binary 2\", f=np.random.rand()*2*np.pi)\n",
    "sim.add(a=2.5, e= 0.4, hash=\"Test Planet\", f=np.random.rand()*2*np.pi)\n",
    "\n",
    "spec_int = np.pi # half of one full orbit\n",
    "\n",
    "N_orbit = 6*np.pi #3 full orbits\n",
    "\n",
    "sim.integrate(N_orbit, exact_finish_time=0) #setting flag to integrate up to timestep nearest to endtime\n",
    "sim.dt = 1e-3\n",
    "\n",
    "sim.exit_max_distance = 4*1"
   ]
  },
  {
   "cell_type": "code",
   "execution_count": 4,
   "metadata": {
    "scrolled": true
   },
   "outputs": [
    {
     "name": "stdout",
     "output_type": "stream",
     "text": [
      "---------------------------------\n",
      "REBOUND version:     \t3.17.0\n",
      "REBOUND built on:    \tMay 29 2021 20:46:07\n",
      "Number of particles: \t3\n",
      "Selected integrator: \twhfast\n",
      "Simulation time:     \t1.8850000000001419e+01\n",
      "Current timestep:    \t0.001000\n",
      "---------------------------------\n",
      "<rebound.particle.Particle object at 0x7fde87642dc0, m=1.0 x=12.757432724695043 y=3.6612179734040393 z=0.0 vx=1.0037642524978043 vy=-0.48023661621118763 vz=0.0>\n",
      "<rebound.particle.Particle object at 0x7fde87657840, m=1.0 x=13.574136092490507 y=4.058783548017436 z=0.0 vx=0.3816607091257176 vy=0.939860105549504 vz=0.0>\n",
      "<rebound.particle.Particle object at 0x7fde87642dc0, m=0.0 x=-3.4774362146686926 y=3.878707475415971 z=0.0 vx=-0.1359639857811351 vy=0.07727692341528858 vz=0.0>\n",
      "---------------------------------\n"
     ]
    }
   ],
   "source": [
    "sim.status()\n",
    "# help(rb.Simulation.initSimulationArchive)"
   ]
  },
  {
   "cell_type": "code",
   "execution_count": 5,
   "metadata": {},
   "outputs": [],
   "source": [
    "\"\"\"Question 3\"\"\"\n",
    "\n",
    "sim2 = rb.Simulation()\n",
    "\n",
    "sim2.move_to_com()\n",
    "sim2.integrator = \"whfast\"\n",
    "\n",
    "sim2.add(m=1, hash=\"Binary 1\")\n",
    "sim2.add(m=1, hash=\"Binary 2\", a=1, e=0.5)\n",
    "sim2.add(hash=\"Planet\", a=4, e=0)\n",
    "\n",
    "N2_orbit = 10*2*np.pi\n",
    "sim2.dt = 1e-3"
   ]
  },
  {
   "cell_type": "code",
   "execution_count": 6,
   "metadata": {},
   "outputs": [
    {
     "name": "stdout",
     "output_type": "stream",
     "text": [
      "---------------------------------\n",
      "REBOUND version:     \t3.17.0\n",
      "REBOUND built on:    \tMay 29 2021 20:46:07\n",
      "Number of particles: \t3\n",
      "Selected integrator: \twhfast\n",
      "Simulation time:     \t0.0000000000000000e+00\n",
      "Current timestep:    \t0.001000\n",
      "---------------------------------\n",
      "<rebound.particle.Particle object at 0x7fde87657840, m=1.0 x=0.0 y=0.0 z=0.0 vx=0.0 vy=0.0 vz=0.0>\n",
      "<rebound.particle.Particle object at 0x7fde876576c0, m=1.0 x=0.5 y=0.0 z=0.0 vx=0.0 vy=2.449489742783178 vz=0.0>\n",
      "<rebound.particle.Particle object at 0x7fde87657840, m=0.0 x=4.25 y=0.0 z=0.0 vx=0.0 vy=1.9318516525781364 vz=0.0>\n",
      "---------------------------------\n"
     ]
    }
   ],
   "source": [
    "sim2.status()"
   ]
  },
  {
   "cell_type": "code",
   "execution_count": 7,
   "metadata": {},
   "outputs": [
    {
     "data": {
      "image/png": "[encoded data removed]",
      "text/plain": [
       "<Figure size 360x360 with 1 Axes>"
      ]
     },
     "metadata": {
      "needs_background": "light"
     },
     "output_type": "display_data"
    }
   ],
   "source": [
    "%matplotlib inline\n",
    "\n",
    "fig = rb.OrbitPlot(sim2)\n",
    "plt.savefig('orbitalplot.pdf')"
   ]
  },
  {
   "cell_type": "code",
   "execution_count": 12,
   "metadata": {
    "scrolled": true
   },
   "outputs": [
    {
     "data": {
      "text/plain": [
       "Text(0.5, 1.0, 'Manual Orbital Plot')"
      ]
     },
     "execution_count": 12,
     "metadata": {},
     "output_type": "execute_result"
    },
    {
     "data": {
      "image/png": "[encoded data removed]",
      "text/plain": [
       "<Figure size 432x288 with 1 Axes>"
      ]
     },
     "metadata": {
      "needs_background": "light"
     },
     "output_type": "display_data"
    }
   ],
   "source": [
    "particles2 = sim2.particles\n",
    "fig, ax = plt.subplots()\n",
    "ax.plot()\n",
    "\n",
    "torb = 6*np.pi\n",
    "Noutputs = 100\n",
    "times = np.linspace(0, torb, Noutputs)\n",
    "\n",
    "b1x = []\n",
    "b1y = []\n",
    "\n",
    "b2x = []\n",
    "b2y = []\n",
    "\n",
    "px = []\n",
    "py = []\n",
    "\n",
    "\n",
    "sim2.move_to_com()\n",
    "for i, time in enumerate(times):\n",
    "    sim2.integrate(time,exact_finish_time=0)\n",
    "    b1x.append(particles2[0].x)\n",
    "    b1y.append(particles2[0].y)\n",
    "    b2x.append(particles2[1].x)\n",
    "    b2y.append(particles2[1].y)\n",
    "    px.append(particles2[2].x)\n",
    "    py.append(particles2[2].y)\n",
    "\n",
    "plt.plot(b1x,b1y, color='green')\n",
    "plt.plot(b2x,b2y, color='cyan')\n",
    "plt.plot(px,py, color='pink')   \n",
    "plt.xlabel(\"x\")\n",
    "plt.ylabel(\"y\")\n",
    "plt.title(\"Manual Orbital Plot\")\n",
    "\n",
    "#plt.savefig('manualorbit.png')"
   ]
  },
  {
   "cell_type": "code",
   "execution_count": 13,
   "metadata": {},
   "outputs": [
    {
     "name": "stdout",
     "output_type": "stream",
     "text": [
      "---------------------------------\n",
      "REBOUND version:     \t3.17.0\n",
      "REBOUND built on:    \tMay 29 2021 20:46:07\n",
      "Number of particles: \t3\n",
      "Selected integrator: \twhfast\n",
      "Simulation time:     \t1.8850000000001419e+01\n",
      "Current timestep:    \t0.001000\n",
      "---------------------------------\n",
      "<rebound.particle.Particle object at 0x7fde850949c0, m=1.0 x=0.45043090883256565 y=-0.3966996194709873 z=0.0 vx=0.5396460230574781 vy=0.20449050907872746 vz=0.0>\n",
      "<rebound.particle.Particle object at 0x7fde85094a40, m=1.0 x=-0.45043090883256565 y=0.3966996194709873 z=0.0 vx=-0.5396460230574781 vy=-0.20449050907872746 vz=0.0>\n",
      "<rebound.particle.Particle object at 0x7fde850949c0, m=0.0 x=-3.334454273134022 y=-1.6184443663687054 z=0.0 vx=0.3211629737155257 vy=-0.692784278538448 vz=0.0>\n",
      "---------------------------------\n"
     ]
    }
   ],
   "source": [
    "sim2.status()"
   ]
  },
  {
   "cell_type": "code",
   "execution_count": null,
   "metadata": {},
   "outputs": [],
   "source": [
    "\"\"\"Classic Results\"\"\""
   ]
  },
  {
   "cell_type": "code",
   "execution_count": 14,
   "metadata": {},
   "outputs": [],
   "source": [
    "\"\"\" Question 1\"\"\"\n",
    "\n",
    "# tuples are of order (e_b, a_p) binary eccentricity \n",
    "# and planetary semi-major axis\n",
    "\n",
    "# for a in avals:\n",
    "# FOR E IN eb:\n",
    "# empty list.append(a,e)\n",
    "\n",
    "e_bin = np.linspace(0, 0.7, 5)\n",
    "a_plan = np.linspace(1, 5, 5)\n",
    "\n",
    "tup_list = []\n",
    "\n",
    "for e in e_bin:\n",
    "    for a in a_plan:\n",
    "        tup_list.append((e,a))"
   ]
  },
  {
   "cell_type": "code",
   "execution_count": 22,
   "metadata": {},
   "outputs": [],
   "source": [
    "#tup_list"
   ]
  },
  {
   "cell_type": "code",
   "execution_count": 18,
   "metadata": {},
   "outputs": [],
   "source": [
    "survival_times = []\n",
    "\n",
    "def survival(tuple):\n",
    "    sim3 = rb.Simulation()\n",
    "    sim3.move_to_com()\n",
    "    sim3.dt = 1e-3\n",
    "    \n",
    "    N_orbit = (100)*2*np.pi\n",
    "    sim3.add(m=1, hash=\"Binary 1\")\n",
    "    sim3.add(m=1, a=1, e=tuple[0], hash=\"Binary 2\", f=np.random.rand()*2*np.pi)\n",
    "    sim3.add(a=tuple[1], e=0, hash=\"Test Planet\", f=np.random.rand()*2*np.pi)\n",
    "    \n",
    "    sim3.integrate(N_orbit, exact_finish_time=0)\n",
    "    \n",
    "    a_crit = 2.278 + 3.824*tuple[0] - 1.71*(tuple[0])**2\n",
    "    sim.exit_max_distance = a_crit\n",
    "    \n",
    "    for num in tuple:\n",
    "        if num == round(sim3.particles[1].e, 4): \n",
    "            survival_times.append(sim3.particles[2].P)\n",
    "        \n",
    "        if num == round(sim3.particles[2].a):\n",
    "            survival_times.append(sim3.particles[2].P) \n",
    "        \n",
    "    return survival_times"
   ]
  },
  {
   "cell_type": "code",
   "execution_count": 26,
   "metadata": {},
   "outputs": [],
   "source": [
    "# function edits \n",
    "surv = []\n",
    "\n",
    "def test(tuple):\n",
    "    sim3 = rb.Simulation()\n",
    "    sim3.move_to_com()\n",
    "    sim3.dt = 1e-3\n",
    "    \n",
    "    N_orbit = (100)*2*np.pi\n",
    "    sim3.add(m=1, hash=\"Binary 1\")\n",
    "    sim3.add(m=1, a=1, e=tuple[0], hash=\"Binary 2\", f=np.random.rand()*2*np.pi)\n",
    "    sim3.add(a=tuple[1], e=0, hash=\"Test Planet\", f=np.random.rand()*2*np.pi)\n",
    "    \n",
    "    sim3.integrate(N_orbit, exact_finish_time=0)\n",
    "    \n",
    "    #a_max = 100\n",
    "    \n",
    "    survival_times.append(sim3.particles[2].P)\n",
    "    \n",
    "    return surv"
   ]
  },
  {
   "cell_type": "code",
   "execution_count": 27,
   "metadata": {},
   "outputs": [],
   "source": [
    "pool = rb.InterruptiblePool()"
   ]
  },
  {
   "cell_type": "code",
   "execution_count": 28,
   "metadata": {},
   "outputs": [
    {
     "data": {
      "text/plain": [
       "[[],\n",
       " [],\n",
       " [],\n",
       " [],\n",
       " [],\n",
       " [],\n",
       " [],\n",
       " [],\n",
       " [],\n",
       " [],\n",
       " [],\n",
       " [],\n",
       " [],\n",
       " [],\n",
       " [],\n",
       " [],\n",
       " [],\n",
       " [],\n",
       " [],\n",
       " [],\n",
       " [],\n",
       " [],\n",
       " [],\n",
       " [],\n",
       " []]"
      ]
     },
     "execution_count": 28,
     "metadata": {},
     "output_type": "execute_result"
    }
   ],
   "source": [
    "pool.map(func= test, iterable= tup_list)"
   ]
  },
  {
   "cell_type": "code",
   "execution_count": 20,
   "metadata": {},
   "outputs": [
    {
     "data": {
      "text/plain": [
       "array([[list([0.192477051276732, 0.192477051276732]),\n",
       "        list([14.626963536657195, 14.626963536657195]),\n",
       "        list([23.65483569540848, 23.65483569540848]),\n",
       "        list([35.77005565374566, 35.77005565374566]),\n",
       "        list([49.679293913784065, 49.679293913784065])],\n",
       "       [list([-12.048221929295968]), list([-5.794642935149285]),\n",
       "        list([23.714313999835188, 23.714313999835188]),\n",
       "        list([35.77707762621985, 35.77707762621985]),\n",
       "        list([49.54640617868569, 49.54640617868569])],\n",
       "       [list([-251.9937511334462]), list([-9.315637939806205]),\n",
       "        list([1202.2700555545173]),\n",
       "        list([35.540731272076606, 35.540731272076606]),\n",
       "        list([49.19141664901084, 49.19141664901084])],\n",
       "       [list([]), list([]), list([]), list([34.73053701391245]),\n",
       "        list([49.30263979509404])],\n",
       "       [list([-26.885461619093192]), list([-30.410525318349965]),\n",
       "        list([-144.6215638781086]),\n",
       "        list([36.05288342539221, 36.05288342539221]),\n",
       "        list([35.77005565374566, 35.77005565374566, 48.52277394023013, 48.52277394023013])]],\n",
       "      dtype=object)"
      ]
     },
     "execution_count": 20,
     "metadata": {},
     "output_type": "execute_result"
    }
   ],
   "source": [
    "mapping = pool.map(func= survival, iterable= tup_list)\n",
    "np.reshape(mapping, [5,5])"
   ]
  },
  {
   "cell_type": "code",
   "execution_count": null,
   "metadata": {},
   "outputs": [],
   "source": [
    "#help(list)"
   ]
  },
  {
   "cell_type": "code",
   "execution_count": null,
   "metadata": {},
   "outputs": [],
   "source": [
    "from matplotlib.colors import BoundaryNorm\n",
    "from matplotlib.ticker import MaxNLocator"
   ]
  },
  {
   "cell_type": "code",
   "execution_count": null,
   "metadata": {},
   "outputs": [],
   "source": [
    "#fig = plt.figure()\n",
    "#plt.pcolormesh"
   ]
  },
  {
   "cell_type": "code",
   "execution_count": null,
   "metadata": {},
   "outputs": [],
   "source": [
    "    #if tuple[0] == round(sim3.particles[1].e, 3): \n",
    "        #survival_times.append(sim3.particles[2].P)\n",
    "        \n",
    "    #if tuple[1] == round(sim3.particles[2].a):\n",
    "        #survival_times.append(sim.particles[2].P)"
   ]
  }
 ],
 "metadata": {
  "kernelspec": {
   "display_name": "Python 3",
   "language": "python",
   "name": "python3"
  },
  "language_info": {
   "codemirror_mode": {
    "name": "ipython",
    "version": 3
   },
   "file_extension": ".py",
   "mimetype": "text/x-python",
   "name": "python",
   "nbconvert_exporter": "python",
   "pygments_lexer": "ipython3",
   "version": "3.8.2"
  }
 },
 "nbformat": 4,
 "nbformat_minor": 2
}
