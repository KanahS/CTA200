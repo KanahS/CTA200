{
 "cells": [
  {
   "cell_type": "markdown",
   "metadata": {},
   "source": [
    "Functions to Plot Evolution of Binary: Eccentricity and Semi-Major Axis\n",
    "\n",
    "only actually need to plot these values based on data from second binary as the primary is the center\n",
    "of the simulation\n"
   ]
  },
  {
   "cell_type": "code",
   "execution_count": 1,
   "metadata": {},
   "outputs": [],
   "source": [
    "import numpy as np\n",
    "import matplotlib\n",
    "import matplotlib.pyplot as plt\n",
    "import rebound as rb\n",
    "import reboundx as rx"
   ]
  },
  {
   "cell_type": "code",
   "execution_count": 2,
   "metadata": {},
   "outputs": [
    {
     "name": "stderr",
     "output_type": "stream",
     "text": [
      "/opt/python/3.8.2/lib/python3.8/site-packages/rebound/simulationarchive.py:146: RuntimeWarning: You have to reset function pointers after creating a reb_simulation struct with a binary file.\n",
      "  warnings.warn(message, RuntimeWarning)\n"
     ]
    }
   ],
   "source": [
    "sa = None\n",
    "\n",
    "sa = rx.SimulationArchive('eb0.525_ap4.500_Np15.0_tup25.0_Q10000.0_tau0.0030.bin', \n",
    "                           rebxfilename='xarchive.bin')"
   ]
  },
  {
   "cell_type": "code",
   "execution_count": 3,
   "metadata": {},
   "outputs": [],
   "source": [
    "def binary_semi(archive, extras):\n",
    "    sim_arc = rx.SimulationArchive(archive, rebxfilename=extras)\n",
    "    \n",
    "    x_arr = []\n",
    "    y_arr = []\n",
    "    \n",
    "    for snap in range(len(sim_arc)): \n",
    "        base = sim_arc[snap][0].particles[1]\n",
    "        orb_element = base.a\n",
    "        time = (sim_arc[snap][0].t)\n",
    "        \n",
    "        y_arr.append(orb_element)\n",
    "        x_arr.append(time)\n",
    "        \n",
    "    return x_arr, y_arr"
   ]
  },
  {
   "cell_type": "code",
   "execution_count": 6,
   "metadata": {},
   "outputs": [],
   "source": [
    "def binary_ecc(archive, extras):\n",
    "    sim_arc = rx.SimulationArchive(archive, rebxfilename=extras)\n",
    "    \n",
    "    x_arr = []\n",
    "    y_arr = []\n",
    "    \n",
    "    for snap in range(len(sim_arc)): \n",
    "        base = sim_arc[snap][0].particles[1]\n",
    "        orb_element = base.e\n",
    "        time = (sim_arc[snap][0].t)\n",
    "        \n",
    "        y_arr.append(orb_element)\n",
    "        x_arr.append(time)\n",
    "\n",
    "    return np.array(x_arr), np.array(y_arr)"
   ]
  },
  {
   "cell_type": "code",
   "execution_count": 7,
   "metadata": {},
   "outputs": [
    {
     "data": {
      "text/plain": [
       "(array([    0.        ,  1000.00099998,  2000.00000018,  3000.00000038,\n",
       "         4000.00000059,  5000.00000079,  6000.00000099,  7000.0000012 ,\n",
       "         8000.0000014 ,  9000.0000016 , 10000.00000181, 11000.00000201,\n",
       "        12000.00000222, 13000.00000242, 14000.00000262, 15000.00000283,\n",
       "        16000.00000303, 17000.00000099, 18000.00099756, 19000.00099412,\n",
       "        20000.00099069, 21000.00098726, 22000.00098382, 23000.00098039,\n",
       "        24000.00097695, 25000.00097352, 26000.00097008, 27000.00096665,\n",
       "        28000.00096322, 29000.00095978, 30000.00095635, 31000.00095291,\n",
       "        32000.00094948, 33000.00094773, 34000.00095157, 35000.00095542,\n",
       "        36000.00095926, 37000.0009631 , 38000.00096694, 39000.00097078,\n",
       "        40000.00097462, 41000.00097847, 42000.00098231, 43000.00098615,\n",
       "        44000.00098999, 45000.00099383, 46000.00099768, 47000.00000152,\n",
       "        48000.00000536, 49000.0000092 , 50000.00001304, 51000.00001688,\n",
       "        52000.00002073, 53000.00002457, 54000.00002841, 55000.00003225,\n",
       "        56000.00003609, 57000.00003993, 58000.00004378, 59000.00004762,\n",
       "        60000.00005146, 61000.0000553 , 62000.00005914]),\n",
       " array([0.525     , 0.52495246, 0.52491067, 0.52486932, 0.52482801,\n",
       "        0.52478671, 0.52474552, 0.52470499, 0.52466264, 0.52462135,\n",
       "        0.52458014, 0.52453881, 0.52449736, 0.52445612, 0.52441483,\n",
       "        0.52437342, 0.52433259, 0.52429077, 0.52424955, 0.52420816,\n",
       "        0.52416692, 0.52412557, 0.52408432, 0.52404295, 0.52400177,\n",
       "        0.52396038, 0.52392299, 0.52387784, 0.52383651, 0.52379554,\n",
       "        0.52375398, 0.52371266, 0.52367621, 0.52363019, 0.52358887,\n",
       "        0.52354758, 0.52350841, 0.52346531, 0.52342386, 0.52338257,\n",
       "        0.52334129, 0.52330002, 0.52325876, 0.52321752, 0.5231763 ,\n",
       "        0.52313509, 0.52309385, 0.52305257, 0.5230113 , 0.52297006,\n",
       "        0.52292883, 0.52288761, 0.52284641, 0.52280521, 0.52276422,\n",
       "        0.52272416, 0.52268147, 0.52264028, 0.52259912, 0.52256398,\n",
       "        0.52251661, 0.52247545, 0.52243465]))"
      ]
     },
     "execution_count": 7,
     "metadata": {},
     "output_type": "execute_result"
    }
   ],
   "source": [
    "binary_ecc('eb0.525_ap4.500_Np15.0_tup25.0_Q10000.0_tau0.0030.bin', 'xarchive.bin')"
   ]
  },
  {
   "cell_type": "code",
   "execution_count": null,
   "metadata": {},
   "outputs": [],
   "source": []
  }
 ],
 "metadata": {
  "kernelspec": {
   "display_name": "Python 3",
   "language": "python",
   "name": "python3"
  },
  "language_info": {
   "codemirror_mode": {
    "name": "ipython",
    "version": 3
   },
   "file_extension": ".py",
   "mimetype": "text/x-python",
   "name": "python",
   "nbconvert_exporter": "python",
   "pygments_lexer": "ipython3",
   "version": "3.8.2"
  }
 },
 "nbformat": 4,
 "nbformat_minor": 4
}
