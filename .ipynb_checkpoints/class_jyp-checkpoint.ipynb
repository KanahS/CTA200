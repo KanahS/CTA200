{
 "cells": [
  {
   "cell_type": "markdown",
   "metadata": {},
   "source": [
    "###"
   ]
  },
  {
   "cell_type": "code",
   "execution_count": 1,
   "metadata": {},
   "outputs": [],
   "source": [
    "import numpy as np\n",
    "import matplotlib\n",
    "import matplotlib.pyplot as plt\n",
    "import rebound as rb\n",
    "import reboundx as rx"
   ]
  },
  {
   "cell_type": "code",
   "execution_count": 2,
   "metadata": {},
   "outputs": [],
   "source": [
    "tup_num = 7 #change back to 7\n",
    "e_b = np.linspace(0, 0.7, tup_num)\n",
    "a_p = np.linspace(1, 5, tup_num)\n",
    "\n",
    "Np = 4\n",
    "\n",
    "Qex = []\n",
    "for x in range(4,7):\n",
    "    Q = 10**x\n",
    "    Qex.append(Q)\n",
    "\n",
    "tup_list = []\n",
    "\n",
    "for Q in Qex:\n",
    "    for e in e_b:\n",
    "        for a in a_p:\n",
    "            tup_list.append((Q,e,a,Np))\n",
    "\n",
    "Ne = len(e_b)\n",
    "Na = len(a_p)\n",
    "Nq = len(Qex)"
   ]
  },
  {
   "cell_type": "code",
   "execution_count": 3,
   "metadata": {},
   "outputs": [],
   "source": [
    "def survival(initial):    \n",
    "    (Q, eb, ap, Np) = initial\n",
    "\n",
    "    sim = rb.Simulation()\n",
    "    sim.integrator = \"whfast\"\n",
    "    \n",
    "    mu = 0.5\n",
    "    m1 = 1\n",
    "    m2 = abs((m1*mu)/(1-mu))\n",
    "\n",
    "    sim.add(m=m1, hash=\"Binary 1\")\n",
    "    sim.add(m=m2, a=1, e= eb, hash=\"Binary 2\")\n",
    "    \n",
    "    R_star = 0.1*(1-0.5)**(1/3)\n",
    "    sim.particles[0].r = R_star\n",
    "    sim.particles[1].r = R_star\n",
    "    \n",
    "    #initializing Np massless planets\n",
    "    \n",
    "    for p in range(Np):\n",
    "        f_plan = np.random.rand()*2*np.pi\n",
    "        sim.add(m=0, a= ap, e=0, f= f_plan)\n",
    "    \n",
    "    #array to keep track of survival time\n",
    "    sim.move_to_com()\n",
    "    \n",
    "    # Adding Tidal Elements\n",
    "    rebx = rx.Extras(sim)\n",
    "    tides = rebx.load_force(\"tides_constant_time_lag\")\n",
    "    rebx.add_force(tides)\n",
    "    \n",
    "    ps = sim.particles\n",
    "    \n",
    "    k2 = ps[0].params[\"tctl_k2\"] = 0.035\n",
    "    nb = ps[1].n\n",
    "    tau = ps[0].params[\"tctl_tau\"] = 3/(2*Q*k2*nb)\n",
    "     \n",
    "    #directory = '/mnt/raid-cita/ksmith/jyp_notebook_tests/'\n",
    "    #rebx.save(directory+'rebxarchive.bin')\n",
    "    #sim.automateSimulationArchive(directory+r\"jpy_eb{:.3f}_ap{:.3f}_Np{:.1f}_tup{:.1f}_Q{:.1f}_tau{:.4f}.bin\"\n",
    "    #                              .format(eb,ap,Np,tup_num,Q,tau), interval=1e3, deletefile=True)\n",
    "    \n",
    "    #integrate\n",
    "    N_times = int(100) #10,000\n",
    "    N_orbit = (1e4)*2*np.pi\n",
    "    times = np.linspace(0,N_orbit,N_times)\n",
    "    surv = np.zeros(Np)\n",
    "    \n",
    "    for i, time in enumerate(times):\n",
    "        \n",
    "        nb = ps[1].n\n",
    "        r_eb = ps[1].e\n",
    "        \n",
    "        N_re = (1+(15./2.)*r_eb**2+(45./8.)*r_eb**4+(5./16.)*r_eb**6)/(1-r_eb**2)**6\n",
    "        Omega_re = (1+3*r_eb**2+(3./8.)*r_eb**4)/(1-r_eb**2)**(9./2.)\n",
    "        ps[0].params[\"Omega\"] = N_re/Omega_re*nb\n",
    "        \n",
    "        sim.integrate(time, exact_finish_time=0)\n",
    "            \n",
    "        for num in reversed(range(2, sim.N)):\n",
    "            #p = sim.particles[num]\n",
    "            #o = p.calculate_orbit()\n",
    "            #print(\"This is o\", o)\n",
    "            #print(\"This is o.e\", o.e)\n",
    "            #p0 = sim.particles[0]\n",
    "            #p1 = sim.particles[1]\n",
    "            #d = np.sqrt(p.x**2 + p.y**2)\n",
    "            #d0 = np.sqrt((p.x - p0.x)**2 + (p.y - p0.y)**2)\n",
    "            #d1 = np.sqrt((p.x - p1.x)**2 + (p.y - p1.y)**2)\n",
    "\n",
    "            #if d > 20 or d0 < 0.25 or d1 < 0.25 or o.e > 1:\n",
    "            if (p.x**2 + p.y**2) > (100.)**2 or p.e > 1:\n",
    "                surv[num-2] = time\n",
    "                sim.remove(num)\n",
    "            \n",
    "            if sim.N==2:\n",
    "                break\n",
    "                        \n",
    "    surv[(surv==0)] = time\n",
    "    #np.savetxt('/mnt/raid-cita/ksmith/CSTE_SUNNY/'+'raw_survival_time.bin', surv) \n",
    "    # saving raw survival time data w/out doing the mean\n",
    "    \n",
    "    print(f'simulation finished, {len(sim.particles)-2} planets remaining')\n",
    "    return np.mean(surv) "
   ]
  },
  {
   "cell_type": "code",
   "execution_count": null,
   "metadata": {
    "scrolled": true
   },
   "outputs": [],
   "source": [
    "%%time\n",
    "pool = rb.InterruptiblePool(processes=16)\n",
    "mapping = pool.map(func= survival, iterable= tup_list)"
   ]
  },
  {
   "cell_type": "code",
   "execution_count": 4,
   "metadata": {
    "scrolled": true
   },
   "outputs": [
    {
     "ename": "NameError",
     "evalue": "name 'mapping' is not defined",
     "output_type": "error",
     "traceback": [
      "\u001b[0;31m---------------------------------------------------------------------------\u001b[0m",
      "\u001b[0;31mNameError\u001b[0m                                 Traceback (most recent call last)",
      "Input \u001b[0;32mIn [4]\u001b[0m, in \u001b[0;36m<module>\u001b[0;34m\u001b[0m\n\u001b[1;32m      1\u001b[0m fig, ax \u001b[38;5;241m=\u001b[39m plt\u001b[38;5;241m.\u001b[39msubplots(\u001b[38;5;241m1\u001b[39m, Nq, figsize\u001b[38;5;241m=\u001b[39m(\u001b[38;5;241m20\u001b[39m,\u001b[38;5;241m5\u001b[39m), constrained_layout\u001b[38;5;241m=\u001b[39m\u001b[38;5;28;01mTrue\u001b[39;00m)\n\u001b[1;32m      2\u001b[0m ax \u001b[38;5;241m=\u001b[39m ax\u001b[38;5;241m.\u001b[39mravel()\n\u001b[0;32m----> 4\u001b[0m SurvTimeAll \u001b[38;5;241m=\u001b[39m np\u001b[38;5;241m.\u001b[39mreshape(\u001b[43mmapping\u001b[49m, [Nq,Ne,Na])\n\u001b[1;32m      6\u001b[0m SurvTimeArr \u001b[38;5;241m=\u001b[39m [SurvTimeAll[i,:,:] \u001b[38;5;28;01mfor\u001b[39;00m i \u001b[38;5;129;01min\u001b[39;00m \u001b[38;5;28mrange\u001b[39m(Nq)]\n\u001b[1;32m      8\u001b[0m \u001b[38;5;28;01mfor\u001b[39;00m i \u001b[38;5;129;01min\u001b[39;00m \u001b[38;5;28mrange\u001b[39m(Nq):\n",
      "\u001b[0;31mNameError\u001b[0m: name 'mapping' is not defined"
     ]
    },
    {
     "data": {
      "image/png": "[encoded data removed]",
      "text/plain": [
       "<Figure size 1440x360 with 3 Axes>"
      ]
     },
     "metadata": {
      "needs_background": "light"
     },
     "output_type": "display_data"
    }
   ],
   "source": [
    "fig, ax = plt.subplots(1, Nq, figsize=(20,5), constrained_layout=True)\n",
    "ax = ax.ravel()\n",
    "\n",
    "SurvTimeAll = np.reshape(mapping, [Nq,Ne,Na])\n",
    "       \n",
    "SurvTimeArr = [SurvTimeAll[i,:,:] for i in range(Nq)]\n",
    "\n",
    "for i in range(Nq):\n",
    "    pcm = ax[i].pcolormesh(e_b, a_p, SurvTimeArr[i].T, shading='auto')\n",
    "    \n",
    "    a_b = 2.278 + 3.824*e_b - 1.71*(e_b**2)\n",
    "    a_c = 1.6 + 5.1*e_b + (- 2.22*(e_b**2)) + 4.12*0.5 + (- 4.27*e_b*0.5) + (- 5.09*(0.5**2)) + 4.61*(e_b**2)*(0.5**2)\n",
    "    \n",
    "    ax[i].plot(e_b, a_c, color='lightsteelblue')\n",
    "    ax[i].scatter(e_b, a_c, color='lightsteelblue')\n",
    "\n",
    "    ax[i].plot(e_b, a_b, color='olive')\n",
    "    ax[i].scatter(e_b, a_b, color='olive')\n",
    "    \n",
    "    ax[i].set_title('Q={:.1e}'.format(Qex[i]))\n",
    "    ax[i].set_xlabel('Binary Eccentricity (e)')\n",
    "    ax[i].set_ylabel('Planetary Semi-Major Axis (a)')\n",
    "    ax[i].set_xlim(0.0,0.7)\n",
    "    ax[i].set_ylim(1,5)\n",
    "\n",
    "plt.colorbar(pcm, location='right',label='Test Particle Survival Times') "
   ]
  },
  {
   "cell_type": "code",
   "execution_count": 5,
   "metadata": {},
   "outputs": [
    {
     "ename": "NameError",
     "evalue": "name 'SurvTimeArr' is not defined",
     "output_type": "error",
     "traceback": [
      "\u001b[0;31m---------------------------------------------------------------------------\u001b[0m",
      "\u001b[0;31mNameError\u001b[0m                                 Traceback (most recent call last)",
      "Input \u001b[0;32mIn [5]\u001b[0m, in \u001b[0;36m<module>\u001b[0;34m\u001b[0m\n\u001b[1;32m      2\u001b[0m plt\u001b[38;5;241m.\u001b[39mfigure()\n\u001b[1;32m      3\u001b[0m \u001b[38;5;28;01mfor\u001b[39;00m i \u001b[38;5;129;01min\u001b[39;00m \u001b[38;5;28mrange\u001b[39m(Nq):\n\u001b[0;32m----> 4\u001b[0m     plt\u001b[38;5;241m.\u001b[39mplot(a_p,\u001b[43mSurvTimeArr\u001b[49m[i][\u001b[38;5;241m-\u001b[39m\u001b[38;5;241m1\u001b[39m,:])\n",
      "\u001b[0;31mNameError\u001b[0m: name 'SurvTimeArr' is not defined"
     ]
    },
    {
     "data": {
      "text/plain": [
       "<Figure size 432x288 with 0 Axes>"
      ]
     },
     "metadata": {},
     "output_type": "display_data"
    }
   ],
   "source": [
    "# 1D Slicing\n",
    "plt.figure()\n",
    "for i in range(Nq):\n",
    "    plt.plot(a_p,SurvTimeArr[i][-1,:])"
   ]
  },
  {
   "cell_type": "code",
   "execution_count": null,
   "metadata": {},
   "outputs": [],
   "source": [
    "\"\"\" Name of test sim archive with saved REBOUNDx archive\"\"\"\n",
    "# test_eb0.583_ap5.000_Np4.0_tup7.0_Q1000000.0_tau0.0000.bin\n",
    "sa2 = None"
   ]
  },
  {
   "cell_type": "code",
   "execution_count": null,
   "metadata": {},
   "outputs": [],
   "source": [
    "sa2 = rx.SimulationArchive('test_eb0.583_ap5.000_Np4.0_tup7.0_Q1000000.0_tau0.0000.bin', rebxfilename='rebxarchive.bin')\n",
    "\n",
    "print(\"Number of snapshots: %d\" % len(sa2))\n",
    "\n",
    "print(sa2[5][0].particles[0].params) \n",
    "\n",
    "# figure out how to access the Hash names, may be useful "
   ]
  },
  {
   "cell_type": "code",
   "execution_count": null,
   "metadata": {},
   "outputs": [],
   "source": [
    "sa1 = None"
   ]
  },
  {
   "cell_type": "code",
   "execution_count": null,
   "metadata": {},
   "outputs": [],
   "source": [
    "sa1 = rb.SimulationArchive('eb0.437_ap2.000_Np15.0_tup25.0_Q10000.0_tau0.0030.bin')\n",
    "print(\"Number of snapshots: %d\" % len(sa1))\n",
    "print(sa1[5].particles[2].omega)\n",
    "\n",
    "# figure out how to access the Hash names, may be useful "
   ]
  },
  {
   "cell_type": "code",
   "execution_count": null,
   "metadata": {},
   "outputs": [],
   "source": []
  }
 ],
 "metadata": {
  "kernelspec": {
   "display_name": "Python 3 (ipykernel)",
   "language": "python",
   "name": "python3"
  },
  "language_info": {
   "codemirror_mode": {
    "name": "ipython",
    "version": 3
   },
   "file_extension": ".py",
   "mimetype": "text/x-python",
   "name": "python",
   "nbconvert_exporter": "python",
   "pygments_lexer": "ipython3",
   "version": "3.10.2"
  }
 },
 "nbformat": 4,
 "nbformat_minor": 4
}
