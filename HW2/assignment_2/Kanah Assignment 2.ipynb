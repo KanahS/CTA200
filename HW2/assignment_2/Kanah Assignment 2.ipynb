{
 "cells": [
  {
   "cell_type": "code",
   "execution_count": 1,
   "metadata": {},
   "outputs": [
    {
     "name": "stdout",
     "output_type": "stream",
     "text": [
      "[0.99495408 0.98827605 0.9783183  0.96513552 0.94880166 0.9294094\n",
      " 0.90706954 0.88191016 0.85407579 0.82372636]\n",
      "[9.95003999e-07 1.01327895e-02 3.99290285e-02 8.87932702e-02\n",
      " 1.55744044e-01 2.39429587e-01 3.38148169e-01 4.49873748e-01\n",
      " 5.72286599e-01 7.02808519e-01]\n"
     ]
    }
   ],
   "source": [
    "#Question 1\n",
    "\n",
    "import numpy as np\n",
    "import math\n",
    "\n",
    "h = np.arange(1.e-3, 1, 0.1)\n",
    "\n",
    "#numerical function\n",
    "def inif(function, x0, h):\n",
    "    result = (function(x0 + h) - function(x0))/h\n",
    "    return result\n",
    "\n",
    "print(inif(np.sin, 0.1, h))\n",
    "\n",
    "#analytic function\n",
    "def fin(function, x0, h):\n",
    "    result = (function(x0 + h) - function(x0 - h))/2*h\n",
    "    return result\n",
    "print(fin(np.sin, 0.1,h))"
   ]
  },
  {
   "cell_type": "code",
   "execution_count": 3,
   "metadata": {},
   "outputs": [
    {
     "data": {
      "image/png": "[encoded data removed]",
      "text/plain": [
       "<Figure size 432x288 with 1 Axes>"
      ]
     },
     "metadata": {},
     "output_type": "display_data"
    },
    {
     "data": {
      "text/plain": [
       "'I know that the plot i created is not correct although i can see that \\nthe two lines tend to diverge for larger values of h. I believe the slope represents the \\nmargin of error between the 2 methods.'"
      ]
     },
     "execution_count": 3,
     "metadata": {},
     "output_type": "execute_result"
    }
   ],
   "source": [
    "import matplotlib\n",
    "import matplotlib.pyplot as plt\n",
    "from scipy import special\n",
    "\n",
    "#numerical deriv\n",
    "num = abs(fin(np.sin, 0.1, h) - inif(np.sin, 0.1, h))/inif(np.sin, 0.1, h)\n",
    "#print(num)\n",
    "\n",
    "#analytic deriv\n",
    "ana = abs(inif(np.sin, 0.1, h) - fin(np.sin, 0.1, h))/fin(np.sin, 0.1, h)\n",
    "#print(ana)\n",
    "\n",
    "num_error = special.erf(num)\n",
    "ana_error = special.erf(ana)\n",
    "plt.loglog(h, num_error)\n",
    "plt.loglog(h, ana_error)\n",
    "#plt.ylim([0.1, 0.12])\n",
    "#plt.xlim([0.16,0.2])\n",
    "plt.show()\n",
    "\n",
    "\"\"\"I know that the plot i created is not correct although i can see that \n",
    "the two lines tend to diverge for larger values of h. I believe the slope represents the \n",
    "margin of error between the 2 methods.\"\"\""
   ]
  },
  {
   "cell_type": "code",
   "execution_count": 66,
   "metadata": {},
   "outputs": [],
   "source": [
    "z = 0\n",
    "b = 0.4\n",
    "w = complex(b,b)\n",
    "\n",
    "a = 1/np.sqrt(2)\n",
    "c = complex(a,a)*0.2\n",
    "\n",
    "def converge(c_val, z=0, it=100, B=20000):\n",
    "    c_val = complex(*c_val)\n",
    "    for i in range(it):\n",
    "        z = z*z + c_val\n",
    "        if abs(z) > B: return 1\n",
    "    return 0\n",
    "\n",
    "# try c_val instead of c to make one function instead of 2\n",
    "\n",
    "#for i in range(100):\n",
    "#    z = z*z + w\n",
    "#    return z\n"
   ]
  },
  {
   "cell_type": "code",
   "execution_count": 54,
   "metadata": {},
   "outputs": [],
   "source": [
    "xmin, xmax = -2, 2\n",
    "ymin, ymax = -2, 2\n",
    "\n",
    "xx, yy = np.meshgrid(np.linspace(xmin, xmax, res), np.linspace(ymin, ymax))"
   ]
  },
  {
   "cell_type": "code",
   "execution_count": 55,
   "metadata": {},
   "outputs": [],
   "source": [
    "np.set_printoptions(2)"
   ]
  },
  {
   "cell_type": "code",
   "execution_count": 56,
   "metadata": {},
   "outputs": [
    {
     "data": {
      "text/plain": [
       "array([[-2.  , -1.98, -1.96, ...,  1.96,  1.98,  2.  ],\n",
       "       [-2.  , -1.98, -1.96, ...,  1.96,  1.98,  2.  ],\n",
       "       [-2.  , -1.98, -1.96, ...,  1.96,  1.98,  2.  ],\n",
       "       ...,\n",
       "       [-2.  , -1.98, -1.96, ...,  1.96,  1.98,  2.  ],\n",
       "       [-2.  , -1.98, -1.96, ...,  1.96,  1.98,  2.  ],\n",
       "       [-2.  , -1.98, -1.96, ...,  1.96,  1.98,  2.  ]])"
      ]
     },
     "execution_count": 56,
     "metadata": {},
     "output_type": "execute_result"
    }
   ],
   "source": [
    "xx"
   ]
  },
  {
   "cell_type": "code",
   "execution_count": 68,
   "metadata": {},
   "outputs": [],
   "source": [
    "points = np.c_[xx.ravel(), yy.ravel()]\n",
    "\n",
    "mandelbrot = [converge(c_val) for c_val in points]"
   ]
  },
  {
   "cell_type": "code",
   "execution_count": 88,
   "metadata": {},
   "outputs": [
    {
     "data": {
      "text/plain": [
       "<matplotlib.image.AxesImage at 0x7fd5890321d0>"
      ]
     },
     "execution_count": 88,
     "metadata": {},
     "output_type": "execute_result"
    },
    {
     "data": {
      "image/png": "[encoded data removed]",
      "text/plain": [
       "<Figure size 432x288 with 1 Axes>"
      ]
     },
     "metadata": {},
     "output_type": "display_data"
    }
   ],
   "source": [
    "mandelbrot = np.array(mandelbrot).reshape(100,100)\n",
    "plt.imshow(mandelbrot)"
   ]
  },
  {
   "cell_type": "code",
   "execution_count": 80,
   "metadata": {},
   "outputs": [
    {
     "data": {
      "text/plain": [
       "<matplotlib.contour.QuadContourSet at 0x7fd522124438>"
      ]
     },
     "execution_count": 80,
     "metadata": {},
     "output_type": "execute_result"
    },
    {
     "data": {
      "image/png": "[encoded data removed]",
      "text/plain": [
       "<Figure size 432x288 with 1 Axes>"
      ]
     },
     "metadata": {},
     "output_type": "display_data"
    }
   ],
   "source": [
    "plt.contourf(mandelbrot)"
   ]
  },
  {
   "cell_type": "code",
   "execution_count": 61,
   "metadata": {},
   "outputs": [
    {
     "data": {
      "text/plain": [
       "0"
      ]
     },
     "execution_count": 61,
     "metadata": {},
     "output_type": "execute_result"
    }
   ],
   "source": [
    "converge(c)"
   ]
  },
  {
   "cell_type": "code",
   "execution_count": 31,
   "metadata": {},
   "outputs": [
    {
     "name": "stdout",
     "output_type": "stream",
     "text": [
      "(0.1414213562373095+0.1414213562373095j) (0.4+0.4j)\n"
     ]
    }
   ],
   "source": [
    "print(c, w)"
   ]
  }
 ],
 "metadata": {
  "kernelspec": {
   "display_name": "Python 3",
   "language": "python",
   "name": "python3"
  },
  "language_info": {
   "codemirror_mode": {
    "name": "ipython",
    "version": 3
   },
   "file_extension": ".py",
   "mimetype": "text/x-python",
   "name": "python",
   "nbconvert_exporter": "python",
   "pygments_lexer": "ipython3",
   "version": "3.6.4"
  }
 },
 "nbformat": 4,
 "nbformat_minor": 1
}
