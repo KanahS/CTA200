{
 "cells": [
  {
   "cell_type": "code",
   "execution_count": 2,
   "metadata": {},
   "outputs": [
    {
     "name": "stdout",
     "output_type": "stream",
     "text": [
      "[ 0.99495408  0.98827605  0.9783183   0.96513552  0.94880166  0.9294094\n",
      "  0.90706954  0.88191016  0.85407579  0.82372636]\n",
      "[  9.95003999e-07   1.01327895e-02   3.99290285e-02   8.87932702e-02\n",
      "   1.55744044e-01   2.39429587e-01   3.38148169e-01   4.49873748e-01\n",
      "   5.72286599e-01   7.02808519e-01]\n"
     ]
    }
   ],
   "source": [
    "#Question 1\n",
    "\n",
    "import numpy as np\n",
    "import math\n",
    "\n",
    "h = np.arange(1.e-3, 1, 0.1)\n",
    "\n",
    "#numerical function\n",
    "def inif(function, x0, h):\n",
    "    result = (function(x0 + h) - function(x0))/h\n",
    "    return result\n",
    "\n",
    "print(inif(np.sin, 0.1, h))\n",
    "\n",
    "#analytic function\n",
    "def fin(function, x0, h):\n",
    "    result = (function(x0 + h) - function(x0 - h))/2*h\n",
    "    return result\n",
    "print(fin(np.sin, 0.1,h))"
   ]
  },
  {
   "cell_type": "code",
   "execution_count": 6,
   "metadata": {},
   "outputs": [
    {
     "ename": "SyntaxError",
     "evalue": "invalid syntax (<ipython-input-6-b497b0595942>, line 2)",
     "output_type": "error",
     "traceback": [
      "\u001b[1;36m  File \u001b[1;32m\"<ipython-input-6-b497b0595942>\"\u001b[1;36m, line \u001b[1;32m2\u001b[0m\n\u001b[1;33m    %%inline\u001b[0m\n\u001b[1;37m    ^\u001b[0m\n\u001b[1;31mSyntaxError\u001b[0m\u001b[1;31m:\u001b[0m invalid syntax\n"
     ]
    }
   ],
   "source": [
    "import matplotlib.pyplot as plt\n",
    "%%inline\n",
    "from scipy import special\n",
    "\n",
    "#numerical deriv\n",
    "num = abs(fin(np.sin, 0.1, h) - inif(np.sin, 0.1, h))/inif(np.sin, 0.1, h)\n",
    "#print(num)\n",
    "\n",
    "#analytic deriv\n",
    "ana = abs(inif(np.sin, 0.1, h) - fin(np.sin, 0.1, h))/fin(np.sin, 0.1, h)\n",
    "#print(ana)\n",
    "\n",
    "num_error = special.erf(num)\n",
    "ana_error = special.erf(ana)\n",
    "plt.loglog(h, num_error)\n",
    "plt.loglog(h, ana_error)\n",
    "#plt.ylim([0.1, 0.12])\n",
    "#plt.xlim([0.16,0.2])\n",
    "plt.show()\n",
    "\n",
    "\"\"\"I know that the plot i created is not correct although i can see that \n",
    "the two lines tend to diverge for larger values of h. I believe the slope represents the \n",
    "margin of error between the 2 methods.\"\"\""
   ]
  },
  {
   "cell_type": "code",
   "execution_count": 53,
   "metadata": {},
   "outputs": [
    {
     "ename": "TypeError",
     "evalue": "'module' object is not callable",
     "output_type": "error",
     "traceback": [
      "\u001b[1;31m---------------------------------------------------------------------------\u001b[0m",
      "\u001b[1;31mTypeError\u001b[0m                                 Traceback (most recent call last)",
      "\u001b[1;32m<ipython-input-53-6f051ba48ab5>\u001b[0m in \u001b[0;36m<module>\u001b[1;34m()\u001b[0m\n\u001b[0;32m      1\u001b[0m \u001b[0ma\u001b[0m \u001b[1;33m=\u001b[0m \u001b[1;36m1\u001b[0m\u001b[1;33m/\u001b[0m\u001b[0mnp\u001b[0m\u001b[1;33m.\u001b[0m\u001b[0msqrt\u001b[0m\u001b[1;33m(\u001b[0m\u001b[1;36m2\u001b[0m\u001b[1;33m)\u001b[0m\u001b[1;33m\u001b[0m\u001b[0m\n\u001b[1;32m----> 2\u001b[1;33m \u001b[0ma\u001b[0m \u001b[1;33m=\u001b[0m \u001b[1;36m4\u001b[0m\u001b[1;33m*\u001b[0m\u001b[0mnp\u001b[0m\u001b[1;33m.\u001b[0m\u001b[0mrandom\u001b[0m\u001b[1;33m(\u001b[0m\u001b[1;33m)\u001b[0m \u001b[1;33m-\u001b[0m \u001b[1;36m2\u001b[0m\u001b[1;33m\u001b[0m\u001b[0m\n\u001b[0m\u001b[0;32m      3\u001b[0m \u001b[0mc\u001b[0m \u001b[1;33m=\u001b[0m \u001b[0mcomplex\u001b[0m\u001b[1;33m(\u001b[0m\u001b[0ma\u001b[0m\u001b[1;33m,\u001b[0m\u001b[0ma\u001b[0m\u001b[1;33m)\u001b[0m\u001b[1;33m*\u001b[0m\u001b[1;36m0.2\u001b[0m\u001b[1;33m\u001b[0m\u001b[0m\n\u001b[0;32m      4\u001b[0m \u001b[0mz\u001b[0m \u001b[1;33m=\u001b[0m \u001b[1;36m0\u001b[0m\u001b[1;33m\u001b[0m\u001b[0m\n",
      "\u001b[1;31mTypeError\u001b[0m: 'module' object is not callable"
     ]
    }
   ],
   "source": [
    "a = 1/np.sqrt(2)\n",
    "a = 4*np.random() - 2\n",
    "c = complex(a,a)*0.2\n",
    "z = 0"
   ]
  },
  {
   "cell_type": "code",
   "execution_count": 49,
   "metadata": {},
   "outputs": [
    {
     "data": {
      "text/plain": [
       "(0.1414213562373095+0.1414213562373095j)"
      ]
     },
     "execution_count": 49,
     "metadata": {},
     "output_type": "execute_result"
    }
   ],
   "source": [
    "c"
   ]
  },
  {
   "cell_type": "code",
   "execution_count": 50,
   "metadata": {},
   "outputs": [
    {
     "name": "stdout",
     "output_type": "stream",
     "text": [
      "(0.141421356237+0.141421356237j)\n",
      "(0.141421356237+0.181421356237j)\n",
      "(0.128507647738+0.192735064736j)\n",
      "(0.120788766586+0.190957215849j)\n",
      "(0.119546624086+0.187552329383j)\n",
      "(0.12053687531+0.186263851872j)\n",
      "(0.121256272033+0.186324681613j)\n",
      "(0.121407552766+0.186607428798j)\n",
      "(0.121338817624+0.186732458754j)\n",
      "(0.121275453747+0.186737147752j)\n",
      "(0.121258329569+0.186714620887j)\n",
      "(0.121262589074+0.186702762307j)\n",
      "(0.121268050293+0.186701476927j)\n",
      "(0.121269854773+0.186703204425j)\n",
      "(0.121269647371+0.18670429721j)\n",
      "(0.121269189014+0.186704484808j)\n",
      "(0.121269007794+0.186704359153j)\n",
      "(0.121269010762+0.186704261008j)\n",
      "(0.12126904813+0.186704238312j)\n",
      "(0.121269065668+0.186704246761j)\n",
      "(0.121269066767+0.186704255359j)\n",
      "(0.121269063823+0.186704257855j)\n",
      "(0.121269062177+0.186704257361j)\n",
      "(0.121269061962+0.186704256626j)\n",
      "(0.121269062184+0.186704256368j)\n",
      "(0.121269062334+0.186704256388j)\n",
      "(0.121269062363+0.186704256449j)\n",
      "(0.121269062347+0.186704256475j)\n",
      "(0.121269062334+0.186704256475j)\n",
      "(0.121269062331+0.18670425647j)\n",
      "(0.121269062332+0.186704256468j)\n",
      "(0.121269062333+0.186704256468j)\n",
      "(0.121269062333+0.186704256468j)\n",
      "(0.121269062333+0.186704256468j)\n",
      "(0.121269062333+0.186704256468j)\n",
      "(0.121269062333+0.186704256468j)\n",
      "(0.121269062333+0.186704256468j)\n",
      "(0.121269062333+0.186704256468j)\n",
      "(0.121269062333+0.186704256468j)\n",
      "(0.121269062333+0.186704256468j)\n",
      "(0.121269062333+0.186704256468j)\n",
      "(0.121269062333+0.186704256468j)\n",
      "(0.121269062333+0.186704256468j)\n",
      "(0.121269062333+0.186704256468j)\n",
      "(0.121269062333+0.186704256468j)\n",
      "(0.121269062333+0.186704256468j)\n",
      "(0.121269062333+0.186704256468j)\n",
      "(0.121269062333+0.186704256468j)\n",
      "(0.121269062333+0.186704256468j)\n",
      "(0.121269062333+0.186704256468j)\n",
      "(0.121269062333+0.186704256468j)\n",
      "(0.121269062333+0.186704256468j)\n",
      "(0.121269062333+0.186704256468j)\n",
      "(0.121269062333+0.186704256468j)\n",
      "(0.121269062333+0.186704256468j)\n",
      "(0.121269062333+0.186704256468j)\n",
      "(0.121269062333+0.186704256468j)\n",
      "(0.121269062333+0.186704256468j)\n",
      "(0.121269062333+0.186704256468j)\n",
      "(0.121269062333+0.186704256468j)\n",
      "(0.121269062333+0.186704256468j)\n",
      "(0.121269062333+0.186704256468j)\n",
      "(0.121269062333+0.186704256468j)\n",
      "(0.121269062333+0.186704256468j)\n",
      "(0.121269062333+0.186704256468j)\n",
      "(0.121269062333+0.186704256468j)\n",
      "(0.121269062333+0.186704256468j)\n",
      "(0.121269062333+0.186704256468j)\n",
      "(0.121269062333+0.186704256468j)\n",
      "(0.121269062333+0.186704256468j)\n",
      "(0.121269062333+0.186704256468j)\n",
      "(0.121269062333+0.186704256468j)\n",
      "(0.121269062333+0.186704256468j)\n",
      "(0.121269062333+0.186704256468j)\n",
      "(0.121269062333+0.186704256468j)\n",
      "(0.121269062333+0.186704256468j)\n",
      "(0.121269062333+0.186704256468j)\n",
      "(0.121269062333+0.186704256468j)\n",
      "(0.121269062333+0.186704256468j)\n",
      "(0.121269062333+0.186704256468j)\n",
      "(0.121269062333+0.186704256468j)\n",
      "(0.121269062333+0.186704256468j)\n",
      "(0.121269062333+0.186704256468j)\n",
      "(0.121269062333+0.186704256468j)\n",
      "(0.121269062333+0.186704256468j)\n",
      "(0.121269062333+0.186704256468j)\n",
      "(0.121269062333+0.186704256468j)\n",
      "(0.121269062333+0.186704256468j)\n",
      "(0.121269062333+0.186704256468j)\n",
      "(0.121269062333+0.186704256468j)\n",
      "(0.121269062333+0.186704256468j)\n",
      "(0.121269062333+0.186704256468j)\n",
      "(0.121269062333+0.186704256468j)\n",
      "(0.121269062333+0.186704256468j)\n",
      "(0.121269062333+0.186704256468j)\n",
      "(0.121269062333+0.186704256468j)\n",
      "(0.121269062333+0.186704256468j)\n",
      "(0.121269062333+0.186704256468j)\n",
      "(0.121269062333+0.186704256468j)\n",
      "(0.121269062333+0.186704256468j)\n"
     ]
    }
   ],
   "source": [
    "for i in range(100):\n",
    "    z = z*z + c\n",
    "    print(z)"
   ]
  },
  {
   "cell_type": "code",
   "execution_count": 9,
   "metadata": {},
   "outputs": [
    {
     "name": "stdout",
     "output_type": "stream",
     "text": [
      "(1+2j)\n"
     ]
    }
   ],
   "source": [
    "print(c)"
   ]
  },
  {
   "cell_type": "code",
   "execution_count": 10,
   "metadata": {},
   "outputs": [
    {
     "data": {
      "text/plain": [
       "(-3+4j)"
      ]
     },
     "execution_count": 10,
     "metadata": {},
     "output_type": "execute_result"
    }
   ],
   "source": [
    "c*c"
   ]
  },
  {
   "cell_type": "code",
   "execution_count": 11,
   "metadata": {},
   "outputs": [
    {
     "data": {
      "text/plain": [
       "(2+4j)"
      ]
     },
     "execution_count": 11,
     "metadata": {},
     "output_type": "execute_result"
    }
   ],
   "source": [
    "c + c"
   ]
  },
  {
   "cell_type": "code",
   "execution_count": 12,
   "metadata": {},
   "outputs": [
    {
     "data": {
      "text/plain": [
       "(3+6j)"
      ]
     },
     "execution_count": 12,
     "metadata": {},
     "output_type": "execute_result"
    }
   ],
   "source": [
    "3*c"
   ]
  },
  {
   "cell_type": "code",
   "execution_count": 13,
   "metadata": {},
   "outputs": [
    {
     "data": {
      "text/plain": [
       "(-2+1j)"
      ]
     },
     "execution_count": 13,
     "metadata": {},
     "output_type": "execute_result"
    }
   ],
   "source": [
    "1j*c"
   ]
  },
  {
   "cell_type": "code",
   "execution_count": 15,
   "metadata": {},
   "outputs": [
    {
     "data": {
      "text/plain": [
       "(-11-2j)"
      ]
     },
     "execution_count": 15,
     "metadata": {},
     "output_type": "execute_result"
    }
   ],
   "source": [
    "c*c*c"
   ]
  },
  {
   "cell_type": "code",
   "execution_count": null,
   "metadata": {
    "collapsed": true
   },
   "outputs": [],
   "source": []
  }
 ],
 "metadata": {
  "kernelspec": {
   "display_name": "Python 3",
   "language": "python",
   "name": "python3"
  },
  "language_info": {
   "codemirror_mode": {
    "name": "ipython",
    "version": 3
   },
   "file_extension": ".py",
   "mimetype": "text/x-python",
   "name": "python",
   "nbconvert_exporter": "python",
   "pygments_lexer": "ipython3",
   "version": "3.6.4"
  }
 },
 "nbformat": 4,
 "nbformat_minor": 1
}
