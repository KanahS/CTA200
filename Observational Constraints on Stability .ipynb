{
 "cells": [
  {
   "cell_type": "code",
   "execution_count": 1,
   "metadata": {},
   "outputs": [],
   "source": [
    "import numpy as np\n",
    "import matplotlib.pyplot as plt\n",
    "import emcee "
   ]
  },
  {
   "cell_type": "code",
   "execution_count": 2,
   "metadata": {},
   "outputs": [],
   "source": [
    "a_b = np.array([0.0043, 0.2243, 0.1276, 0.228,\n",
    "               0.1762, 0.147, 0.1015, 0.0041,\n",
    "               0.1848, 0.0836, 0.0836, 0.0836,\n",
    "               0.12])\n",
    "a_p = np.array([0.0088, 0.7048, 2.72, 1.0896,\n",
    "               0.6035, 0.4644, 0.353, 0.92,\n",
    "               0.7903, 0.2956, 1, 0.6992, 0.4])"
   ]
  },
  {
   "cell_type": "code",
   "execution_count": 9,
   "metadata": {},
   "outputs": [
    {
     "data": {
      "text/plain": [
       "[<matplotlib.lines.Line2D at 0x7fc2e1cb2280>]"
      ]
     },
     "execution_count": 9,
     "metadata": {},
     "output_type": "execute_result"
    },
    {
     "data": {
      "image/png": "[encoded data removed]",
      "text/plain": [
       "<Figure size 432x288 with 1 Axes>"
      ]
     },
     "metadata": {
      "needs_background": "light"
     },
     "output_type": "display_data"
    }
   ],
   "source": [
    "plt.figure()\n",
    "plt.title('Circumbinary Data')\n",
    "plt.xlabel('Binary Semi-Major Axis (ab)')\n",
    "plt.ylabel('Planetary Semi-Major Axis (ap)')\n",
    "plt.scatter(a_b, a_p, color='teal')\n",
    "\n",
    "# plot the line a_p = 2a_b\n",
    "plt.plot(a_b, 2*a_b, color='green')"
   ]
  },
  {
   "cell_type": "code",
   "execution_count": 3,
   "metadata": {},
   "outputs": [
    {
     "data": {
      "text/plain": [
       "' Yes there seems to be a pile-up of circumbinary planets\\naround a_p = 2a_b'"
      ]
     },
     "execution_count": 3,
     "metadata": {},
     "output_type": "execute_result"
    }
   ],
   "source": [
    "\"\"\" Yes there seems to be a pile-up of circumbinary planets\n",
    "around a_p = 2a_b\"\"\""
   ]
  },
  {
   "cell_type": "code",
   "execution_count": 10,
   "metadata": {},
   "outputs": [],
   "source": [
    "a_i = a_p/a_b\n",
    "a_c = 2*a_b"
   ]
  },
  {
   "cell_type": "code",
   "execution_count": 9,
   "metadata": {},
   "outputs": [],
   "source": [
    "\"\"\" Question 3\"\"\"\n",
    "\n",
    "#def log_prior(a_c):\n",
    "#    if 1 < a_c <= 5:\n",
    "#        return 0\n",
    "#    return -np.inf\n",
    "\n",
    "#def log_likelihood(a_i, a_c):\n",
    "#    if a_i >= a_c:\n",
    "#        return 0\n",
    "#    return -np.inf\n",
    "\n",
    "#def log_probability(a_i, a_c):\n",
    "    \n",
    "#    lp = log_prior(a_c)\n",
    "#    ll = log_likelihood(a_i, a_c)\n",
    "    \n",
    "#    if not np.isfinite(lp):\n",
    "#        return -np.inf\n",
    "#    return lp * ll"
   ]
  },
  {
   "cell_type": "code",
   "execution_count": 11,
   "metadata": {},
   "outputs": [],
   "source": [
    "def log_prior(a_c):\n",
    "    array = []\n",
    "    for num in a_c:\n",
    "        if 1 < num <= 5:\n",
    "            array.append(0)\n",
    "        array.append(-np.inf)\n",
    "    return array"
   ]
  },
  {
   "cell_type": "code",
   "execution_count": 12,
   "metadata": {
    "scrolled": true
   },
   "outputs": [
    {
     "data": {
      "text/plain": [
       "[-inf, -inf, -inf, -inf, -inf, -inf, -inf, -inf, -inf, -inf, -inf, -inf, -inf]"
      ]
     },
     "execution_count": 12,
     "metadata": {},
     "output_type": "execute_result"
    }
   ],
   "source": [
    "log_prior(a_c)"
   ]
  },
  {
   "cell_type": "code",
   "execution_count": 13,
   "metadata": {},
   "outputs": [],
   "source": [
    "def log_likelihood(a_c, a_i):\n",
    "    array = []\n",
    "    for flt, num in zip(a_c, a_i):\n",
    "        if num >= flt:\n",
    "            array.append(0)\n",
    "        else:\n",
    "            array.append(-np.inf)\n",
    "    return array"
   ]
  },
  {
   "cell_type": "code",
   "execution_count": 14,
   "metadata": {},
   "outputs": [
    {
     "data": {
      "text/plain": [
       "[0, 0, 0, 0, 0, 0, 0, 0, 0, 0, 0, 0, 0]"
      ]
     },
     "execution_count": 14,
     "metadata": {},
     "output_type": "execute_result"
    }
   ],
   "source": [
    "log_likelihood(a_c, a_i)"
   ]
  },
  {
   "cell_type": "code",
   "execution_count": 15,
   "metadata": {},
   "outputs": [],
   "source": [
    "def log_probability(a_c, a_i):\n",
    "    p_array = []\n",
    "    lp = log_prior(a_c)\n",
    "    ll = log_likelihood(a_c, a_i)\n",
    "\n",
    "    for p,l in zip(lp,ll):\n",
    "        if np.isfinite(lp) is False:\n",
    "            p_array.append(-np.inf)\n",
    "        p_array.append(p + l)\n",
    "    return p_array"
   ]
  },
  {
   "cell_type": "code",
   "execution_count": 16,
   "metadata": {},
   "outputs": [
    {
     "data": {
      "text/plain": [
       "[-inf, -inf, -inf, -inf, -inf, -inf, -inf, -inf, -inf, -inf, -inf, -inf, -inf]"
      ]
     },
     "execution_count": 16,
     "metadata": {},
     "output_type": "execute_result"
    }
   ],
   "source": [
    "log_probability(a_c, a_i)"
   ]
  },
  {
   "cell_type": "code",
   "execution_count": 41,
   "metadata": {},
   "outputs": [],
   "source": [
    "ac_in = 2.0\n",
    "pos = ac_in + 1e-4 * np.random.randn(32,1)\n",
    "nwalkers, ndim = pos.shape"
   ]
  },
  {
   "cell_type": "code",
   "execution_count": 42,
   "metadata": {
    "scrolled": true
   },
   "outputs": [
    {
     "name": "stderr",
     "output_type": "stream",
     "text": [
      "100%|██████████| 5000/5000 [00:10<00:00, 483.84it/s]\n"
     ]
    },
    {
     "data": {
      "text/plain": [
       "State([[2.01809591]\n",
       " [1.33796107]\n",
       " [1.78239636]\n",
       " [1.57447651]\n",
       " [1.88149674]\n",
       " [1.84684759]\n",
       " [1.3148519 ]\n",
       " [1.81627153]\n",
       " [1.82272317]\n",
       " [1.74370475]\n",
       " [1.49130464]\n",
       " [1.6177753 ]\n",
       " [1.6700541 ]\n",
       " [1.41498752]\n",
       " [1.68293896]\n",
       " [1.39324487]\n",
       " [1.39020794]\n",
       " [1.32707641]\n",
       " [1.99760061]\n",
       " [1.724732  ]\n",
       " [1.67348693]\n",
       " [1.0627694 ]\n",
       " [1.73467158]\n",
       " [1.02198346]\n",
       " [1.53009222]\n",
       " [1.17464977]\n",
       " [1.31577351]\n",
       " [1.44463019]\n",
       " [1.99408753]\n",
       " [1.80219087]\n",
       " [1.40975022]\n",
       " [1.19380765]], log_prob=[0. 0. 0. 0. 0. 0. 0. 0. 0. 0. 0. 0. 0. 0. 0. 0. 0. 0. 0. 0. 0. 0. 0. 0.\n",
       " 0. 0. 0. 0. 0. 0. 0. 0.], blobs=[], random_state=('MT19937', array([3498880544,   71250290,  778154610, 2239391325,  576587991,\n",
       "       2607825360, 1427747620, 4251988635,  293901739, 2272046028,\n",
       "       1287591771, 2036007956, 2215199687, 3020288397, 2134342937,\n",
       "       4216256630, 1141957111, 2771909504, 2464693995, 1731665889,\n",
       "       2207229457, 3009251983, 1251679165, 1085149442, 3704461720,\n",
       "       1362632378, 2259645148, 3129098928, 2138968192, 1299685222,\n",
       "        376494673, 1123112386, 1676949972, 2142163506, 1606377871,\n",
       "       1819164545, 3380112179,  509901175,  694974277, 1866071395,\n",
       "       2786032435, 1222147241, 1454577487, 2028354723, 1037247952,\n",
       "       1147997710,  407189419, 3267372236,  924472232, 2488493763,\n",
       "       3541847630, 2290257396,  259228687,  867107883, 2151664061,\n",
       "       3310072157, 4203937721, 1514314439, 2403723816, 1401276840,\n",
       "       1695697854, 4134024324, 2649077808, 3387034397,  632824745,\n",
       "       3591422279, 1480019914,  664795417, 2269996208, 2683832966,\n",
       "       3926943897, 4169730976, 3227501969, 4246457195, 1134782272,\n",
       "       3088700346,  504139437, 2151533214, 1277819615, 3706703314,\n",
       "       2561421926,  180496510, 1824518150, 4219669056, 2761600517,\n",
       "        673797669, 3096378676, 2240993696, 4041118142,  975982374,\n",
       "       3489159648,  529151913, 4142564916, 2459589551, 2834928769,\n",
       "       2643587192,  203131439, 3553081722, 2725775151, 2090288293,\n",
       "       1833345372,  243502697, 3128900702, 2426871093, 3243133489,\n",
       "       3762021481,  525590744,  739640555,  767347277, 3892179384,\n",
       "       3293861983, 3889186560, 1970841543,  324039716, 3074028831,\n",
       "       3608669331,  307520119,  745985821, 4281395582, 2608399119,\n",
       "       3478729627, 2968799437, 1744446824, 1386864316, 1390018633,\n",
       "       2605383728, 2409622413, 4085105495,  587136986, 1201790236,\n",
       "       3307976652, 2071927917,  828418863,  929096705, 2341653783,\n",
       "       2980939299, 1354496963, 1247689023, 2887097590,  572371435,\n",
       "       1356853980, 3517192570, 4135384633, 4068423093, 1556875037,\n",
       "        193941157, 2980770081, 1223223782,  850548196, 1870363991,\n",
       "       3426752984, 3177589579,  580887823, 2552889974,  447420769,\n",
       "       1806838759,  167834206, 1722280046, 2679924253, 3831056729,\n",
       "       3057068405, 1794969886, 3995477684, 2642614311, 3098950778,\n",
       "       1589706375, 1304157413, 4117891388, 2811581845, 2045309005,\n",
       "       2195318711,  666255691,  368262659, 2043930394, 3922238397,\n",
       "        713738701,  104296394, 3879129633,  725149077, 2169028063,\n",
       "       1230642715, 1894413193,  976024730, 2633874091,  286288662,\n",
       "       1389952830,  288523783, 3180738849,  884546785,  418132587,\n",
       "       3526433983, 1336259980,  519038036, 1393518634, 3560156105,\n",
       "       1019761544, 3334951025, 1445699265, 3876366834, 1382162605,\n",
       "        777517725, 3264650921, 3381905980, 2997600093, 2784345226,\n",
       "       3102681874,  148810637,  304797520,  819881475, 2083719519,\n",
       "       2179572185, 2515039963, 1724172516, 1711340857, 3806777500,\n",
       "       3004339821, 3205254731, 4186939079, 2764061714, 3492715129,\n",
       "       2218269093,   13203588, 3731294644, 2601277922,  434168197,\n",
       "       3326951484, 2126436508, 2126842356, 1188909128, 2098299020,\n",
       "       3001528772, 3369222539,  268322751, 2803305385, 1929564133,\n",
       "       2473963382, 1232093076, 3675502006, 3956643763, 1183282828,\n",
       "       1472006062,   35739295, 1920250591,  256798994,  508773809,\n",
       "        597104715, 2444824094, 1488942147, 3107804304, 3908851751,\n",
       "        732608309, 2760721883,  243912956, 1774583489, 2976589042,\n",
       "       3674544180, 4062172107, 3061014246,  817130104,    9425927,\n",
       "        900287916, 1598725144,  946956375, 3651593842, 2683253778,\n",
       "       3581476959, 2963328136, 3486060051,  667381441, 4108855166,\n",
       "       3556864485,  641388395, 1041472734, 1518270265, 3169218246,\n",
       "       1231451123, 3662719646, 1435400613, 2263558044, 3077023674,\n",
       "        349846579, 2179740647, 3660704117, 2001494757, 3186055501,\n",
       "       3630692709, 3724672686, 3913272677, 1961552045, 3779650272,\n",
       "       3613511361, 1647597754, 3960466042,  696805852, 2983034326,\n",
       "        707670453,  248123161, 2601696235, 2028875049,  319126370,\n",
       "       1702414344, 1124420334, 1557568861, 4212698607, 1479991936,\n",
       "       1008954938, 3414394813, 2573432306, 1727013861, 3113960700,\n",
       "       4104884065,   92293903, 3320125920, 3967498463,  909832355,\n",
       "       3263693217,  605795651, 1767332919, 1499127647, 3027464073,\n",
       "         69135572,  217166524, 3241450000, 4077185543, 1944854773,\n",
       "        937487904, 3734676874, 3629959064,  388642625, 2019023352,\n",
       "       1187986301, 4283965239,  945640714,  887963253, 2903976214,\n",
       "       3778425053, 3857000822, 2068602943, 2067251019, 1834682522,\n",
       "       3405860362, 3856219789, 2276892091, 3275365980, 1376013148,\n",
       "       1281907348, 2153945734, 1216791443, 1984632741, 1651859906,\n",
       "       3988236153, 2443631622, 2719622177, 2897363673, 3913150581,\n",
       "       1541985489, 1813651321, 3738725299, 2687279453, 2373839087,\n",
       "       3126311926, 4231981387, 3778514156, 2123598236, 2873058356,\n",
       "       2512028864,  260062091, 4011686260, 3768503159,  329915970,\n",
       "       1073537036, 2305316877, 2824773343, 2185463326, 4157874429,\n",
       "       2162920556, 4118935150, 3661994747,  300817648, 3281820974,\n",
       "        326407283, 3355966795, 2054390425, 2210603274, 3462471255,\n",
       "        153059685,  275915116,  736460070, 2872978559, 4247905799,\n",
       "       1629053585, 1223623417,   78027415, 4272003074, 2650340503,\n",
       "       2731906565,  190092221, 3642127044, 3956001190, 2439947616,\n",
       "       4089552853, 2563072612, 2523872055, 2774230738,  567309571,\n",
       "       2424749502,  486507746,  281872480, 3578722363, 1090370108,\n",
       "       2402533947, 4085684625, 2153789582, 1843669527, 2184680916,\n",
       "        691836788, 2059454533, 3098466561, 1455231802, 3804391257,\n",
       "        778252402,  179359272, 4003542249, 3230530160, 1076080159,\n",
       "       4184550620, 2945524914,  297651051, 1428542061, 3726066798,\n",
       "        882106886, 3727485465, 3033392678, 3564481773, 1646250465,\n",
       "        654318691, 3833295886, 2268254039, 1421567287,  822228985,\n",
       "        835886609, 3928520947, 1931340826, 3120295982, 1636588996,\n",
       "       3129330037, 3273280549, 3753540206, 1707455012, 3108834280,\n",
       "       2556963669,  669580787, 4288981195, 2738492979, 2732743975,\n",
       "       3535112880, 1991233674, 3329516814, 2739148396, 2128024039,\n",
       "       2794386595, 3458328634,  287539712, 1133769290,  917381057,\n",
       "        265700217, 1036316086, 1864892735,  985549261, 4184054674,\n",
       "       1328250599, 3738112535, 2494574583, 2384236400,  780360420,\n",
       "       2067304712, 1255734013, 1107027993, 3576763378, 1198529628,\n",
       "       2970547061, 1539515194, 3508502093,  190975207, 2004230718,\n",
       "       2226723999,  529629061,  314939646, 2375155000, 4122993503,\n",
       "       3417008430,  265267916, 2266769979, 3412941196, 1634817247,\n",
       "       1025967037, 4095513787, 3347143577,  351233333, 1938280413,\n",
       "       4179924205,  708539043, 4010176793, 1362175918, 1621748937,\n",
       "       2133321916, 3172994499, 1821037602, 3975555359, 2267511897,\n",
       "        444321060, 2601739510, 2808173744, 1002442702, 1874713921,\n",
       "       2535264113, 3766313334, 2233525731, 3827108739,  491202893,\n",
       "       3190827992, 2938736440, 3304765292, 1204252674, 4136133282,\n",
       "        985728602, 3676743664, 1926517646, 3466030384, 4232547096,\n",
       "          5176039,  531542905, 4094974433, 2548336998, 2257604346,\n",
       "       2134643106, 1842006510,  904044021, 1202833738, 2183512046,\n",
       "       3910863872, 3071268016, 3368958321,  261604533, 3511635024,\n",
       "        666568565, 2346406870, 3072921070, 1668141887, 3664684500,\n",
       "       3354292600, 1231675943, 2850677839, 1024823310, 2275440289,\n",
       "       1898082337, 2542481283,  626392600, 1765403165, 2578388737,\n",
       "       1445726941,  355321852, 2412288626, 3025040908, 2683726681,\n",
       "       1915039301, 1613753800,  892103556, 4029310500, 1990114995,\n",
       "       3023169465, 3764439442,  781265987, 3794851156,  119089205,\n",
       "       2323363675, 4005929260, 3075768007, 1963926669, 2557924019,\n",
       "       3999046349, 1015132282, 1773662455, 4100336999, 2394553343,\n",
       "       3439439629, 3197479339, 3166144889, 3412942860, 3141596243,\n",
       "       3290523545, 3086771899, 1959524194,  322989451, 1583235137,\n",
       "       3980066794, 1662474628, 2179159146, 3279796566,  292401213,\n",
       "       2054165027, 3887869970, 3989259613, 2623963501,  316549952,\n",
       "       2079032383, 1382333909,  135480403, 2803243629, 2180281109,\n",
       "       3871497668, 3324321786, 2807356097, 3873769371,    3146312,\n",
       "       1885938935,  814608264, 1086071834, 4249886292,  893538618,\n",
       "       1739769744, 3427867992, 2906019146, 1662174381], dtype=uint32), 518, 0, 0.0))"
      ]
     },
     "execution_count": 42,
     "metadata": {},
     "output_type": "execute_result"
    }
   ],
   "source": [
    "sampler = emcee.EnsembleSampler(nwalkers, ndim, log_probability, args=(a_i,))\n",
    "sampler.run_mcmc(pos, 5000, progress=True)"
   ]
  },
  {
   "cell_type": "code",
   "execution_count": 43,
   "metadata": {
    "scrolled": false
   },
   "outputs": [
    {
     "data": {
      "text/plain": [
       "Text(0.5, 0, 'step number')"
      ]
     },
     "execution_count": 43,
     "metadata": {},
     "output_type": "execute_result"
    },
    {
     "data": {
      "image/png": "[encoded data removed]",
      "text/plain": [
       "<Figure size 720x504 with 2 Axes>"
      ]
     },
     "metadata": {
      "needs_background": "light"
     },
     "output_type": "display_data"
    }
   ],
   "source": [
    "fig, axes = plt.subplots(2,figsize=(10,7), sharex = True)\n",
    "samples = sampler.get_chain()\n",
    "label = [\"tac\"]\n",
    "\n",
    "for i in range(ndim):\n",
    "    ax = axes[i]\n",
    "    ax.plot(samples[:, :, i], \"k\", alpha=0.3)\n",
    "    ax.set_xlim(0, len(samples))\n",
    "    ax.set_ylabel(label[i])\n",
    "    ax.yaxis.set_label_coords(-0.1, 0.5)\n",
    "axes[-1].set_xlabel(\"step number\")"
   ]
  },
  {
   "cell_type": "code",
   "execution_count": 44,
   "metadata": {},
   "outputs": [
    {
     "name": "stdout",
     "output_type": "stream",
     "text": [
      "[26.66890665]\n"
     ]
    }
   ],
   "source": [
    "tau = sampler.get_autocorr_time()\n",
    "print(tau)"
   ]
  },
  {
   "cell_type": "code",
   "execution_count": 45,
   "metadata": {},
   "outputs": [
    {
     "name": "stdout",
     "output_type": "stream",
     "text": [
      "(12032, 1)\n"
     ]
    }
   ],
   "source": [
    "flat_samples = sampler.get_chain(discard=100, thin=13, flat=True)\n",
    "print(flat_samples.shape)"
   ]
  },
  {
   "cell_type": "code",
   "execution_count": 46,
   "metadata": {},
   "outputs": [],
   "source": [
    "import corner"
   ]
  },
  {
   "cell_type": "code",
   "execution_count": 47,
   "metadata": {},
   "outputs": [
    {
     "data": {
      "image/png": "[encoded data removed]",
      "text/plain": [
       "<Figure size 244.8x244.8 with 1 Axes>"
      ]
     },
     "metadata": {
      "needs_background": "light"
     },
     "output_type": "display_data"
    }
   ],
   "source": [
    "fig = corner.corner(flat_samples, labels=label, truths=[ac_in])"
   ]
  },
  {
   "cell_type": "code",
   "execution_count": 48,
   "metadata": {},
   "outputs": [],
   "source": [
    "from IPython.display import display, Math"
   ]
  },
  {
   "cell_type": "code",
   "execution_count": 49,
   "metadata": {},
   "outputs": [
    {
     "data": {
      "text/latex": [
       "$\\displaystyle \\mathrm{['tac']} = 1.797_{-0.263}^{0.200}$"
      ],
      "text/plain": [
       "<IPython.core.display.Math object>"
      ]
     },
     "metadata": {},
     "output_type": "display_data"
    }
   ],
   "source": [
    "for i in range(ndim):\n",
    "    mcmc = np.percentile(flat_samples[:, i], [50, 75, 95])\n",
    "    q = np.diff(mcmc)\n",
    "    txt = \"\\mathrm{{{3}}} = {0:.3f}_{{-{1:.3f}}}^{{{2:.3f}}}\"\n",
    "    txt = txt.format(mcmc[1], q[0], q[1], label)\n",
    "    display(Math(txt))"
   ]
  },
  {
   "cell_type": "code",
   "execution_count": 50,
   "metadata": {},
   "outputs": [
    {
     "data": {
      "text/plain": [
       "' ~a_c is constrained to 1.797 based on the above observations'"
      ]
     },
     "execution_count": 50,
     "metadata": {},
     "output_type": "execute_result"
    }
   ],
   "source": [
    "\"\"\" ~a_c is constrained to 1.797 based on the above observations\"\"\""
   ]
  },
  {
   "cell_type": "code",
   "execution_count": null,
   "metadata": {},
   "outputs": [],
   "source": []
  }
 ],
 "metadata": {
  "kernelspec": {
   "display_name": "Python 3",
   "language": "python",
   "name": "python3"
  },
  "language_info": {
   "codemirror_mode": {
    "name": "ipython",
    "version": 3
   },
   "file_extension": ".py",
   "mimetype": "text/x-python",
   "name": "python",
   "nbconvert_exporter": "python",
   "pygments_lexer": "ipython3",
   "version": "3.8.2"
  }
 },
 "nbformat": 4,
 "nbformat_minor": 4
}
