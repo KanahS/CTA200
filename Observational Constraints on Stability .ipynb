{
 "cells": [
  {
   "cell_type": "code",
   "execution_count": 1,
   "metadata": {},
   "outputs": [],
   "source": [
    "import numpy as np\n",
    "import matplotlib.pyplot as plt\n",
    "import emcee "
   ]
  },
  {
   "cell_type": "code",
   "execution_count": 2,
   "metadata": {},
   "outputs": [],
   "source": [
    "a_b = np.array([0.0043, 0.2243, 0.1276, 0.228,\n",
    "               0.1762, 0.147, 0.1015, 0.0041,\n",
    "               0.1848, 0.0836, 0.0836, 0.0836,\n",
    "               0.12])\n",
    "a_p = np.array([0.0088, 0.7048, 2.72, 1.0896,\n",
    "               0.6035, 0.4644, 0.353, 0.92,\n",
    "               0.7903, 0.2956, 1, 0.6992, 0.4])"
   ]
  },
  {
   "cell_type": "code",
   "execution_count": 2,
   "metadata": {},
   "outputs": [
    {
     "data": {
      "text/plain": [
       "[<matplotlib.lines.Line2D at 0x7f3c94803af0>]"
      ]
     },
     "execution_count": 2,
     "metadata": {},
     "output_type": "execute_result"
    },
    {
     "data": {
      "image/png": "[encoded data removed]",
      "text/plain": [
       "<Figure size 432x288 with 1 Axes>"
      ]
     },
     "metadata": {
      "needs_background": "light"
     },
     "output_type": "display_data"
    }
   ],
   "source": [
    "plt.figure()\n",
    "plt.title('Circumbinary Data')\n",
    "plt.xlabel('Binary Semi-Major Axis (ab)')\n",
    "plt.ylabel('Planetary Semi-Major Axis (ap)')\n",
    "plt.scatter(a_b, a_p, color='cyan')\n",
    "\n",
    "# plot the line a_p = 2a_b\n",
    "plt.plot(a_b, 2*a_b, color='orange')"
   ]
  },
  {
   "cell_type": "code",
   "execution_count": 3,
   "metadata": {},
   "outputs": [
    {
     "data": {
      "text/plain": [
       "' Yes there seems to be a pile-up of circumbinary planets\\naround a_p = 2a_b'"
      ]
     },
     "execution_count": 3,
     "metadata": {},
     "output_type": "execute_result"
    }
   ],
   "source": [
    "\"\"\" Yes there seems to be a pile-up of circumbinary planets\n",
    "around a_p = 2a_b\"\"\""
   ]
  },
  {
   "cell_type": "code",
   "execution_count": 3,
   "metadata": {},
   "outputs": [],
   "source": [
    "#ab = 0.0043\n",
    "#ap = 0.0088\n",
    "\n",
    "a_i = a_p/a_b\n",
    "a_c = 2*a_b"
   ]
  },
  {
   "cell_type": "code",
   "execution_count": 9,
   "metadata": {},
   "outputs": [],
   "source": [
    "\"\"\" Question 3\"\"\"\n",
    "\n",
    "#def log_prior(a_c):\n",
    "#    if 1 < a_c <= 5:\n",
    "#        return 0\n",
    "#    return -np.inf\n",
    "\n",
    "#def log_likelihood(a_i, a_c):\n",
    "#    if a_i >= a_c:\n",
    "#        return 0\n",
    "#    return -np.inf\n",
    "\n",
    "#def log_probability(a_i, a_c):\n",
    "    \n",
    "#    lp = log_prior(a_c)\n",
    "#    ll = log_likelihood(a_i, a_c)\n",
    "    \n",
    "#    if not np.isfinite(lp):\n",
    "#        return -np.inf\n",
    "#    return lp * ll"
   ]
  },
  {
   "cell_type": "code",
   "execution_count": 4,
   "metadata": {},
   "outputs": [],
   "source": [
    "def log_prior(a_c):\n",
    "    array = []\n",
    "    for num in a_c:\n",
    "        if 1 < num <= 5:\n",
    "            array.append(0)\n",
    "        array.append(-np.inf)\n",
    "    return array"
   ]
  },
  {
   "cell_type": "code",
   "execution_count": 5,
   "metadata": {
    "scrolled": true
   },
   "outputs": [
    {
     "data": {
      "text/plain": [
       "[-inf, -inf, -inf, -inf, -inf, -inf, -inf, -inf, -inf, -inf, -inf, -inf, -inf]"
      ]
     },
     "execution_count": 5,
     "metadata": {},
     "output_type": "execute_result"
    }
   ],
   "source": [
    "log_prior(a_c)"
   ]
  },
  {
   "cell_type": "code",
   "execution_count": 6,
   "metadata": {},
   "outputs": [],
   "source": [
    "def log_likelihood(a_c, a_i):\n",
    "    array = []\n",
    "    for flt, num in zip(a_c, a_i):\n",
    "        if num >= flt:\n",
    "            array.append(0)\n",
    "        else:\n",
    "            array.append(-np.inf)\n",
    "    return array"
   ]
  },
  {
   "cell_type": "code",
   "execution_count": 7,
   "metadata": {},
   "outputs": [
    {
     "data": {
      "text/plain": [
       "[0, 0, 0, 0, 0, 0, 0, 0, 0, 0, 0, 0, 0]"
      ]
     },
     "execution_count": 7,
     "metadata": {},
     "output_type": "execute_result"
    }
   ],
   "source": [
    "log_likelihood(a_c, a_i)"
   ]
  },
  {
   "cell_type": "code",
   "execution_count": 8,
   "metadata": {},
   "outputs": [],
   "source": [
    "def log_probability(a_c, a_i):\n",
    "    p_array = []\n",
    "    lp = log_prior(a_c)\n",
    "    ll = log_likelihood(a_c, a_i)\n",
    "\n",
    "    for p,l in zip(lp,ll):\n",
    "        if np.isfinite(lp) is False:\n",
    "            p_array.append(-np.inf)\n",
    "        p_array.append(p + l)\n",
    "    return p_array"
   ]
  },
  {
   "cell_type": "code",
   "execution_count": 9,
   "metadata": {},
   "outputs": [
    {
     "data": {
      "text/plain": [
       "[-inf, -inf, -inf, -inf, -inf, -inf, -inf, -inf, -inf, -inf, -inf, -inf, -inf]"
      ]
     },
     "execution_count": 9,
     "metadata": {},
     "output_type": "execute_result"
    }
   ],
   "source": [
    "log_probability(a_c, a_i)"
   ]
  },
  {
   "cell_type": "code",
   "execution_count": 10,
   "metadata": {},
   "outputs": [],
   "source": [
    "ac_in = 1.5\n",
    "pos = ac_in + 1e-4 * np.random.randn(32,1)\n",
    "nwalkers, ndim = pos.shape"
   ]
  },
  {
   "cell_type": "code",
   "execution_count": 11,
   "metadata": {
    "scrolled": true
   },
   "outputs": [
    {
     "name": "stderr",
     "output_type": "stream",
     "text": [
      "100%|██████████| 5000/5000 [00:10<00:00, 498.03it/s]\n"
     ]
    },
    {
     "data": {
      "text/plain": [
       "State([[1.71090698]\n",
       " [1.63198969]\n",
       " [1.67958747]\n",
       " [1.97487278]\n",
       " [1.49466461]\n",
       " [1.12180562]\n",
       " [1.43805975]\n",
       " [1.57408851]\n",
       " [1.64430457]\n",
       " [1.29906927]\n",
       " [1.85731359]\n",
       " [1.70517674]\n",
       " [1.3337276 ]\n",
       " [2.01498508]\n",
       " [1.83179787]\n",
       " [1.10024494]\n",
       " [1.5077417 ]\n",
       " [1.6378149 ]\n",
       " [1.02681988]\n",
       " [1.47625706]\n",
       " [1.78121456]\n",
       " [1.75204695]\n",
       " [1.26449118]\n",
       " [1.11794644]\n",
       " [1.38973716]\n",
       " [1.09316272]\n",
       " [1.77502987]\n",
       " [1.34835424]\n",
       " [1.97212364]\n",
       " [1.9971543 ]\n",
       " [1.54146708]\n",
       " [1.57102063]], log_prob=[0. 0. 0. 0. 0. 0. 0. 0. 0. 0. 0. 0. 0. 0. 0. 0. 0. 0. 0. 0. 0. 0. 0. 0.\n",
       " 0. 0. 0. 0. 0. 0. 0. 0.], blobs=[], random_state=('MT19937', array([ 533680158, 3913353593, 3583677028, 2510945496, 1099581572,\n",
       "        659841478, 3411298951, 2107701902,  127870886, 3857473647,\n",
       "        606119285,  881791183, 1662845175, 3979465258, 3633584939,\n",
       "        900550141, 2291138920, 2726486354, 2096564365, 3572237006,\n",
       "       1691008111, 3433594865,  265613003, 2288432912, 2437140059,\n",
       "       4094845063, 3423548302,  883938614, 3922132994, 2537315739,\n",
       "       1889189802,  187686079, 1694052822, 3010609547, 1287719766,\n",
       "       4111785927, 2410153403, 2591966307, 3434565186, 2028762669,\n",
       "       3656934918, 3088169590, 2456269996, 2271074032, 4171203094,\n",
       "       2847579452,  690154843, 1394857110,  978771165, 3773427855,\n",
       "       1377888704,  569621495, 3595019869,  952336114, 2763925334,\n",
       "       2645595514,  465249014,  720258027,  226756207, 2146247825,\n",
       "       2244227968, 2112833755,  190721037, 4119633753,  419658346,\n",
       "       3244956168, 2231784423, 3746223384, 2838865550, 1567073377,\n",
       "       2758095661, 3425503687,  639968640, 3347352268, 3645478457,\n",
       "       1178045686, 3435549492, 1421241381, 1409579573, 2634205783,\n",
       "       3002120902, 2948297953, 1591527669, 2407092002, 2218693382,\n",
       "       2283589426,  278601434,  216395269,   30881197, 3442815839,\n",
       "       4081024473, 2268315792,  534451863, 3103705816,  696475666,\n",
       "       3148423943, 1730637800, 2054889528,  214585554, 3390270264,\n",
       "       3419165987, 4294525668,  809790951, 3173357019, 3981283542,\n",
       "        983496474, 2575886182, 3885734768, 2838845051, 4010773112,\n",
       "        768255840, 1685493565, 3312161296, 1023097966, 2346811635,\n",
       "       1716825285, 4029311296, 3178845080, 1098205785, 3281972787,\n",
       "       1166438971, 2317533493, 3612931695, 2079195754, 1295289894,\n",
       "       1360272025,    8640972, 2886858558, 1890304876, 1503001025,\n",
       "        637650776, 4206913702,  627356155, 3696729910,  948391741,\n",
       "        235934971, 1408194050, 1571861851, 3491488064,  515998103,\n",
       "       3927764031, 1680511884,  783875139, 4028029701, 1468958743,\n",
       "       3841780779, 2811488962, 2370615491, 3085640850,  773287970,\n",
       "       3808247860, 2064287420,  333360260, 3598719124, 2558216957,\n",
       "       4273513550, 3310444690,  594033957, 1994074481, 3568702939,\n",
       "       4272153363, 1432415194, 3951426884, 4281286096,  641369414,\n",
       "       4176694038, 2337597511,  161184371, 1301378574, 2104782168,\n",
       "        745336468,  430757490,  756700212, 3336302982, 1826851714,\n",
       "       3490270623,  805483764, 2146976392,   51459721, 3900295812,\n",
       "       3448177700, 1469304529, 3491063714, 1115210022, 1429151196,\n",
       "       4132160865, 4246618322, 2796289052, 2272984783, 1191434952,\n",
       "       2991522760, 2435796985, 4043758662, 3727880099, 3873934677,\n",
       "       2063350520, 3133831227, 3268465607, 3683835633, 1205134639,\n",
       "       4036743301, 3191007555,   90076614, 3168620657,  884519583,\n",
       "       4114090994,  584751886,  152274854,  843193427, 3464604945,\n",
       "        176141264,  322133465, 2377543762, 2765360896, 1530871167,\n",
       "        599763219, 2367178608, 2580111299,  456475844, 2350239303,\n",
       "       1237441306, 2985001053, 2728230274, 4060254749, 1999316007,\n",
       "       2511215660,  424916582, 3799393065,  937366827, 3495172414,\n",
       "       1226485318, 2437331868, 1233314226, 2943536195, 2853543584,\n",
       "       2151229112, 3783982650, 1364403954, 3434826412, 2704981578,\n",
       "       1142181266, 1262078749, 2505303368, 1843987895, 3540111591,\n",
       "       1362960888, 3006791335, 2127064059,  903315003,   67080049,\n",
       "       3617012621, 3696559258,  103965580, 1461838986,  296903273,\n",
       "       1050641632, 3494370361, 3796988957, 4060104905, 3139781088,\n",
       "       3724431261, 1200256453, 2289772827, 2022852878, 3960096129,\n",
       "       2914877106,  130307879, 3663315592, 3929056878,  396843144,\n",
       "       3476130038, 1542677320, 1645105437, 3302663150, 1056563305,\n",
       "       1357335635,  582140475,   33458729, 1403507224, 2659074791,\n",
       "       3434963100,    6974138, 2666557405, 1743184638, 2249031185,\n",
       "        792175487, 1467366601, 4056622043, 2793629051, 4014963485,\n",
       "       3318365688,  639189746, 1099729232,  764999700, 2565500501,\n",
       "       4194193102,  645292494,    1027962, 1395970148, 3253799113,\n",
       "       4086313502, 2940681912, 1811391380, 2754983833,  714586579,\n",
       "       1531062900, 4246147874, 2509567750,  145786784,  166563908,\n",
       "        950770812,  292582006, 4076242448, 3521534116, 4214932702,\n",
       "        616325858, 2253144196,  317059375, 1610574911,  169590777,\n",
       "       2107537367,  459983526, 1781841191, 3878177293, 2215520806,\n",
       "       3694737004, 2730254211, 1941010827, 3826896342,  193750596,\n",
       "       2773895147, 3167069877, 2613299594, 3551262340, 1218110394,\n",
       "       1002508459, 1592481040,  384443288, 1079663143, 4203651579,\n",
       "        194843941,  119683430, 3782145313, 3410414111, 1850920878,\n",
       "       2903064295, 1293177710, 3654271097,  922658362,  359880508,\n",
       "        558038651, 3992082592, 1656294983,  548603068, 1441799194,\n",
       "       3197261714, 3667720070, 1847697320, 4106356213, 3240270765,\n",
       "        267789675, 4024096209, 1452394539, 1973369524, 2162658417,\n",
       "       3331839214, 3815810281, 4252859665, 2092762882, 4260519751,\n",
       "       4218151553,  739130235,  285624885, 1112930950,  705434536,\n",
       "       3235874896,  720769613, 1426056841, 3245583233, 3957115189,\n",
       "       3473924730, 1056907802, 4217710084, 1923745333,  926562995,\n",
       "       1998371564, 1231603839, 4060548946, 3492739139, 3779007360,\n",
       "       1511385211, 2959627434,  206540545, 3419317143, 2887986096,\n",
       "       3586349491,  121039865, 1933318194, 1995802531, 4253429851,\n",
       "       1109721694, 4203391581, 1534873973, 1257174256, 2555227748,\n",
       "       3434328176, 2929041613, 3832212453, 3358071839, 4162342642,\n",
       "        318352278, 3251231237, 3243783210, 1863158759,  843342557,\n",
       "       1605084119, 1574356624,  127705699, 1232447184, 3926981144,\n",
       "       3854269599, 3457798639, 1001447798, 3256974461, 2836784538,\n",
       "        528775610, 2434777136,  331664712, 3627950497, 2301468735,\n",
       "       2980639874, 4200937093, 2691148399, 3149185209,  117888718,\n",
       "        151764429,  477889329, 1762377247,   60357056, 2340565616,\n",
       "       2617357476, 4092957514,  812792545, 3671004240, 2067263579,\n",
       "       1356231252, 3143348403, 2174487770, 4163858318, 1666339979,\n",
       "       2965749724, 3804926605,  419198292,  153690760, 3471398866,\n",
       "       2596964118, 1763695686, 2201582648, 2280630768, 3563058364,\n",
       "       1177512109, 2336804403, 3231388424, 3565160163, 1431906529,\n",
       "       1598528274, 4206191823, 2151338933, 3565577490, 2308816619,\n",
       "       2292556309,   46805700, 2722164727,  272114859, 1890640606,\n",
       "        612748134, 2490849938, 2121654375, 3214263466, 4067244411,\n",
       "       2146925361, 2250641926, 1178446314, 2895388653, 1183594305,\n",
       "        888668579, 1566625914, 3414336125,  778313671, 3119085926,\n",
       "        442831616, 1361168361, 2593145077,  373526992, 1452028535,\n",
       "       1384914875, 1562837809, 2130396976,    5522715, 3046575640,\n",
       "        896122743, 4122098924, 1521554226, 4294398216, 2414473210,\n",
       "       2325722721,   10929929, 2677983465,   21294698, 2519080627,\n",
       "       4120056847, 1733465445, 2903767187, 3746479705, 2526787488,\n",
       "       3026737538, 4177095910,   91797705, 4173857977, 2185310822,\n",
       "       4116639287, 2845223267, 3359667085, 1614361692, 4118228677,\n",
       "       3056236355, 2605133882, 3736954788, 3803022269, 2211338632,\n",
       "        706570987,  468549721, 2941055172, 1933439356, 2119475398,\n",
       "       1506911438, 3781059904,  282571629, 1170620141, 3322092132,\n",
       "        508211145, 1602297668, 1352520496, 2851070070, 3417722310,\n",
       "        537422846, 3734665779, 1423756609,  716802472, 1950232851,\n",
       "       1194669122, 3463757451, 3971425439,  818362818, 4119583959,\n",
       "       3046893822, 4215255332, 1239942093,  299908862,  281034721,\n",
       "       3966447419, 3385817461, 2093445993, 3737373507, 2746238708,\n",
       "       2556584796,  261985310,  215444081, 2408293825, 3453222403,\n",
       "        583191267, 3298834553, 2687385353, 3306810232, 3075512224,\n",
       "       2984990298, 1433594960, 2106440850, 1298024663, 4253360092,\n",
       "        133936090,  711512052,  899856442, 4198779836, 2237407568,\n",
       "       3412406289, 3911306479, 4029052467, 3179833224,  938726764,\n",
       "       3469447876, 3889218460, 3926428109,  223791165, 2362368492,\n",
       "       1774250455,   39995818, 2838376150, 2834358000, 2394717471,\n",
       "       3911857947, 4274248710, 3049893595,  423677518,  394584239,\n",
       "       3000928177, 3452880327, 1127938167, 2529257594, 1534598528,\n",
       "       3613362733, 1669190563, 1122520353,  115142205, 1462046037,\n",
       "        691519508,  157241726, 3152584874,  439531036, 2825694915,\n",
       "       1260423439, 2588897678,  438804566, 1221673974], dtype=uint32), 349, 0, 0.0))"
      ]
     },
     "execution_count": 11,
     "metadata": {},
     "output_type": "execute_result"
    }
   ],
   "source": [
    "sampler = emcee.EnsembleSampler(nwalkers, ndim, log_probability, args=(a_i,))\n",
    "sampler.run_mcmc(pos, 5000, progress=True)"
   ]
  },
  {
   "cell_type": "code",
   "execution_count": 26,
   "metadata": {
    "scrolled": true
   },
   "outputs": [
    {
     "data": {
      "text/plain": [
       "Text(0.5, 0, 'step number')"
      ]
     },
     "execution_count": 26,
     "metadata": {},
     "output_type": "execute_result"
    },
    {
     "data": {
      "image/png": "[encoded data removed]",
      "text/plain": [
       "<Figure size 720x504 with 3 Axes>"
      ]
     },
     "metadata": {
      "needs_background": "light"
     },
     "output_type": "display_data"
    }
   ],
   "source": [
    "fig, axes = plt.subplots(3, figsize=(10,7), sharex = True)\n",
    "samples = sampler.get_chain()\n",
    "label = [\"tac\"]\n",
    "\n",
    "for i in range(ndim):\n",
    "    ax = axes[i]\n",
    "    ax.plot(samples[:, :, i], \"k\", alpha=0.3)\n",
    "    ax.set_xlim(0, len(samples))\n",
    "    ax.set_ylabel(label[i])\n",
    "    ax.yaxis.set_label_coords(-0.1, 0.5)\n",
    "axes[-1].set_xlabel(\"step number\")"
   ]
  },
  {
   "cell_type": "code",
   "execution_count": null,
   "metadata": {},
   "outputs": [],
   "source": []
  }
 ],
 "metadata": {
  "kernelspec": {
   "display_name": "Python 3",
   "language": "python",
   "name": "python3"
  },
  "language_info": {
   "codemirror_mode": {
    "name": "ipython",
    "version": 3
   },
   "file_extension": ".py",
   "mimetype": "text/x-python",
   "name": "python",
   "nbconvert_exporter": "python",
   "pygments_lexer": "ipython3",
   "version": "3.8.2"
  }
 },
 "nbformat": 4,
 "nbformat_minor": 4
}
