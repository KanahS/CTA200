{
 "cells": [
  {
   "cell_type": "raw",
   "metadata": {},
   "source": [
    "Working through the statistical elements of the project"
   ]
  },
  {
   "cell_type": "code",
   "execution_count": 53,
   "metadata": {},
   "outputs": [],
   "source": [
    "import numpy as np\n",
    "import matplotlib.pyplot as plt\n",
    "import seaborn as sns\n",
    "from sklearn.neighbors import KernelDensity"
   ]
  },
  {
   "cell_type": "code",
   "execution_count": 20,
   "metadata": {},
   "outputs": [
    {
     "name": "stdout",
     "output_type": "stream",
     "text": [
      "1.0\n",
      "375\n"
     ]
    }
   ],
   "source": [
    "tup_num = 25\n",
    "e_b = np.linspace(0, 0.7, tup_num)\n",
    "a_p = np.linspace(1, 5, tup_num)\n",
    "\n",
    "Np = 15\n",
    "\n",
    "Qex = []\n",
    "for x in range(4,7):\n",
    "    Q = 10**x\n",
    "    Qex.append(Q)\n",
    "\n",
    "tup_list = []\n",
    "\n",
    "for Q in Qex:\n",
    "    for e in e_b:\n",
    "        for a in a_p:\n",
    "            tup_list.append((Q,e,a,Np))\n",
    "print(tup_list[0][2])\n",
    "#Nq = len(Qex)\n",
    "#Ne = len(e_b)\n",
    "#Na = len(a_p)\n",
    "print(tup_num*Np)"
   ]
  },
  {
   "cell_type": "code",
   "execution_count": 37,
   "metadata": {},
   "outputs": [
    {
     "data": {
      "text/plain": [
       "[3, 9, 5, 2, 7]"
      ]
     },
     "execution_count": 37,
     "metadata": {},
     "output_type": "execute_result"
    }
   ],
   "source": [
    "rand = []\n",
    "a = [5, 2, 7]\n",
    "test = a + rand\n",
    "b = [3,9]\n",
    "tr = b + test\n",
    "tr"
   ]
  },
  {
   "cell_type": "code",
   "execution_count": 39,
   "metadata": {},
   "outputs": [
    {
     "name": "stdout",
     "output_type": "stream",
     "text": [
      "5625\n"
     ]
    }
   ],
   "source": [
    "#x = np.loadtxt(\"/cita/d/homes/home-2/ksmith/CTA_HW/raw_data_storage/SUNNY_raw_survival_time.npy\")\n",
    "# SUNNY_raw_survival_time_eb0.35_ap2.6666666666666665.npy\n",
    "\n",
    "raw_surv = []\n",
    "\n",
    "for num in range(tup_num*Np):\n",
    "    x = np.loadtxt(f\"/mnt/raid-cita/ksmith/CSTE_SUNNY/SUNNY_raw_survival_time_eb{tup_list[num][1]}_ap{tup_list[num][2]}.npy\")\n",
    "    raw_surv.extend(x)\n",
    "    \n",
    "print(len(raw_surv))\n",
    "    #print(len(x), x)\n",
    "# this data set will be \"x\""
   ]
  },
  {
   "cell_type": "code",
   "execution_count": 40,
   "metadata": {},
   "outputs": [
    {
     "name": "stdout",
     "output_type": "stream",
     "text": [
      "634.6651825433926\n",
      "(5625,) None\n"
     ]
    }
   ],
   "source": [
    "print(np.shape(raw_surv), print(raw_surv[0]))"
   ]
  },
  {
   "cell_type": "code",
   "execution_count": 62,
   "metadata": {},
   "outputs": [
    {
     "data": {
      "text/plain": [
       "<AxesSubplot:title={'center':'Survival Times Data Distribution'}, xlabel='Survival Times', ylabel='?'>"
      ]
     },
     "execution_count": 62,
     "metadata": {},
     "output_type": "execute_result"
    },
    {
     "data": {
      "image/png": "[encoded data removed]",
      "text/plain": [
       "<Figure size 432x288 with 1 Axes>"
      ]
     },
     "metadata": {
      "needs_background": "light"
     },
     "output_type": "display_data"
    }
   ],
   "source": [
    "plt.hist(raw_surv, density=True, stacked=True, bins=200)\n",
    "plt.yscale(\"log\")\n",
    "plt.xscale(\"log\")\n",
    "\n",
    "plt.xlabel(\"Survival Times\")\n",
    "plt.ylabel(\"?\")\n",
    "plt.title(\"Survival Times Data Distribution\")\n",
    "\n",
    "# add blue line showing the kernel density estimate (see density function help file to read details)\n",
    "#np.histogram()\n",
    "#lines(density(x), col=\"blue\")\n",
    "\n",
    "# add the actual data points along the bottom of the plot\n",
    "sns.rugplot(raw_surv)\n",
    "#KernelDensity(kernel='gaussian').fit(raw_surv)\n",
    "#rug(x)"
   ]
  },
  {
   "cell_type": "code",
   "execution_count": null,
   "metadata": {},
   "outputs": [],
   "source": []
  }
 ],
 "metadata": {
  "kernelspec": {
   "display_name": "Python 3",
   "language": "python",
   "name": "python3"
  },
  "language_info": {
   "codemirror_mode": {
    "name": "ipython",
    "version": 3
   },
   "file_extension": ".py",
   "mimetype": "text/x-python",
   "name": "python",
   "nbconvert_exporter": "python",
   "pygments_lexer": "ipython3",
   "version": "3.8.2"
  }
 },
 "nbformat": 4,
 "nbformat_minor": 4
}
