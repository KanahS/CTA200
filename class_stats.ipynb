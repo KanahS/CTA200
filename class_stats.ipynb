{
 "cells": [
  {
   "cell_type": "raw",
   "metadata": {},
   "source": [
    "Working through the statistical elements of the project"
   ]
  },
  {
   "cell_type": "code",
   "execution_count": 1,
   "metadata": {},
   "outputs": [],
   "source": [
    "import numpy as np\n",
    "import matplotlib.pyplot as plt\n",
    "import seaborn as sns"
   ]
  },
  {
   "cell_type": "code",
   "execution_count": 6,
   "metadata": {},
   "outputs": [
    {
     "name": "stdout",
     "output_type": "stream",
     "text": [
      "15 [ 1903.99554763  1903.99554763  1903.99554763  1269.33036509\n",
      "   634.66518254 62831.8530718   1269.33036509  1269.33036509\n",
      "  1269.33036509  1269.33036509  1269.33036509  1269.33036509\n",
      " 62831.8530718  62831.8530718  62831.8530718 ]\n"
     ]
    }
   ],
   "source": [
    "x = np.loadtxt(\"/cita/d/homes/home-2/ksmith/CTA_HW/raw_data_storage/SUNNY_raw_survival_time.npy\")\n",
    "print(len(x), x)\n",
    "# this data set will be \"x\""
   ]
  },
  {
   "cell_type": "code",
   "execution_count": 21,
   "metadata": {},
   "outputs": [
    {
     "data": {
      "text/plain": [
       "<AxesSubplot:title={'center':'Survival Times Data Distribution'}, xlabel='Survival Times', ylabel='?'>"
      ]
     },
     "execution_count": 21,
     "metadata": {},
     "output_type": "execute_result"
    },
    {
     "data": {
      "image/png": "[encoded data removed]",
      "text/plain": [
       "<Figure size 432x288 with 1 Axes>"
      ]
     },
     "metadata": {
      "needs_background": "light"
     },
     "output_type": "display_data"
    }
   ],
   "source": [
    "# make a histogram of these values, plotting the density (normalized frequency) is this the same as the sum of the\n",
    "    # histograms being normalized to 1?\n",
    "plt.hist(x, density=True, stacked=True, bins=15)\n",
    "plt.xlabel(\"Survival Times\")\n",
    "plt.ylabel(\"?\")\n",
    "plt.title(\"Survival Times Data Distribution\")\n",
    "\n",
    "# add blue line showing the kernel density estimate (see density function help file to read details)\n",
    "#np.histogram()\n",
    "#lines(density(x), col=\"blue\")\n",
    "\n",
    "\n",
    "# add the actual data points along the bottom of the plot\n",
    "sns.rugplot(x)\n",
    "#rug(x)\n",
    "\n",
    "# draw a box around everything\n",
    "#box()"
   ]
  },
  {
   "cell_type": "code",
   "execution_count": null,
   "metadata": {},
   "outputs": [],
   "source": []
  }
 ],
 "metadata": {
  "kernelspec": {
   "display_name": "Python 3",
   "language": "python",
   "name": "python3"
  },
  "language_info": {
   "codemirror_mode": {
    "name": "ipython",
    "version": 3
   },
   "file_extension": ".py",
   "mimetype": "text/x-python",
   "name": "python",
   "nbconvert_exporter": "python",
   "pygments_lexer": "ipython3",
   "version": "3.8.2"
  }
 },
 "nbformat": 4,
 "nbformat_minor": 4
}
