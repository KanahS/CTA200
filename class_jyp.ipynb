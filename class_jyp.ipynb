{
 "cells": [
  {
   "cell_type": "code",
   "execution_count": 1,
   "metadata": {},
   "outputs": [],
   "source": [
    "import numpy as np\n",
    "import matplotlib\n",
    "import matplotlib.pyplot as plt\n",
    "import rebound as rb"
   ]
  },
  {
   "cell_type": "code",
   "execution_count": 2,
   "metadata": {},
   "outputs": [],
   "source": [
    "tup_num = 7\n",
    "e_b = np.linspace(0, 0.7, tup_num)\n",
    "a_p = np.linspace(1, 5, tup_num)\n",
    "mass = list(np.linspace (0.1, 0.9, tup_num))\n",
    "Np = 5\n",
    "\n",
    "tup_list = []\n",
    "\n",
    "for e in e_b:\n",
    "    for a in a_p:\n",
    "        tup_list.append((e,a,Np))"
   ]
  },
  {
   "cell_type": "code",
   "execution_count": 12,
   "metadata": {},
   "outputs": [
    {
     "data": {
      "text/plain": [
       "[0.1,\n",
       " 0.23333333333333334,\n",
       " 0.3666666666666667,\n",
       " 0.5,\n",
       " 0.6333333333333333,\n",
       " 0.7666666666666666,\n",
       " 0.9]"
      ]
     },
     "execution_count": 12,
     "metadata": {},
     "output_type": "execute_result"
    }
   ],
   "source": [
    "mass"
   ]
  },
  {
   "cell_type": "code",
   "execution_count": 19,
   "metadata": {},
   "outputs": [],
   "source": [
    "def survival(initial):    \n",
    "    (eb, ap, Np) = initial\n",
    "\n",
    "    sim = rb.Simulation()\n",
    "    sim.integrator = \"whfast\"\n",
    "    \n",
    "    m1 = 1\n",
    "    mu = ratio\n",
    "    m2 = abs((m1*mu)/(1-mu))\n",
    "    sim.add(m=m1, hash=\"Binary 1\")\n",
    "    sim.add(m=m2, a=1, e= eb, hash=\"Binary 2\")\n",
    "    \n",
    "    #initializing Np massless planets\n",
    "    \n",
    "    for p in range(Np):\n",
    "        f_plan = np.random.rand()*2*np.pi\n",
    "        sim.add(m=0, a= ap, e=0, f= f_plan)\n",
    "    \n",
    "    #array to keep track of survival time\n",
    "    sim.move_to_com()\n",
    "    \n",
    "    #integrate\n",
    "    N_times = int(100)\n",
    "    N_orbit = (1e4)*2*np.pi\n",
    "    times = np.linspace(0,N_orbit,N_times)\n",
    "    surv = np.zeros(Np)\n",
    "    \n",
    "    for i, time in enumerate(times):\n",
    "            sim.integrate(time, exact_finish_time=0)\n",
    "            \n",
    "            for num in reversed(range(2, sim.N)):\n",
    "                p = sim.particles[num]\n",
    "\n",
    "                if (p.x**2 + p.y**2) > (100)**2:\n",
    "                    surv[num-2] = time\n",
    "                    print(f'removing planet {num}')\n",
    "                    sim.remove(num)\n",
    "\n",
    "            if sim.N==2:\n",
    "                break\n",
    "    surv[(surv==0)] = time\n",
    "    \n",
    "    print(f'simulation finished, {len(sim.particles)-2} planets remaining')\n",
    "    return np.mean(surv)"
   ]
  },
  {
   "cell_type": "code",
   "execution_count": 20,
   "metadata": {},
   "outputs": [],
   "source": [
    "def mass_ratio(m):\n",
    "    ratio_list = []\n",
    "    \n",
    "    for ratio in m:\n",
    "        pool = rb.InterruptiblePool(processes=16)\n",
    "        mapping = pool.map(func= survival, iterable= tup_list)\n",
    "    \n",
    "        ratio_list.append(mapping)\n",
    "    \n",
    "    return ratio_list"
   ]
  },
  {
   "cell_type": "code",
   "execution_count": 21,
   "metadata": {},
   "outputs": [
    {
     "ename": "NameError",
     "evalue": "name 'ratio' is not defined",
     "output_type": "error",
     "traceback": [
      "\u001b[0;31m---------------------------------------------------------------------------\u001b[0m",
      "\u001b[0;31mRemoteTraceback\u001b[0m                           Traceback (most recent call last)",
      "\u001b[0;31mRemoteTraceback\u001b[0m: \n\"\"\"\nTraceback (most recent call last):\n  File \"/opt/python/3.8.2/lib/python3.8/multiprocessing/pool.py\", line 125, in worker\n    result = (True, func(*args, **kwds))\n  File \"/opt/python/3.8.2/lib/python3.8/multiprocessing/pool.py\", line 48, in mapstar\n    return list(map(*args))\n  File \"<ipython-input-19-ab1e927dddd3>\", line 8, in survival\n    mu = ratio\nNameError: name 'ratio' is not defined\n\"\"\"",
      "\nThe above exception was the direct cause of the following exception:\n",
      "\u001b[0;31mNameError\u001b[0m                                 Traceback (most recent call last)",
      "\u001b[0;32m<timed eval>\u001b[0m in \u001b[0;36m<module>\u001b[0;34m\u001b[0m\n",
      "\u001b[0;32m<ipython-input-20-b8e957d9b759>\u001b[0m in \u001b[0;36mmass_ratio\u001b[0;34m(m)\u001b[0m\n\u001b[1;32m      4\u001b[0m     \u001b[0;32mfor\u001b[0m \u001b[0mratio\u001b[0m \u001b[0;32min\u001b[0m \u001b[0mm\u001b[0m\u001b[0;34m:\u001b[0m\u001b[0;34m\u001b[0m\u001b[0;34m\u001b[0m\u001b[0m\n\u001b[1;32m      5\u001b[0m         \u001b[0mpool\u001b[0m \u001b[0;34m=\u001b[0m \u001b[0mrb\u001b[0m\u001b[0;34m.\u001b[0m\u001b[0mInterruptiblePool\u001b[0m\u001b[0;34m(\u001b[0m\u001b[0mprocesses\u001b[0m\u001b[0;34m=\u001b[0m\u001b[0;36m16\u001b[0m\u001b[0;34m)\u001b[0m\u001b[0;34m\u001b[0m\u001b[0;34m\u001b[0m\u001b[0m\n\u001b[0;32m----> 6\u001b[0;31m         \u001b[0mmapping\u001b[0m \u001b[0;34m=\u001b[0m \u001b[0mpool\u001b[0m\u001b[0;34m.\u001b[0m\u001b[0mmap\u001b[0m\u001b[0;34m(\u001b[0m\u001b[0mfunc\u001b[0m\u001b[0;34m=\u001b[0m \u001b[0msurvival\u001b[0m\u001b[0;34m,\u001b[0m \u001b[0miterable\u001b[0m\u001b[0;34m=\u001b[0m \u001b[0mtup_list\u001b[0m\u001b[0;34m)\u001b[0m\u001b[0;34m\u001b[0m\u001b[0;34m\u001b[0m\u001b[0m\n\u001b[0m\u001b[1;32m      7\u001b[0m \u001b[0;34m\u001b[0m\u001b[0m\n\u001b[1;32m      8\u001b[0m         \u001b[0mratio_list\u001b[0m\u001b[0;34m.\u001b[0m\u001b[0mappend\u001b[0m\u001b[0;34m(\u001b[0m\u001b[0mmapping\u001b[0m\u001b[0;34m)\u001b[0m\u001b[0;34m\u001b[0m\u001b[0;34m\u001b[0m\u001b[0m\n",
      "\u001b[0;32m/opt/python/3.8.2/lib/python3.8/site-packages/rebound/interruptible_pool.py\u001b[0m in \u001b[0;36mmap\u001b[0;34m(self, func, iterable, chunksize)\u001b[0m\n\u001b[1;32m     92\u001b[0m         \u001b[0;32mwhile\u001b[0m \u001b[0;32mTrue\u001b[0m\u001b[0;34m:\u001b[0m\u001b[0;34m\u001b[0m\u001b[0;34m\u001b[0m\u001b[0m\n\u001b[1;32m     93\u001b[0m             \u001b[0;32mtry\u001b[0m\u001b[0;34m:\u001b[0m\u001b[0;34m\u001b[0m\u001b[0;34m\u001b[0m\u001b[0m\n\u001b[0;32m---> 94\u001b[0;31m                 \u001b[0;32mreturn\u001b[0m \u001b[0mr\u001b[0m\u001b[0;34m.\u001b[0m\u001b[0mget\u001b[0m\u001b[0;34m(\u001b[0m\u001b[0mself\u001b[0m\u001b[0;34m.\u001b[0m\u001b[0mwait_timeout\u001b[0m\u001b[0;34m)\u001b[0m\u001b[0;34m\u001b[0m\u001b[0;34m\u001b[0m\u001b[0m\n\u001b[0m\u001b[1;32m     95\u001b[0m             \u001b[0;32mexcept\u001b[0m \u001b[0mTimeoutError\u001b[0m\u001b[0;34m:\u001b[0m\u001b[0;34m\u001b[0m\u001b[0;34m\u001b[0m\u001b[0m\n\u001b[1;32m     96\u001b[0m                 \u001b[0;32mpass\u001b[0m\u001b[0;34m\u001b[0m\u001b[0;34m\u001b[0m\u001b[0m\n",
      "\u001b[0;32m/opt/python/3.8.2/lib/python3.8/multiprocessing/pool.py\u001b[0m in \u001b[0;36mget\u001b[0;34m(self, timeout)\u001b[0m\n\u001b[1;32m    766\u001b[0m             \u001b[0;32mreturn\u001b[0m \u001b[0mself\u001b[0m\u001b[0;34m.\u001b[0m\u001b[0m_value\u001b[0m\u001b[0;34m\u001b[0m\u001b[0;34m\u001b[0m\u001b[0m\n\u001b[1;32m    767\u001b[0m         \u001b[0;32melse\u001b[0m\u001b[0;34m:\u001b[0m\u001b[0;34m\u001b[0m\u001b[0;34m\u001b[0m\u001b[0m\n\u001b[0;32m--> 768\u001b[0;31m             \u001b[0;32mraise\u001b[0m \u001b[0mself\u001b[0m\u001b[0;34m.\u001b[0m\u001b[0m_value\u001b[0m\u001b[0;34m\u001b[0m\u001b[0;34m\u001b[0m\u001b[0m\n\u001b[0m\u001b[1;32m    769\u001b[0m \u001b[0;34m\u001b[0m\u001b[0m\n\u001b[1;32m    770\u001b[0m     \u001b[0;32mdef\u001b[0m \u001b[0m_set\u001b[0m\u001b[0;34m(\u001b[0m\u001b[0mself\u001b[0m\u001b[0;34m,\u001b[0m \u001b[0mi\u001b[0m\u001b[0;34m,\u001b[0m \u001b[0mobj\u001b[0m\u001b[0;34m)\u001b[0m\u001b[0;34m:\u001b[0m\u001b[0;34m\u001b[0m\u001b[0;34m\u001b[0m\u001b[0m\n",
      "\u001b[0;31mNameError\u001b[0m: name 'ratio' is not defined"
     ]
    }
   ],
   "source": [
    "%%time\n",
    "mass_ratio(mass)"
   ]
  },
  {
   "cell_type": "code",
   "execution_count": null,
   "metadata": {
    "scrolled": true
   },
   "outputs": [],
   "source": [
    "%%time\n",
    "pool = rb.InterruptiblePool(processes=16)\n",
    "mapping = pool.map(func= survival, iterable= tup_list)"
   ]
  },
  {
   "cell_type": "code",
   "execution_count": null,
   "metadata": {},
   "outputs": [],
   "source": [
    "figure = np.reshape(mapping, [tup_num,tup_num])\n",
    "plt.pcolormesh(e_b, a_p, figure.T, shading='auto')\n",
    "plt.title('Mean Survival Times')\n",
    "plt.xlabel('Binary Eccentricity (e)')\n",
    "plt.ylabel('Planetary Semi-Major Axis (a)')\n",
    "plt.xlim(0.0,0.7)\n",
    "plt.ylim(1,5)\n",
    "\n",
    "a_b = 2.278 + 3.824*e_b - 1.71*(e_b**2)\n",
    "plt.plot(e_b, a_b, color='white')\n",
    "plt.scatter(e_b, a_b, color='white')\n",
    "plt.colorbar(label='Test Particle Survival Times')"
   ]
  },
  {
   "cell_type": "code",
   "execution_count": null,
   "metadata": {},
   "outputs": [],
   "source": [
    "sa1 = rb.SimulationArchive('eb0.058_ap3.833_Np15.0_tup25.0.bin')\n",
    "print(\"Number of snapshots: %d\" % len(sa1))\n",
    "print(sa1[1].t)"
   ]
  },
  {
   "cell_type": "code",
   "execution_count": null,
   "metadata": {},
   "outputs": [],
   "source": [
    "# Functions to Plot Orbital evolution of Individual Planets\n",
    "\n",
    "def orbit(archive):\n",
    "    sim_arc = rb.SimulationArchive(archive)\n",
    "    \n",
    "    x_arr = []\n",
    "    y_arr = []\n",
    "    \n",
    "    for snap in range(len(sim_arc)): \n",
    "        \n",
    "        for i in range(2, sim_arc[snap].N):\n",
    "            base = sim_arc[snap].particles[i]\n",
    "        \n",
    "            orb_element = base.a\n",
    "            time = sim_arc[snap].t\n",
    "            \n",
    "            if orb_element not in y_arr:\n",
    "                y_arr.append(orb_element)\n",
    "            #if time not in x_arr:\n",
    "                x_arr.append(time)\n",
    "    \n",
    "    fig = plt.figure(figsize=(50,20))\n",
    "    plt.xlabel(\"Simulation Time\", fontsize=35)\n",
    "    plt.ylabel(\"Semi-Major Axis\", fontsize=35)\n",
    "    #plt.plot(x_arr,y_arr)\n",
    "    plt.scatter(x_arr,y_arr, s=2, color='teal', marker=\",\")"
   ]
  },
  {
   "cell_type": "code",
   "execution_count": null,
   "metadata": {
    "scrolled": false
   },
   "outputs": [],
   "source": [
    "orbit('eb0.058_ap3.833_Np15.0_tup25.0.bin')"
   ]
  },
  {
   "cell_type": "code",
   "execution_count": null,
   "metadata": {
    "scrolled": true
   },
   "outputs": [],
   "source": [
    "file = open(\"SUNNY_map_tup25plan15.bin\", \"r\")\n",
    "test = file.readlines()\n",
    "newlist = [line.rstrip(\"\\n\") for line in test]\n",
    "mapper = np.reshape(newlist, [25,25])\n",
    "print(\"Length of mapper:\", len(mapper), mapper)\n",
    "file.close()"
   ]
  },
  {
   "cell_type": "code",
   "execution_count": null,
   "metadata": {},
   "outputs": [],
   "source": [
    "tup = 25\n",
    "e_bin = np.linspace(0, 0.7, tup)\n",
    "a_plan = np.linspace(1, 5, tup)\n",
    "Nplan = 15\n",
    "tuple_list = []\n",
    "\n",
    "for e in e_bin:\n",
    "    for a in a_plan:\n",
    "        tuple_list.append((e,a,Nplan))\n",
    "len(tuple_list)"
   ]
  },
  {
   "cell_type": "code",
   "execution_count": null,
   "metadata": {
    "scrolled": true
   },
   "outputs": [],
   "source": [
    "fig1 = plt.figure()\n",
    "figure = np.array(mapper).astype(float)\n",
    "\n",
    "im=plt.pcolormesh(e_bin, a_plan, figure.T, shading='auto', vmin=0, vmax=1e4*2*np.pi)\n",
    "\n",
    "plt.title('Mean Survival Times')\n",
    "plt.xlabel('Binary Eccentricity (e)')\n",
    "plt.ylabel('Planetary Semi-Major Axis (a)')\n",
    "plt.xlim(0.0,0.7)\n",
    "plt.ylim(1,5)\n",
    "\n",
    "a_bin = 2.278 + 3.824*e_bin - 1.71*(e_bin**2)\n",
    "plt.plot(e_bin, a_bin, color='white')\n",
    "plt.scatter(e_bin, a_bin, color='white')\n",
    "\n",
    "plt.colorbar(im, label='Test Particle Survival Times')"
   ]
  },
  {
   "cell_type": "code",
   "execution_count": null,
   "metadata": {},
   "outputs": [],
   "source": []
  }
 ],
 "metadata": {
  "kernelspec": {
   "display_name": "Python 3",
   "language": "python",
   "name": "python3"
  },
  "language_info": {
   "codemirror_mode": {
    "name": "ipython",
    "version": 3
   },
   "file_extension": ".py",
   "mimetype": "text/x-python",
   "name": "python",
   "nbconvert_exporter": "python",
   "pygments_lexer": "ipython3",
   "version": "3.8.2"
  }
 },
 "nbformat": 4,
 "nbformat_minor": 4
}
