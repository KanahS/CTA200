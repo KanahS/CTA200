{
 "cells": [
  {
   "cell_type": "code",
   "execution_count": 1,
   "metadata": {},
   "outputs": [],
   "source": [
    "# Program to calculate binary evolution from constant time lag formalism\n",
    "\n",
    "import numpy as np\n",
    "import rebound as rb\n",
    "import reboundx as rx\n",
    "import matplotlib.pyplot as plt\n",
    "from matplotlib.pyplot import cm\n",
    "from scipy.integrate import odeint\n",
    "from scipy.integrate import quad\n",
    "import scipy\n",
    "from scipy import integrate"
   ]
  },
  {
   "cell_type": "code",
   "execution_count": 2,
   "metadata": {},
   "outputs": [],
   "source": [
    "def N(e):\n",
    "    num = 1. + 15./2.*e**2. + 45./8.*e**4. + 5./16.*e**6.\n",
    "    den = (1.-e**2.)**6.\n",
    "    return num/den"
   ]
  },
  {
   "cell_type": "code",
   "execution_count": 3,
   "metadata": {},
   "outputs": [],
   "source": [
    "def Na(e):\n",
    "    num = 1. + 31./2.*e**2. + 255./8.*e**4. + 185./16.*e**6. + 25./64.*e**8.\n",
    "    den = (1.-e**2.)**(15./2.)\n",
    "    return num/den"
   ]
  },
  {
   "cell_type": "code",
   "execution_count": 4,
   "metadata": {},
   "outputs": [],
   "source": [
    "def Omegae(e):\n",
    "    num = 1. + 3./2.*e**2. + 1./8.*e**4.\n",
    "    den = (1.-e**2.)**5.\n",
    "    return num/den"
   ]
  },
  {
   "cell_type": "code",
   "execution_count": 5,
   "metadata": {},
   "outputs": [],
   "source": [
    "def Ne(e):\n",
    "    num = 1. + 15./4.*e**2. + 15./8.*e**4. + 5./64.*e**6.\n",
    "    den = (1.-e**2.)**(13./2.)\n",
    "    return num/den"
   ]
  },
  {
   "cell_type": "code",
   "execution_count": 6,
   "metadata": {},
   "outputs": [],
   "source": [
    "def Omega(e):\n",
    "    num = 1. + 3.*e**2. + 3./8.*e**4.\n",
    "    den = (1.-e**2.)**(9./2.)\n",
    "    return num/den"
   ]
  },
  {
   "cell_type": "code",
   "execution_count": 7,
   "metadata": {},
   "outputs": [],
   "source": [
    "def Fe(e):\n",
    "    om_eq = N(e)/Omega(e)  # This is the \"pseudo-synchronous\" rotation\n",
    "    return Omegae(e)*om_eq - 18./11.*Ne(e)"
   ]
  },
  {
   "cell_type": "code",
   "execution_count": 8,
   "metadata": {},
   "outputs": [],
   "source": [
    "def Fa(e):\n",
    "    om_eq = N(e)/Omega(e)  # This is the \"pseudo-synchronous\" rotation\n",
    "    return 4./11.*(N(e)*om_eq - Na(e))"
   ]
  },
  {
   "cell_type": "code",
   "execution_count": null,
   "metadata": {},
   "outputs": [],
   "source": [
    "\"\"\"# Ordinary differential equation integrate to get tidal evolution\n",
    "# Parameters: \n",
    "# orb = (a[0],e[0]) initial orbital elements of binary\n",
    "# time is time array you integrate simulation over\n",
    "# mu is binary mass ratio M_2/M_1 *not* reduced mass\"\"\""
   ]
  },
  {
   "cell_type": "code",
   "execution_count": 26,
   "metadata": {
    "scrolled": true
   },
   "outputs": [],
   "source": [
    "# Loading REBOUND  and REBOUNDx simulation archives\n",
    "sim = None\n",
    "\n",
    "sim = rx.SimulationArchive('eb0.525_ap4.500_Np15.0_tup25.0_Q10000.0_tau0.0030.bin', \n",
    "                           rebxfilename='xarchive.bin')\n",
    "\n",
    "orb = []\n",
    "\n",
    "e = sim[0][0].particles[1].e\n",
    "a = sim[0][0].particles[1].a\n",
    "    \n",
    "orb.append((a,e))\n",
    "\n",
    "k_2 = sim[0][0].particles[0].params[\"tctl_k1\"] # 0.035 for primary binary\n",
    "tau = 1E-2\n",
    "#tau = sim[0][0].particles[0].params[\"tctl_tau\"] # 3.03E-5\n",
    "\n",
    "M1 = 1\n",
    "M2 = 1\n",
    "MU = 0.5\n",
    "G = 1\n",
    "#G = 6.67E-11\n",
    "R_star = 0.1*(1-0.5)**(1/3) # (1-mu)\n",
    "NB = sim[0][0].particles[1].n\n",
    "K = ((3/2)*(NB**2)*k_2*tau)*((G*M1**2)/R_star)*((M2/M1)**2)*(R_star/a)**6"
   ]
  },
  {
   "cell_type": "code",
   "execution_count": 38,
   "metadata": {
    "scrolled": true
   },
   "outputs": [
    {
     "name": "stdout",
     "output_type": "stream",
     "text": [
      "1.4142135623730951 1.4142135623730951\n"
     ]
    }
   ],
   "source": [
    "nb = np.sqrt(G*(M1+M2)/a**3)\n",
    "print(nb, NB)"
   ]
  },
  {
   "cell_type": "code",
   "execution_count": 28,
   "metadata": {},
   "outputs": [],
   "source": [
    "def TideEq(orbit,time,mu=MU,nb=NB, k=K):\n",
    "    \n",
    "    ab = orbit[0]\n",
    "    eb = orbit[1]\n",
    "        \n",
    "    dedt = ((11*eb*ab*k)/(G*M1*M2))*(Fe(eb)) # differential equation for eccentricity\n",
    "    dadt = ((4*k*ab**2)/(G*M1*M2))*(Fa(eb)) # Differential equation for semi-major axis\n",
    "    \n",
    "    return [dadt,dedt] # Returns differential equation for a and e"
   ]
  },
  {
   "cell_type": "code",
   "execution_count": 39,
   "metadata": {},
   "outputs": [],
   "source": [
    "ab_ev = []\n",
    "eb_ev = []\n",
    "\n",
    "    # This is where I tidally-circularize the population, you will likely want to do this for only one binary at a time\n",
    "t_end = t_end = sim[62][0].t\n",
    "tb = np.linspace(0.,t_end)\t\t\t\t# Array of times to calculate ODE over\n",
    "\n",
    "orbb = (orb[0][0],orb[0][1]) # of the form (ab,eb)\t\t\t# Initializing orbital elements\n",
    "\n",
    "solb = odeint(TideEq,orbb,tb, args=(MU,))\t\t# Saving the time evolution of the arrays\n",
    "\n",
    "ab_ev = solb[:,0]\n",
    "eb_ev = solb[:,1]"
   ]
  },
  {
   "cell_type": "code",
   "execution_count": 40,
   "metadata": {},
   "outputs": [
    {
     "name": "stdout",
     "output_type": "stream",
     "text": [
      "[0.525      0.52482756 0.52465551 0.52448387 0.52431262 0.52414176\n",
      " 0.5239713  0.52380122 0.52363154 0.52346224 0.52329332 0.52312479\n",
      " 0.52295663 0.52278885 0.52262145 0.52245442 0.52228777 0.52212148\n",
      " 0.52195557 0.52179002 0.52162484 0.52146002 0.52129557 0.52113147\n",
      " 0.52096773 0.52080435 0.52064132 0.52047865 0.52031633 0.52015436\n",
      " 0.51999274 0.51983146 0.51967053 0.51950995 0.5193497  0.5191898\n",
      " 0.51903023 0.518871   0.51871211 0.51855355 0.51839533 0.51823743\n",
      " 0.51807987 0.51792263 0.51776572 0.51760913 0.51745287 0.51729693\n",
      " 0.51714131 0.51698601]\n"
     ]
    }
   ],
   "source": [
    "print(eb_ev)"
   ]
  },
  {
   "cell_type": "code",
   "execution_count": 41,
   "metadata": {},
   "outputs": [
    {
     "name": "stdout",
     "output_type": "stream",
     "text": [
      "[1.         0.99990914 0.99981854 0.99972822 0.99963816 0.99954837\n",
      " 0.99945885 0.99936959 0.9992806  0.99919186 0.99910338 0.99901516\n",
      " 0.9989272  0.99883949 0.99875204 0.99866483 0.99857788 0.99849118\n",
      " 0.99840472 0.99831851 0.99823255 0.99814683 0.99806135 0.99797612\n",
      " 0.99789112 0.99780637 0.99772185 0.99763757 0.99755352 0.99746971\n",
      " 0.99738613 0.99730278 0.99721966 0.99713677 0.99705411 0.99697167\n",
      " 0.99688946 0.99680748 0.99672571 0.99664417 0.99656285 0.99648175\n",
      " 0.99640087 0.99632021 0.99623976 0.99615953 0.99607951 0.9959997\n",
      " 0.99592011 0.99584073]\n"
     ]
    }
   ],
   "source": [
    "print(ab_ev)"
   ]
  },
  {
   "cell_type": "code",
   "execution_count": 42,
   "metadata": {},
   "outputs": [
    {
     "data": {
      "text/plain": [
       "(50,)"
      ]
     },
     "execution_count": 42,
     "metadata": {},
     "output_type": "execute_result"
    }
   ],
   "source": [
    "np.shape(eb_ev)"
   ]
  },
  {
   "cell_type": "code",
   "execution_count": 43,
   "metadata": {},
   "outputs": [
    {
     "data": {
      "text/plain": [
       "Text(0.5, 1.0, 'Binary Eccentricity Evolution')"
      ]
     },
     "execution_count": 43,
     "metadata": {},
     "output_type": "execute_result"
    },
    {
     "data": {
      "image/png": "[encoded data removed]",
      "text/plain": [
       "<Figure size 432x288 with 1 Axes>"
      ]
     },
     "metadata": {
      "needs_background": "light"
     },
     "output_type": "display_data"
    }
   ],
   "source": [
    "fig = plt.figure()\n",
    "plt.scatter(tb, eb_ev)\n",
    "#plt.ylim([0,0.55])\n",
    "plt.xlabel(\"Time\")\n",
    "plt.ylabel(\"Binary Eccentricity\")\n",
    "plt.title(\"Binary Eccentricity Evolution\")"
   ]
  },
  {
   "cell_type": "code",
   "execution_count": 44,
   "metadata": {},
   "outputs": [
    {
     "data": {
      "text/plain": [
       "Text(0.5, 1.0, 'Binary Semi-Major Axis Evolution')"
      ]
     },
     "execution_count": 44,
     "metadata": {},
     "output_type": "execute_result"
    },
    {
     "data": {
      "image/png": "[encoded data removed]",
      "text/plain": [
       "<Figure size 432x288 with 1 Axes>"
      ]
     },
     "metadata": {
      "needs_background": "light"
     },
     "output_type": "display_data"
    }
   ],
   "source": [
    "fig = plt.figure()\n",
    "plt.scatter(tb, ab_ev)\n",
    "plt.xlabel(\"Time\")\n",
    "plt.ylabel(\"Binary Semi-Major Axis\")\n",
    "plt.title(\"Binary Semi-Major Axis Evolution\")"
   ]
  },
  {
   "cell_type": "code",
   "execution_count": null,
   "metadata": {},
   "outputs": [],
   "source": []
  }
 ],
 "metadata": {
  "kernelspec": {
   "display_name": "Python 3",
   "language": "python",
   "name": "python3"
  },
  "language_info": {
   "codemirror_mode": {
    "name": "ipython",
    "version": 3
   },
   "file_extension": ".py",
   "mimetype": "text/x-python",
   "name": "python",
   "nbconvert_exporter": "python",
   "pygments_lexer": "ipython3",
   "version": "3.8.2"
  }
 },
 "nbformat": 4,
 "nbformat_minor": 4
}
